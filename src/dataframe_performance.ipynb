{
  "nbformat": 4,
  "nbformat_minor": 0,
  "metadata": {
    "colab": {
      "name": "dataframe_performance.ipynb",
      "provenance": [],
      "authorship_tag": "ABX9TyP0n3bdK/x2jx1AyK2jIu93",
      "include_colab_link": true
    },
    "kernelspec": {
      "name": "python3",
      "display_name": "Python 3"
    },
    "language_info": {
      "name": "python"
    }
  },
  "cells": [
    {
      "cell_type": "markdown",
      "metadata": {
        "id": "view-in-github",
        "colab_type": "text"
      },
      "source": [
        "<a href=\"https://colab.research.google.com/github/cotozelo/Python_diversos/blob/main/src/dataframe_performance.ipynb\" target=\"_parent\"><img src=\"https://colab.research.google.com/assets/colab-badge.svg\" alt=\"Open In Colab\"/></a>"
      ]
    },
    {
      "cell_type": "markdown",
      "metadata": {
        "id": "aHEm5NNoGoec"
      },
      "source": [
        "# DataFrame <a href=\"https://pandas.pydata.org/pandas-docs/stable/reference/api/pandas.DataFrame.html\"></a>\n",
        "\n",
        "É sabido por todos que o DataFrame, é um estrutura de dados presente na biliotebiblioteca <a href='https://pandas.pydata.org/'>pandas</a> também é sabido que os DataFrames tem inúmeros métodos de analise. \n",
        "\n",
        "Mas esse notebook, tem como objetivo mostrar algumas comprações entre uma estrutura DataFrame e uma estrutura de list e dict. \n",
        "\n",
        "No final do notebook, faremos nossa conclusão.\n"
      ]
    },
    {
      "cell_type": "code",
      "metadata": {
        "id": "VAdhq42kLGb5"
      },
      "source": [
        "from sklearn.datasets import load_iris\n",
        "import pandas as pd\n",
        "import numpy as np\n",
        "import time\n",
        "import sys\n",
        "resultados = {}\n",
        "resultados['tamanho'] = {'dataframe': '', 'list_dict': ''}\n",
        "resultados['tempo_ler'] = {'dataframe': '', 'list_dict': ''}\n",
        "resultados['tempo_escrever'] = {'dataframe': '', 'list_dict': ''}"
      ],
      "execution_count": null,
      "outputs": []
    },
    {
      "cell_type": "code",
      "metadata": {
        "colab": {
          "base_uri": "https://localhost:8080/",
          "height": 203
        },
        "id": "dVFc3bNOGjPb",
        "outputId": "cf544397-cac1-45f7-c3d1-8756aeea6a88"
      },
      "source": [
        "iris = load_iris()\n",
        "df_iris = pd.DataFrame(data=np.c_[iris['data'], iris['target']], columns= iris['feature_names'] + ['target'])\n",
        "df_iris.head()"
      ],
      "execution_count": null,
      "outputs": [
        {
          "output_type": "execute_result",
          "data": {
            "text/html": [
              "<div>\n",
              "<style scoped>\n",
              "    .dataframe tbody tr th:only-of-type {\n",
              "        vertical-align: middle;\n",
              "    }\n",
              "\n",
              "    .dataframe tbody tr th {\n",
              "        vertical-align: top;\n",
              "    }\n",
              "\n",
              "    .dataframe thead th {\n",
              "        text-align: right;\n",
              "    }\n",
              "</style>\n",
              "<table border=\"1\" class=\"dataframe\">\n",
              "  <thead>\n",
              "    <tr style=\"text-align: right;\">\n",
              "      <th></th>\n",
              "      <th>sepal length (cm)</th>\n",
              "      <th>sepal width (cm)</th>\n",
              "      <th>petal length (cm)</th>\n",
              "      <th>petal width (cm)</th>\n",
              "      <th>target</th>\n",
              "    </tr>\n",
              "  </thead>\n",
              "  <tbody>\n",
              "    <tr>\n",
              "      <th>0</th>\n",
              "      <td>5.1</td>\n",
              "      <td>3.5</td>\n",
              "      <td>1.4</td>\n",
              "      <td>0.2</td>\n",
              "      <td>0.0</td>\n",
              "    </tr>\n",
              "    <tr>\n",
              "      <th>1</th>\n",
              "      <td>4.9</td>\n",
              "      <td>3.0</td>\n",
              "      <td>1.4</td>\n",
              "      <td>0.2</td>\n",
              "      <td>0.0</td>\n",
              "    </tr>\n",
              "    <tr>\n",
              "      <th>2</th>\n",
              "      <td>4.7</td>\n",
              "      <td>3.2</td>\n",
              "      <td>1.3</td>\n",
              "      <td>0.2</td>\n",
              "      <td>0.0</td>\n",
              "    </tr>\n",
              "    <tr>\n",
              "      <th>3</th>\n",
              "      <td>4.6</td>\n",
              "      <td>3.1</td>\n",
              "      <td>1.5</td>\n",
              "      <td>0.2</td>\n",
              "      <td>0.0</td>\n",
              "    </tr>\n",
              "    <tr>\n",
              "      <th>4</th>\n",
              "      <td>5.0</td>\n",
              "      <td>3.6</td>\n",
              "      <td>1.4</td>\n",
              "      <td>0.2</td>\n",
              "      <td>0.0</td>\n",
              "    </tr>\n",
              "  </tbody>\n",
              "</table>\n",
              "</div>"
            ],
            "text/plain": [
              "   sepal length (cm)  sepal width (cm)  ...  petal width (cm)  target\n",
              "0                5.1               3.5  ...               0.2     0.0\n",
              "1                4.9               3.0  ...               0.2     0.0\n",
              "2                4.7               3.2  ...               0.2     0.0\n",
              "3                4.6               3.1  ...               0.2     0.0\n",
              "4                5.0               3.6  ...               0.2     0.0\n",
              "\n",
              "[5 rows x 5 columns]"
            ]
          },
          "metadata": {
            "tags": []
          },
          "execution_count": 2
        }
      ]
    },
    {
      "cell_type": "code",
      "metadata": {
        "id": "pempe6FdSHYH"
      },
      "source": [
        "resultados['tamanho']['dataframe'] = df_iris.memory_usage(index=True, deep=True).sum()"
      ],
      "execution_count": null,
      "outputs": []
    },
    {
      "cell_type": "code",
      "metadata": {
        "id": "JgSKSH_lMqdu"
      },
      "source": [
        "l_iris = []\n",
        "for index, row in df_iris.iterrows():\n",
        "    l_iris.append(row.to_dict())\n",
        "resultados['tamanho']['list_dict'] = sys.getsizeof(l_iris)"
      ],
      "execution_count": null,
      "outputs": []
    },
    {
      "cell_type": "code",
      "metadata": {
        "id": "AL_M2GNlSQ0T"
      },
      "source": [
        "tempo_inicio = time.perf_counter()\n",
        "df_iris_selecao = df_iris[df_iris['target'] == 0].head()\n",
        "resultados['tempo_ler']['dataframe'] = time.perf_counter() - tempo_inicio"
      ],
      "execution_count": null,
      "outputs": []
    },
    {
      "cell_type": "code",
      "metadata": {
        "id": "NepGnyGiT8mD"
      },
      "source": [
        "tempo_inicio = time.perf_counter()\n",
        "l_iris_selecao = []\n",
        "for valor in l_iris:\n",
        "  if valor['target'] == 0:\n",
        "    l_iris_selecao.append(valor)\n",
        "resultados['tempo_ler']['list_dict'] = time.perf_counter() - tempo_inicio"
      ],
      "execution_count": null,
      "outputs": []
    },
    {
      "cell_type": "code",
      "metadata": {
        "id": "WvlQwOfIVnFc"
      },
      "source": [
        "df_iris_2 = df_iris.copy()\n",
        "tempo_inicio = time.perf_counter()\n",
        "df_iris_2.loc[df_iris_2['target'] == 0, 'target'] = 'setosa'\n",
        "resultados['tempo_escrever']['dataframe'] = time.perf_counter() - tempo_inicio"
      ],
      "execution_count": null,
      "outputs": []
    },
    {
      "cell_type": "code",
      "metadata": {
        "id": "upbIruhZe_2o"
      },
      "source": [
        "tempo_inicio = time.perf_counter()\n",
        "for valor in l_iris:\n",
        "  if valor['target'] == 0:\n",
        "    valor['target'] = 'setosa'\n",
        "resultados['tempo_escrever']['list_dict'] = time.perf_counter() - tempo_inicio"
      ],
      "execution_count": null,
      "outputs": []
    },
    {
      "cell_type": "code",
      "metadata": {
        "colab": {
          "base_uri": "https://localhost:8080/"
        },
        "id": "hfn1pfwNgHcv",
        "outputId": "9677f491-c047-4d96-822c-79fa4b9cad5b"
      },
      "source": [
        "print(f'Ação\\t\\t:\\tDataFrame\\t:\\tList Dict')\n",
        "print(f\"Tamanho\\t\\t:\\t{resultados['tamanho']['dataframe'] }\\t\\t:\\t{resultados['tamanho']['list_dict']}\")\n",
        "print(f\"Ler\\t\\t:\\t{resultados['tempo_ler']['dataframe']:0.4f}\\t\\t:\\t{resultados['tempo_ler']['list_dict']:0.4f}\")\n",
        "print(f\"Escrever\\t:\\t{resultados['tempo_escrever']['dataframe']:0.4f}\\t\\t:\\t{resultados['tempo_escrever']['list_dict']:0.4f}\")"
      ],
      "execution_count": null,
      "outputs": [
        {
          "output_type": "stream",
          "text": [
            "Ação\t\t:\tDataFrame\t:\tList Dict\n",
            "Tamanho\t\t:\t6128\t\t:\t1456\n",
            "Ler\t\t:\t0.0121\t\t:\t0.0001\n",
            "Escrever\t:\t0.0044\t\t:\t0.0002\n"
          ],
          "name": "stdout"
        }
      ]
    },
    {
      "cell_type": "markdown",
      "metadata": {
        "id": "JI7zv6ryhun8"
      },
      "source": [
        "Como podemos ver pelos resultados apresentados acima o DataFrame ocupa mais espaço e é mais lento que uma estrutura baseada em list e dict.\n",
        "\n",
        "Sabemos que mesmo com DataFrame é possível implemimplementar técnicas mais elaboradas para otmizar a leitura e escrita, mas isso também é verdade para list e dict, então nesse notebook focamos nas implementações mais \"comuns\" e basicas. Dito isso podemos concluir:\n",
        "\n",
        "* Usar DataFrames como excluisivamente estrutura de dados, não se mostra como a melhor alteralternativa.\n",
        "\n",
        "* A vatangem de DataFrame está em seus métodos de analises que garante a praticidade no uso.\n",
        "\n",
        "* Mesmo a patricidade dos métodos de análises de DataFrame serem muito bom, não se mostra interessante o uso de DataFrame em ambiente de produção, visto que estrutura mais simples como list e dict são mais performaticos.\n",
        "\n",
        "Deixamos como nossa impressão, que o uso de DataFrame deve ser massivamente usado em ambiente de estudo e analise de dados, mas se alguma aplicação for nessária em um ambiente de produção, a melhor alternativa seria estruturas de dados mais simples como list e dict e a implementação dos métodos estatisticos. \n"
      ]
    }
  ]
}