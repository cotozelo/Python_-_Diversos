{
 "cells": [
  {
   "cell_type": "markdown",
   "id": "3188b877",
   "metadata": {},
   "source": [
    "# Vamos Jogar"
   ]
  },
  {
   "cell_type": "markdown",
   "id": "7460e154",
   "metadata": {},
   "source": [
    "Esse é o primeiro Bot que eu construo. Esse Bot tem como objetivo jogar um toca piano (https://www.agame.com/game/magic-piano-tiles)."
   ]
  },
  {
   "cell_type": "markdown",
   "id": "e9aa96bb",
   "metadata": {},
   "source": [
    "## Pacotes necessários"
   ]
  },
  {
   "cell_type": "code",
   "execution_count": 1,
   "id": "886eedca",
   "metadata": {},
   "outputs": [
    {
     "name": "stdout",
     "output_type": "stream",
     "text": [
      "Requirement already satisfied: pywin32 in c:\\programdata\\anaconda3\\lib\\site-packages (227)\n"
     ]
    }
   ],
   "source": [
    "!pip install pywin32\n",
    "!pip install keyboard\n",
    "!pip install pyautogui\n",
    "!pip install opencv-python"
   ]
  },
  {
   "cell_type": "markdown",
   "id": "7081e897",
   "metadata": {},
   "source": [
    "## Imports"
   ]
  },
  {
   "cell_type": "code",
   "execution_count": 7,
   "id": "0c9141fe",
   "metadata": {},
   "outputs": [],
   "source": [
    "from pyautogui import *\n",
    "import pyautogui\n",
    "import time\n",
    "import keyboard\n",
    "import random\n",
    "import win32api, win32con"
   ]
  },
  {
   "cell_type": "markdown",
   "id": "3be9fb10",
   "metadata": {},
   "source": [
    "## Primeiro passo"
   ]
  },
  {
   "cell_type": "markdown",
   "id": "64618be4",
   "metadata": {},
   "source": [
    "O primeiro passo para fazer um Bot que joga o toca piano, é informar corretamente ao bot onde são as posições que ele deve \"olhar\" para saber se deve clicar e onde clicar.\n",
    "Para isso executamos o comando abaixo, e assim encontramos as posições. \n",
    "Abaixo pode ver o exemplo não meu caso, em cada um os valores das posições são diferentes."
   ]
  },
  {
   "cell_type": "code",
   "execution_count": 12,
   "id": "1d8bcd80",
   "metadata": {},
   "outputs": [
    {
     "name": "stdout",
     "output_type": "stream",
     "text": [
      "Press Ctrl-C to quit.\n",
      "X: 1597 Y:  566 RGB: (159, 166, 23X: 1597 Y:  566 RGB: (159, 166, 23X: 1597 Y:  566 RGB: (159, 166, 23X: 1597 Y:  566 RGB: (159, 166, 23X: 1597 Y:  566 RGB: (159, 166, 23X: 1597 Y:  566 RGB: (159, 166, 23X: 1597 Y:  566 RGB: (159, 166, 23X: 1597 Y:  566 RGB: (159, 166, 23X: 1597 Y:  566 RGB: (159, 166, 23X: 1597 Y:  566 RGB: (159, 166, 23X: 1597 Y:  566 RGB: (159, 166, 23X: 1597 Y:  566 RGB: (159, 166, 23X: 1597 Y:  566 RGB: (159, 166, 23X: 1597 Y:  566 RGB: (159, 166, 23X: 1597 Y:  566 RGB: (159, 166, 23X: 1517 Y:  531 RGB: (255, 255, 25X:  838 Y:  233 RGB: (254, 254, 25X:  581 Y:  163 RGB: (248, 248, 24X:  531 Y:  180 RGB: (248, 248, 24X:  444 Y:  207 RGB: (230, 230, 23X:  423 Y:  207 RGB: (230, 230, 23X:  412 Y:  207 RGB: (230, 230, 23X:  405 Y:  207 RGB: (230, 230, 23X:  403 Y:  207 RGB: (230, 230, 23X:  403 Y:  207 RGB: (230, 230, 23X:  403 Y:  207 RGB: (212, 212, 21\n"
     ]
    }
   ],
   "source": [
    "pyautogui.displayMousePosition()"
   ]
  },
  {
   "cell_type": "code",
   "execution_count": null,
   "id": "781d6fa7",
   "metadata": {},
   "outputs": [],
   "source": [
    "# As posições encontradas\n",
    "positions = [(1327, 570), (1412, 570), (1505, 570), (1597, 570)]"
   ]
  },
  {
   "cell_type": "markdown",
   "id": "50517fb0",
   "metadata": {},
   "source": [
    "## Função Click"
   ]
  },
  {
   "cell_type": "markdown",
   "id": "01fcb787",
   "metadata": {},
   "source": [
    "Construindo a função que recebendo x, y clica nessa posição da tela."
   ]
  },
  {
   "cell_type": "code",
   "execution_count": 14,
   "id": "dafd8117",
   "metadata": {},
   "outputs": [],
   "source": [
    "def click(x,y):\n",
    "    win32api.SetCursorPos((x,y))\n",
    "    win32api.mouse_event(win32con.MOUSEEVENTF_LEFTDOWN,0,0)\n",
    "    time.sleep(0.1) #This pauses the script for 0.1 seconds\n",
    "    win32api.mouse_event(win32con.MOUSEEVENTF_LEFTUP,0,0)"
   ]
  },
  {
   "cell_type": "markdown",
   "id": "ff6d051e",
   "metadata": {},
   "source": [
    "## O Bot"
   ]
  },
  {
   "cell_type": "markdown",
   "id": "c7c3f2db",
   "metadata": {},
   "source": [
    "Esse Bot simplesmente percorre todas as posições informadas pela variavel positions, e verifica se a cor R = 0. Isso é um indicativo de que nessa posição existe a cor preta. O que pelo jogo indica que deve ser clicado. E é efetivamente isso que o Bot faz, encontrando a cor preta ele clica. \n",
    "Detalhe que pra parar o Bot basta precionar a tecla \"q\"."
   ]
  },
  {
   "cell_type": "code",
   "execution_count": 15,
   "id": "7cdaf354",
   "metadata": {},
   "outputs": [],
   "source": [
    "while keyboard.is_pressed('q') == False:\n",
    "    for x, y in positions:\n",
    "        if pyautogui.pixel(x, y)[0] == 0:\n",
    "            click(x, y)"
   ]
  }
 ],
 "metadata": {
  "kernelspec": {
   "display_name": "Python 3",
   "language": "python",
   "name": "python3"
  },
  "language_info": {
   "codemirror_mode": {
    "name": "ipython",
    "version": 3
   },
   "file_extension": ".py",
   "mimetype": "text/x-python",
   "name": "python",
   "nbconvert_exporter": "python",
   "pygments_lexer": "ipython3",
   "version": "3.8.8"
  }
 },
 "nbformat": 4,
 "nbformat_minor": 5
}
