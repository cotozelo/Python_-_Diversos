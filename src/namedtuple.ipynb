{
  "nbformat": 4,
  "nbformat_minor": 0,
  "metadata": {
    "colab": {
      "name": "namedtuple.ipynb",
      "provenance": [],
      "authorship_tag": "ABX9TyNSZvHynOUnz32Bb1p3K6AX",
      "include_colab_link": true
    },
    "kernelspec": {
      "name": "python3",
      "display_name": "Python 3"
    },
    "language_info": {
      "name": "python"
    }
  },
  "cells": [
    {
      "cell_type": "markdown",
      "metadata": {
        "id": "view-in-github",
        "colab_type": "text"
      },
      "source": [
        "<a href=\"https://colab.research.google.com/github/cotozelo/Python_diversos/blob/main/src/namedtuple.ipynb\" target=\"_parent\"><img src=\"https://colab.research.google.com/assets/colab-badge.svg\" alt=\"Open In Colab\"/></a>"
      ]
    },
    {
      "cell_type": "markdown",
      "metadata": {
        "id": "AewSqA_3vTrA"
      },
      "source": [
        "#namedtuple\n",
        "\n",
        "É uma tupla com seus valores nomeados, lembrando bastante um classe. \n",
        "* <a href='https://docs.python.org/pt-br/3.9/library/collections.html#collections.namedtuple'>Documentação</a>\n"
      ]
    },
    {
      "cell_type": "code",
      "metadata": {
        "id": "sORA3BlivMwv"
      },
      "source": [
        "from collections import namedtuple\n",
        "Carro = namedtuple('Carro', ['aro', 'portas', 'motor', 'cor'])"
      ],
      "execution_count": null,
      "outputs": []
    },
    {
      "cell_type": "markdown",
      "metadata": {
        "id": "fFsAD7Pmv_wY"
      },
      "source": [
        "Acabamos de criar uma namedtuple, com nome de Carro."
      ]
    },
    {
      "cell_type": "code",
      "metadata": {
        "colab": {
          "base_uri": "https://localhost:8080/"
        },
        "id": "hkSKI2KXvwOv",
        "outputId": "0abc669d-5aff-4de2-a001-3a55da797346"
      },
      "source": [
        "uno = Carro(14, 2, 1.5, 'azul')\n",
        "print(uno)\n",
        "print(type(uno))\n",
        "print(type((1, 2)))"
      ],
      "execution_count": null,
      "outputs": [
        {
          "output_type": "stream",
          "text": [
            "Carro(aro=14, portas=2, motor=1.5, cor='azul')\n",
            "<class '__main__.Carro'>\n",
            "<class 'tuple'>\n"
          ],
          "name": "stdout"
        }
      ]
    },
    {
      "cell_type": "markdown",
      "metadata": {
        "id": "35fA5Pq4wHOs"
      },
      "source": [
        "Criamos uma instancias chamada uno. O tipo de objeto é Carro, como mostrado.\n",
        "Por isso que disse que as namedtuple se assemelham muito a classes,  pois seu tipo não é namedtuple, mas o tipo do nome dado, e seus atributos são acessados igual ao de uma classe."
      ]
    },
    {
      "cell_type": "code",
      "metadata": {
        "colab": {
          "base_uri": "https://localhost:8080/"
        },
        "id": "FGYGiB0Fv76Q",
        "outputId": "9e0c03cc-de1a-4993-943e-0af7b54d3f22"
      },
      "source": [
        "# instancia a namedtuple nomenado os parâmetros\n",
        "hb20 = Carro(aro=15, portas=4, motor=1.0, cor='verde')\n",
        "hb20"
      ],
      "execution_count": null,
      "outputs": [
        {
          "output_type": "execute_result",
          "data": {
            "text/plain": [
              "Carro(aro=15, portas=4, motor=1.0, cor='verde')"
            ]
          },
          "metadata": {
            "tags": []
          },
          "execution_count": 15
        }
      ]
    },
    {
      "cell_type": "markdown",
      "metadata": {
        "id": "u3H03hPDxXgF"
      },
      "source": [
        "Os atributos para criação da namedtuple:\n",
        "* *defaults*: cria a namedtuple com o valor especificado como padrão.\n",
        "\n",
        "Os principais métodos internos das namedtuple são:\n",
        "* *_make*: retorna uma nova instância a partir de uma sequência existente ou iterável.\n",
        "* *_asdict*: Devolva um dicionário que mapeia os nomes dos campo para seus valores correspondentes.\n",
        "* *_replace*: Retorne uma nova instância da namedtuple substituindo o valor no campo especificado.\n",
        "* *_fields*: Devolve uma lista dos nomes dos campos da namedtuple.\n",
        "* *_field_defaults*: Dicionário mapeando nomes de campo para valores padrão.\n",
        "\n"
      ]
    },
    {
      "cell_type": "code",
      "metadata": {
        "colab": {
          "base_uri": "https://localhost:8080/"
        },
        "id": "BsWnJjExxQGL",
        "outputId": "eb4c9c8c-372a-4254-aca3-0f3634f04b6c"
      },
      "source": [
        "Ponto = namedtuple('Ponto', ['x', 'y'], defaults=[2,3])\n",
        "pontoA = Ponto(x=1, y=2)\n",
        "print('A namedtuple ', pontoA)\n",
        "print('_asdict:\\t', pontoA._asdict())\n",
        "print('_replace:\\t', pontoA._replace(x=3))\n",
        "print('_fields:\\t', pontoA._fields)\n",
        "print('_field_defaults:\\t', pontoA._field_defaults)\n",
        "print('_fields_defaults:\\t', pontoA._fields_defaults)"
      ],
      "execution_count": null,
      "outputs": [
        {
          "output_type": "stream",
          "text": [
            "A namedtuple  Ponto(x=1, y=2)\n",
            "_asdict:\t OrderedDict([('x', 1), ('y', 2)])\n",
            "_replace:\t Ponto(x=3, y=2)\n",
            "_fields:\t ('x', 'y')\n",
            "_field_defaults:\t {'x': 2, 'y': 3}\n",
            "_fields_defaults:\t {'x': 2, 'y': 3}\n"
          ],
          "name": "stdout"
        }
      ]
    }
  ]
}