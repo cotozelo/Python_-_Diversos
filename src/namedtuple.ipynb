{
  "nbformat": 4,
  "nbformat_minor": 0,
  "metadata": {
    "colab": {
      "name": "namedtuple.ipynb",
      "provenance": [],
      "authorship_tag": "ABX9TyMwBDVfi6ufWW3qJMJz4YIf",
      "include_colab_link": true
    },
    "kernelspec": {
      "name": "python3",
      "display_name": "Python 3"
    },
    "language_info": {
      "name": "python"
    }
  },
  "cells": [
    {
      "cell_type": "markdown",
      "metadata": {
        "id": "view-in-github",
        "colab_type": "text"
      },
      "source": [
        "<a href=\"https://colab.research.google.com/github/cotozelo/Python_diversos/blob/main/src/namedtuple.ipynb\" target=\"_parent\"><img src=\"https://colab.research.google.com/assets/colab-badge.svg\" alt=\"Open In Colab\"/></a>"
      ]
    },
    {
      "cell_type": "markdown",
      "metadata": {
        "id": "AewSqA_3vTrA"
      },
      "source": [
        "#namedtuple\n",
        "\n",
        "É uma tupla com seus valores nomeados, lembrando bastante um classe. \n",
        "* <a href='https://docs.python.org/pt-br/3.9/library/collections.html#collections.namedtuple'>Documentação</a>\n"
      ]
    },
    {
      "cell_type": "code",
      "metadata": {
        "id": "sORA3BlivMwv"
      },
      "source": [
        "from collections import namedtuple\n",
        "Carro = namedtuple('Carro', ['aro', 'portas', 'motor', 'cor'])"
      ],
      "execution_count": 1,
      "outputs": []
    },
    {
      "cell_type": "markdown",
      "metadata": {
        "id": "fFsAD7Pmv_wY"
      },
      "source": [
        "Acabamos de criar uma namedtuple, com nome de Carro."
      ]
    },
    {
      "cell_type": "code",
      "metadata": {
        "colab": {
          "base_uri": "https://localhost:8080/"
        },
        "id": "hkSKI2KXvwOv",
        "outputId": "0dd8a180-ca65-4053-c1c3-13560bed15c3"
      },
      "source": [
        "uno = Carro(14, 2, 1.5, 'azul')\n",
        "print(uno)\n",
        "print(type(uno))\n",
        "print(type((1, 2)))"
      ],
      "execution_count": 2,
      "outputs": [
        {
          "output_type": "stream",
          "text": [
            "Carro(aro=14, portas=2, motor=1.5, cor='azul')\n",
            "<class '__main__.Carro'>\n",
            "<class 'tuple'>\n"
          ],
          "name": "stdout"
        }
      ]
    },
    {
      "cell_type": "markdown",
      "metadata": {
        "id": "35fA5Pq4wHOs"
      },
      "source": [
        "Criamos uma instancias chamada uno. O tipo de objeto é Carro, como mostrado.\n",
        "Por isso que disse que as namedtuple se assemelham muito a classes,  pois seu tipo não é namedtuple, mas o tipo do nome dado, e seus atributos são acessados igual ao de uma classe."
      ]
    },
    {
      "cell_type": "code",
      "metadata": {
        "colab": {
          "base_uri": "https://localhost:8080/"
        },
        "id": "FGYGiB0Fv76Q",
        "outputId": "2307bcfd-040c-421c-b638-876564090929"
      },
      "source": [
        "# instancia a namedtuple nomenado os parâmetros\n",
        "hb20 = Carro(aro=15, portas=4, motor=1.0, cor='verde')\n",
        "hb20"
      ],
      "execution_count": 3,
      "outputs": [
        {
          "output_type": "execute_result",
          "data": {
            "text/plain": [
              "Carro(aro=15, portas=4, motor=1.0, cor='verde')"
            ]
          },
          "metadata": {
            "tags": []
          },
          "execution_count": 3
        }
      ]
    },
    {
      "cell_type": "markdown",
      "metadata": {
        "id": "u3H03hPDxXgF"
      },
      "source": [
        "Os atributos para criação da namedtuple:\n",
        "* *defaults*: cria a namedtuple com o valor especificado como padrão.\n",
        "\n",
        "Os principais métodos internos das namedtuple são:\n",
        "* *_make*: retorna uma nova instância a partir de uma sequência existente ou iterável.\n",
        "* *_asdict*: Devolva um dicionário que mapeia os nomes dos campo para seus valores correspondentes.\n",
        "* *_replace*: Retorne uma nova instância da namedtuple substituindo o valor no campo especificado.\n",
        "* *_fields*: Devolve uma lista dos nomes dos campos da namedtuple.\n",
        "* *_field_defaults*: Dicionário mapeando nomes de campo para valores padrão.\n",
        "\n"
      ]
    },
    {
      "cell_type": "code",
      "metadata": {
        "colab": {
          "base_uri": "https://localhost:8080/"
        },
        "id": "BsWnJjExxQGL",
        "outputId": "41f0fc74-73fc-461b-a490-707914d4e2b4"
      },
      "source": [
        "Ponto = namedtuple('Ponto', ['x', 'y'], defaults=[2,3])\n",
        "pontoA = Ponto(x=1, y=2)\n",
        "print('A namedtuple ', pontoA)\n",
        "print('_asdict:\\t', pontoA._asdict())\n",
        "print('_replace:\\t', pontoA._replace(x=3))\n",
        "print('_fields:\\t', pontoA._fields)\n",
        "print('_field_defaults:\\t', pontoA._field_defaults)\n",
        "print('_fields_defaults:\\t', pontoA._fields_defaults)"
      ],
      "execution_count": 4,
      "outputs": [
        {
          "output_type": "stream",
          "text": [
            "A namedtuple  Ponto(x=1, y=2)\n",
            "_asdict:\t OrderedDict([('x', 1), ('y', 2)])\n",
            "_replace:\t Ponto(x=3, y=2)\n",
            "_fields:\t ('x', 'y')\n",
            "_field_defaults:\t {'x': 2, 'y': 3}\n",
            "_fields_defaults:\t {'x': 2, 'y': 3}\n"
          ],
          "name": "stdout"
        }
      ]
    },
    {
      "cell_type": "markdown",
      "metadata": {
        "id": "1HKKRU5kp0E9"
      },
      "source": [
        "Como alterar os atriatributos de uma namedtuple que pode ter atributos difdiferentes \n"
      ]
    },
    {
      "cell_type": "code",
      "metadata": {
        "colab": {
          "base_uri": "https://localhost:8080/"
        },
        "id": "MILWrIHuptUP",
        "outputId": "d15db31a-efe5-4e45-c4f7-a4d0c695638b"
      },
      "source": [
        "# pensa que os atributos podem ser vindo de uma lista de usuários, por exemplo uma lista de compras\n",
        "compras = ['banana', 'leite', 'sabao', 'ovo']\n",
        "\n",
        "# com essa lista podemos sim criar um namedtupble\n",
        "Lista = namedtuple(\"Lista\", ['data', 'mercado'] + compras)\n",
        "print(Lista)\n",
        "\n",
        "comprar = Lista('03/06/2021', 'M. São João', 1, 2, 1, 12)\n",
        "print(comprar)\n",
        "\n",
        "# Pense agora que recebeu um dicidicionário com valores diferediferentes e quer alterar a namedtuple\n",
        "# talvez nesse exemplo fosser melhor escolher outra estratégia\n",
        "# mas não estamos focando na melhor solução para esse problema, mas como alterar a namedtuple\n",
        "\n",
        "mudanca = {'banana': 2, 'ovo': 3}"
      ],
      "execution_count": 10,
      "outputs": [
        {
          "output_type": "stream",
          "text": [
            "<class '__main__.Lista'>\n",
            "Lista(data='03/06/2021', mercado='M. São João', banana=1, leite=2, sabao=1, ovo=12)\n"
          ],
          "name": "stdout"
        }
      ]
    },
    {
      "cell_type": "code",
      "metadata": {
        "colab": {
          "base_uri": "https://localhost:8080/",
          "height": 35
        },
        "id": "OLyjflbetKQd",
        "outputId": "b3b55d17-035f-4392-ef75-959cbeb4071a"
      },
      "source": [
        "#Mudar o valor do item \n",
        "item = list(mudanca.keys())[0]\n",
        "item"
      ],
      "execution_count": 20,
      "outputs": [
        {
          "output_type": "execute_result",
          "data": {
            "application/vnd.google.colaboratory.intrinsic+json": {
              "type": "string"
            },
            "text/plain": [
              "'banana'"
            ]
          },
          "metadata": {
            "tags": []
          },
          "execution_count": 20
        }
      ]
    },
    {
      "cell_type": "code",
      "metadata": {
        "colab": {
          "base_uri": "https://localhost:8080/",
          "height": 299
        },
        "id": "kFuSkM5Hqtsd",
        "outputId": "884028e9-858d-45c9-f59d-1465c9ca3674"
      },
      "source": [
        "# o que não funciona\n",
        "comprar = comprar._replace(item=12)"
      ],
      "execution_count": 23,
      "outputs": [
        {
          "output_type": "error",
          "ename": "ValueError",
          "evalue": "ignored",
          "traceback": [
            "\u001b[0;31m---------------------------------------------------------------------------\u001b[0m",
            "\u001b[0;31mValueError\u001b[0m                                Traceback (most recent call last)",
            "\u001b[0;32m<ipython-input-23-557b90214c92>\u001b[0m in \u001b[0;36m<module>\u001b[0;34m()\u001b[0m\n\u001b[1;32m      1\u001b[0m \u001b[0;31m# o que não funciona\u001b[0m\u001b[0;34m\u001b[0m\u001b[0;34m\u001b[0m\u001b[0;34m\u001b[0m\u001b[0m\n\u001b[0;32m----> 2\u001b[0;31m \u001b[0mcomprar\u001b[0m \u001b[0;34m=\u001b[0m \u001b[0mcomprar\u001b[0m\u001b[0;34m.\u001b[0m\u001b[0m_replace\u001b[0m\u001b[0;34m(\u001b[0m\u001b[0mitem\u001b[0m\u001b[0;34m=\u001b[0m\u001b[0;36m12\u001b[0m\u001b[0;34m)\u001b[0m\u001b[0;34m\u001b[0m\u001b[0;34m\u001b[0m\u001b[0m\n\u001b[0m",
            "\u001b[0;32m/usr/lib/python3.7/collections/__init__.py\u001b[0m in \u001b[0;36m_replace\u001b[0;34m(_self, **kwds)\u001b[0m\n\u001b[1;32m    414\u001b[0m         \u001b[0mresult\u001b[0m \u001b[0;34m=\u001b[0m \u001b[0m_self\u001b[0m\u001b[0;34m.\u001b[0m\u001b[0m_make\u001b[0m\u001b[0;34m(\u001b[0m\u001b[0mmap\u001b[0m\u001b[0;34m(\u001b[0m\u001b[0mkwds\u001b[0m\u001b[0;34m.\u001b[0m\u001b[0mpop\u001b[0m\u001b[0;34m,\u001b[0m \u001b[0mfield_names\u001b[0m\u001b[0;34m,\u001b[0m \u001b[0m_self\u001b[0m\u001b[0;34m)\u001b[0m\u001b[0;34m)\u001b[0m\u001b[0;34m\u001b[0m\u001b[0;34m\u001b[0m\u001b[0m\n\u001b[1;32m    415\u001b[0m         \u001b[0;32mif\u001b[0m \u001b[0mkwds\u001b[0m\u001b[0;34m:\u001b[0m\u001b[0;34m\u001b[0m\u001b[0;34m\u001b[0m\u001b[0m\n\u001b[0;32m--> 416\u001b[0;31m             \u001b[0;32mraise\u001b[0m \u001b[0mValueError\u001b[0m\u001b[0;34m(\u001b[0m\u001b[0;34mf'Got unexpected field names: {list(kwds)!r}'\u001b[0m\u001b[0;34m)\u001b[0m\u001b[0;34m\u001b[0m\u001b[0;34m\u001b[0m\u001b[0m\n\u001b[0m\u001b[1;32m    417\u001b[0m         \u001b[0;32mreturn\u001b[0m \u001b[0mresult\u001b[0m\u001b[0;34m\u001b[0m\u001b[0;34m\u001b[0m\u001b[0m\n\u001b[1;32m    418\u001b[0m \u001b[0;34m\u001b[0m\u001b[0m\n",
            "\u001b[0;31mValueError\u001b[0m: Got unexpected field names: ['item']"
          ]
        }
      ]
    },
    {
      "cell_type": "markdown",
      "metadata": {
        "id": "RhuB77pHs1p3"
      },
      "source": [
        "O código a cima não funciona pq o _replace não consegue usar o valor de item para saber qual o atributo.\n",
        "O _replace precisa explicitamente do valor do atributo.\n",
        "Abaixo uma alternativa que consegue fazer mudança."
      ]
    },
    {
      "cell_type": "code",
      "metadata": {
        "colab": {
          "base_uri": "https://localhost:8080/"
        },
        "id": "3yjWw-XkseTt",
        "outputId": "885ed786-f3c0-4979-f873-ce4399e989c2"
      },
      "source": [
        "exec(f'comprar = comprar._replace({item}=12)')\n",
        "comprar"
      ],
      "execution_count": 25,
      "outputs": [
        {
          "output_type": "execute_result",
          "data": {
            "text/plain": [
              "Lista(data='03/06/2021', mercado='M. São João', banana=12, leite=2, sabao=1, ovo=12)"
            ]
          },
          "metadata": {
            "tags": []
          },
          "execution_count": 25
        }
      ]
    },
    {
      "cell_type": "markdown",
      "metadata": {
        "id": "mS5R_CTnte-a"
      },
      "source": [
        "A implementação acima funciona pq a função f resolve o {} e depois o texto é aplicado em exec.\n"
      ]
    }
  ]
}