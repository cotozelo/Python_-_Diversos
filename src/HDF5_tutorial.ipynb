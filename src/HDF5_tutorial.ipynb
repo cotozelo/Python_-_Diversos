{
  "nbformat": 4,
  "nbformat_minor": 0,
  "metadata": {
    "colab": {
      "name": "HDF5_tutorial.ipynb",
      "provenance": [],
      "collapsed_sections": [
        "cHlOWVXb0sFA",
        "Se9a4sZY02Pw",
        "SiNHdDgJ07Tp",
        "GtqPdKlE2Dcw",
        "T4O7nF6S2bFj",
        "PaTT_8gj20z3",
        "LUprC6_83GgT",
        "asfsQzea3TU5",
        "9Sz-QISV3trT",
        "LBGlqBq-4L2O",
        "I3oOydCz374d",
        "MQumrlv65m3_",
        "uk6PSWvz56Ux",
        "jcIv76H86Yor"
      ],
      "authorship_tag": "ABX9TyPY1L8Vhr+vBunNL10xr8nf",
      "include_colab_link": true
    },
    "kernelspec": {
      "name": "python3",
      "display_name": "Python 3"
    },
    "language_info": {
      "name": "python"
    }
  },
  "cells": [
    {
      "cell_type": "markdown",
      "metadata": {
        "id": "view-in-github",
        "colab_type": "text"
      },
      "source": [
        "<a href=\"https://colab.research.google.com/github/cotozelo/Python_diversos/blob/main/src/HDF5_tutorial.ipynb\" target=\"_parent\"><img src=\"https://colab.research.google.com/assets/colab-badge.svg\" alt=\"Open In Colab\"/></a>"
      ]
    },
    {
      "cell_type": "markdown",
      "metadata": {
        "id": "cHlOWVXb0sFA"
      },
      "source": [
        "# HDF5"
      ]
    },
    {
      "cell_type": "markdown",
      "metadata": {
        "id": "LSCoK_ve0uWq"
      },
      "source": [
        "Estudo básico e introdutório sobre HDF5 usando python. \n",
        "\n",
        "Iremos apresentar vários exemplos de manipulação de dataset's, group's entre outros."
      ]
    },
    {
      "cell_type": "markdown",
      "metadata": {
        "id": "Se9a4sZY02Pw"
      },
      "source": [
        "## Import's"
      ]
    },
    {
      "cell_type": "code",
      "metadata": {
        "id": "YXrbu32h01Gc"
      },
      "source": [
        "import h5py\n",
        "import numpy as np\n",
        "import pandas as pd"
      ],
      "execution_count": 1,
      "outputs": []
    },
    {
      "cell_type": "markdown",
      "metadata": {
        "id": "SiNHdDgJ07Tp"
      },
      "source": [
        "# Criando Dados"
      ]
    },
    {
      "cell_type": "code",
      "metadata": {
        "colab": {
          "base_uri": "https://localhost:8080/"
        },
        "id": "jG14IqsO0jst",
        "outputId": "421c9b4a-14a9-4078-ce8e-57ad2807fda3"
      },
      "source": [
        "matrix1 = np.random.random(size=(1000,1000))\n",
        "matrix2 = np.random.random(size=(1000,10000))\n",
        "matrix3 = np.random.random(size=(100,10000))\n",
        "matrix4 = np.random.random(size=(1000,1000))\n",
        "matrix5 = np.random.random(size=(100,100))\n",
        "\n",
        "data = {\n",
        "  \"cidade\" :['Campinas', 'Olímpia', 'São Paulo', 'Iquaquecetuba', 'Pintamonhagaba'],\n",
        "  'rank'   :[         2,         1,           3,               4,                5],\n",
        "  'tamanho':['média'   , 'pequena', 'grande'   , 'média'        , 'média']    \n",
        "}\n",
        "print(data, '\\n')\n",
        "\n",
        "df_cidade = pd.DataFrame(data, columns=data.keys())\n",
        "print(df_cidade, '\\n')\n",
        "\n",
        "data = {\n",
        "  \"estado\" :['Parana', 'Para', 'São Paulo', 'Rio de Janeiro', 'Acre'],\n",
        "  'cidades':[    4232,   3413,       52452,           524254,     15]  \n",
        "}\n",
        "print(data, '\\n')\n",
        "\n",
        "df_estado = pd.DataFrame(data, columns=data.keys())\n",
        "print(df_estado, '\\n')"
      ],
      "execution_count": 2,
      "outputs": [
        {
          "output_type": "stream",
          "text": [
            "{'cidade': ['Campinas', 'Olímpia', 'São Paulo', 'Iquaquecetuba', 'Pintamonhagaba'], 'rank': [2, 1, 3, 4, 5], 'tamanho': ['média', 'pequena', 'grande', 'média', 'média']} \n",
            "\n",
            "           cidade  rank  tamanho\n",
            "0        Campinas     2    média\n",
            "1         Olímpia     1  pequena\n",
            "2       São Paulo     3   grande\n",
            "3   Iquaquecetuba     4    média\n",
            "4  Pintamonhagaba     5    média \n",
            "\n",
            "{'estado': ['Parana', 'Para', 'São Paulo', 'Rio de Janeiro', 'Acre'], 'cidades': [4232, 3413, 52452, 524254, 15]} \n",
            "\n",
            "           estado  cidades\n",
            "0          Parana     4232\n",
            "1            Para     3413\n",
            "2       São Paulo    52452\n",
            "3  Rio de Janeiro   524254\n",
            "4            Acre       15 \n",
            "\n"
          ],
          "name": "stdout"
        }
      ]
    },
    {
      "cell_type": "markdown",
      "metadata": {
        "id": "v0OeiVHl1BlI"
      },
      "source": [
        "# HDF5 - Dataset Simples"
      ]
    },
    {
      "cell_type": "markdown",
      "metadata": {
        "id": "06PFrqU71Zw0"
      },
      "source": [
        "Manipulando um HDF5 com dois dataset, cada dataset contém uma das matrizes criadas anteriormente."
      ]
    },
    {
      "cell_type": "markdown",
      "metadata": {
        "id": "LGs53p-h1ZoC"
      },
      "source": [
        ""
      ]
    },
    {
      "cell_type": "code",
      "metadata": {
        "id": "DqMNlg891H_E"
      },
      "source": [
        "dataset_simples = 'hdf5_dataset.h5'"
      ],
      "execution_count": 3,
      "outputs": []
    },
    {
      "cell_type": "markdown",
      "metadata": {
        "id": "EO5zNJGF1GSb"
      },
      "source": [
        "## Criando"
      ]
    },
    {
      "cell_type": "code",
      "metadata": {
        "colab": {
          "base_uri": "https://localhost:8080/"
        },
        "id": "GTkYhdYo1f_6",
        "outputId": "74b14cfa-48b3-4a31-8e08-8bfa1e36ed37"
      },
      "source": [
        "%%time\n",
        "with h5py.File(dataset_simples, 'w') as hdf:\n",
        "  hdf.create_dataset('dataset1', data=matrix1)\n",
        "  hdf.create_dataset('dataset2', data=matrix2)"
      ],
      "execution_count": 4,
      "outputs": [
        {
          "output_type": "stream",
          "text": [
            "CPU times: user 204 µs, sys: 82.7 ms, total: 82.9 ms\n",
            "Wall time: 83.7 ms\n"
          ],
          "name": "stdout"
        }
      ]
    },
    {
      "cell_type": "code",
      "metadata": {
        "colab": {
          "base_uri": "https://localhost:8080/"
        },
        "id": "A8DTsWEy1okF",
        "outputId": "e992ce80-90c5-4bf1-8c83-488dc4f60fc0"
      },
      "source": [
        "!du -sh hdf5_dataset.h5"
      ],
      "execution_count": 5,
      "outputs": [
        {
          "output_type": "stream",
          "text": [
            "84M\thdf5_dataset.h5\n"
          ],
          "name": "stdout"
        }
      ]
    },
    {
      "cell_type": "markdown",
      "metadata": {
        "id": "OewJzPA_1mih"
      },
      "source": [
        "O tempo de criação do arquivo foi de 115ms e seu tamanho 84M. Para meus problemas é um tempo relativamente rápido."
      ]
    },
    {
      "cell_type": "markdown",
      "metadata": {
        "id": "GtqPdKlE2Dcw"
      },
      "source": [
        "## Listando"
      ]
    },
    {
      "cell_type": "code",
      "metadata": {
        "colab": {
          "base_uri": "https://localhost:8080/"
        },
        "id": "DkLDrc9z1_Ze",
        "outputId": "648fb887-116d-46a9-ecee-0c27875477b9"
      },
      "source": [
        "with h5py.File(dataset_simples, 'r') as hdf:\n",
        "  ls = list(hdf.keys()) # obtém todas as keys (dataset ou group) na raiz do hdf.\n",
        "  print(ls)"
      ],
      "execution_count": 6,
      "outputs": [
        {
          "output_type": "stream",
          "text": [
            "['dataset1', 'dataset2']\n"
          ],
          "name": "stdout"
        }
      ]
    },
    {
      "cell_type": "markdown",
      "metadata": {
        "id": "x2QVd4SD2Kc_"
      },
      "source": [
        "Ao listamos o HDF5 com dataset simples, vemos que na sua raiz só existe os dois dataset's."
      ]
    },
    {
      "cell_type": "markdown",
      "metadata": {
        "id": "T4O7nF6S2bFj"
      },
      "source": [
        "## Lendo"
      ]
    },
    {
      "cell_type": "code",
      "metadata": {
        "colab": {
          "base_uri": "https://localhost:8080/"
        },
        "id": "4HZ67zTl2cUF",
        "outputId": "e5a97799-681b-4dd5-e12b-4ffa27cfdbfc"
      },
      "source": [
        "%%time\n",
        "with h5py.File(dataset_simples, 'r') as hdf:\n",
        "  data1 = hdf.get('dataset1')\n",
        "  dataset1 = np.array(data1)\n",
        "  data2 = hdf.get('dataset2')\n",
        "  dataset2 = np.array(data2)"
      ],
      "execution_count": 7,
      "outputs": [
        {
          "output_type": "stream",
          "text": [
            "CPU times: user 19.3 ms, sys: 64.4 ms, total: 83.7 ms\n",
            "Wall time: 88.5 ms\n"
          ],
          "name": "stdout"
        }
      ]
    },
    {
      "cell_type": "markdown",
      "metadata": {
        "id": "B4AUH9A82fHS"
      },
      "source": [
        "Vemos pelo tempo da célula acima que o tempo de leitura tb é relativa rápido. Note que nesse tempo esta incluso a leitura do dataset e criação do array numpy."
      ]
    },
    {
      "cell_type": "code",
      "metadata": {
        "colab": {
          "base_uri": "https://localhost:8080/"
        },
        "id": "HAjl8GtA2hhX",
        "outputId": "eebe2ad8-c15c-4132-8660-2d7a4888088e"
      },
      "source": [
        "print(f'Tipo do dado:\\n{type(data1)}\\n')\n",
        "print(f'Conteúdo do dado:\\n{data1}\\n')"
      ],
      "execution_count": 8,
      "outputs": [
        {
          "output_type": "stream",
          "text": [
            "Tipo do dado:\n",
            "<class 'h5py._hl.dataset.Dataset'>\n",
            "\n",
            "Conteúdo do dado:\n",
            "<Closed HDF5 dataset>\n",
            "\n"
          ],
          "name": "stdout"
        }
      ]
    },
    {
      "cell_type": "markdown",
      "metadata": {
        "id": "l55QGoCm2j03"
      },
      "source": [
        "Pelo print acima vemos que o dataset obtido precisa ser convertido para sua estrutura de criação."
      ]
    },
    {
      "cell_type": "code",
      "metadata": {
        "colab": {
          "base_uri": "https://localhost:8080/"
        },
        "id": "LfC3QELh2mB0",
        "outputId": "895c3970-9151-479b-8013-d137cbdf3839"
      },
      "source": [
        "print(f'Tipo do dado:\\n{type(dataset1)}\\n')\n",
        "print(f'Conteúdo do dado:\\n{dataset1}\\n')"
      ],
      "execution_count": 9,
      "outputs": [
        {
          "output_type": "stream",
          "text": [
            "Tipo do dado:\n",
            "<class 'numpy.ndarray'>\n",
            "\n",
            "Conteúdo do dado:\n",
            "[[0.85344519 0.91879515 0.04219278 ... 0.53860758 0.79170853 0.45037284]\n",
            " [0.57598117 0.66806994 0.39395578 ... 0.53989399 0.09892599 0.69500278]\n",
            " [0.68404195 0.24287255 0.75104202 ... 0.36248623 0.19542893 0.56904453]\n",
            " ...\n",
            " [0.46389146 0.820671   0.12536702 ... 0.23997888 0.27386973 0.42254806]\n",
            " [0.40800266 0.16176775 0.70738742 ... 0.91138304 0.29355968 0.06466227]\n",
            " [0.46246918 0.27846881 0.82206059 ... 0.99782485 0.73849111 0.53104524]]\n",
            "\n"
          ],
          "name": "stdout"
        }
      ]
    },
    {
      "cell_type": "markdown",
      "metadata": {
        "id": "PaTT_8gj20z3"
      },
      "source": [
        "# HDF5 - Groups"
      ]
    },
    {
      "cell_type": "markdown",
      "metadata": {
        "id": "1bRA5r5d28h2"
      },
      "source": [
        "Nesse exemplo iremos manipular um HDF5 com vários grupos, subgrupos e datasets."
      ]
    },
    {
      "cell_type": "code",
      "metadata": {
        "id": "6H6YIVcG221G"
      },
      "source": [
        "hdf5_groups = 'hdf5_groups.h5'"
      ],
      "execution_count": 10,
      "outputs": []
    },
    {
      "cell_type": "markdown",
      "metadata": {
        "id": "LUprC6_83GgT"
      },
      "source": [
        "## Criando"
      ]
    },
    {
      "cell_type": "code",
      "metadata": {
        "colab": {
          "base_uri": "https://localhost:8080/"
        },
        "id": "izCn_2rF3H1W",
        "outputId": "d614761a-7e34-423a-9841-74c12b03ec8f"
      },
      "source": [
        "%%time\n",
        "with h5py.File(hdf5_groups, 'w') as hdf:\n",
        "  g1 = hdf.create_group('Group1')\n",
        "  g1.create_dataset('dataset1', data=matrix1)\n",
        "  g1.create_dataset('dataset4', data=matrix4)\n",
        "\n",
        "  g21 = hdf.create_group('Group2/SubGroup1')\n",
        "  g21.create_dataset('dataset2', data=matrix2)\n",
        "\n",
        "  g22 = hdf.create_group('Group2/SubGroup2')\n",
        "  g22.create_dataset('dataset3', data=matrix3)\n",
        "\n",
        "  hdf.create_dataset('dataset5', data=matrix5)"
      ],
      "execution_count": 11,
      "outputs": [
        {
          "output_type": "stream",
          "text": [
            "CPU times: user 4.87 ms, sys: 143 ms, total: 148 ms\n",
            "Wall time: 218 ms\n"
          ],
          "name": "stdout"
        }
      ]
    },
    {
      "cell_type": "code",
      "metadata": {
        "colab": {
          "base_uri": "https://localhost:8080/"
        },
        "id": "gZhIazMR3J36",
        "outputId": "123ac155-d5fb-44ac-83a3-f24e3ae57e97"
      },
      "source": [
        "!du -sh hdf5_groups.h5"
      ],
      "execution_count": 12,
      "outputs": [
        {
          "output_type": "stream",
          "text": [
            "100M\thdf5_groups.h5\n"
          ],
          "name": "stdout"
        }
      ]
    },
    {
      "cell_type": "markdown",
      "metadata": {
        "id": "51o449Dg3OCG"
      },
      "source": [
        "Acima foi criado com sucesso o HDF5 com toda a estrutura de grupos e subgrupos, em um tempo relativamente rápido (103ms) e usando algo em torno de 100M de espaço."
      ]
    },
    {
      "cell_type": "markdown",
      "metadata": {
        "id": "asfsQzea3TU5"
      },
      "source": [
        "## Listando"
      ]
    },
    {
      "cell_type": "code",
      "metadata": {
        "colab": {
          "base_uri": "https://localhost:8080/"
        },
        "id": "EfHG9J3v3NDQ",
        "outputId": "c12da0b7-348c-47a6-e576-cb9ddabf9966"
      },
      "source": [
        "with h5py.File(hdf5_groups, 'r') as hdf:\n",
        "  ls = list(hdf.keys()) # obtém todas as keys (dataset ou group) na raiz do hdf.\n",
        "  print(ls)"
      ],
      "execution_count": 13,
      "outputs": [
        {
          "output_type": "stream",
          "text": [
            "['Group1', 'Group2', 'dataset5']\n"
          ],
          "name": "stdout"
        }
      ]
    },
    {
      "cell_type": "markdown",
      "metadata": {
        "id": "89vX3AEi3faF"
      },
      "source": [
        "Ao listarmos o hdf5_groups, vemos os objetos em sua raiz, que são os dois grupos (Group1 e Group2) e o dataset (dataset5). Abaixo mostraremos que podemos lista informções dentro dos grupos."
      ]
    },
    {
      "cell_type": "code",
      "metadata": {
        "colab": {
          "base_uri": "https://localhost:8080/"
        },
        "id": "_DpCkH2i3edX",
        "outputId": "3201bc87-72d9-4c12-db7f-90767efdc781"
      },
      "source": [
        "with h5py.File(hdf5_groups, 'r') as hdf:\n",
        "  g1 = hdf.get('Group1')\n",
        "  ls = list(g1.keys())\n",
        "  print(ls)"
      ],
      "execution_count": 14,
      "outputs": [
        {
          "output_type": "stream",
          "text": [
            "['dataset1', 'dataset4']\n"
          ],
          "name": "stdout"
        }
      ]
    },
    {
      "cell_type": "code",
      "metadata": {
        "colab": {
          "base_uri": "https://localhost:8080/"
        },
        "id": "UqBelULM3lUB",
        "outputId": "f0e62e7b-6de0-4fd6-9893-de8042c5f4c7"
      },
      "source": [
        "with h5py.File(hdf5_groups, 'r') as hdf:\n",
        "  items = list(hdf.items())\n",
        "  print('Itens na raiz:', items)\n",
        "  print('Itens zero na raiz:', items[0])\n",
        "  g1 = hdf.get('Group1')\n",
        "  items = list(g1.items())\n",
        "  print('Itens em Group1:', items)"
      ],
      "execution_count": 15,
      "outputs": [
        {
          "output_type": "stream",
          "text": [
            "Itens na raiz: [('Group1', <HDF5 group \"/Group1\" (2 members)>), ('Group2', <HDF5 group \"/Group2\" (2 members)>), ('dataset5', <HDF5 dataset \"dataset5\": shape (100, 100), type \"<f8\">)]\n",
            "Itens zero na raiz: ('Group1', <HDF5 group \"/Group1\" (2 members)>)\n",
            "Itens em Group1: [('dataset1', <HDF5 dataset \"dataset1\": shape (1000, 1000), type \"<f8\">), ('dataset4', <HDF5 dataset \"dataset4\": shape (1000, 1000), type \"<f8\">)]\n"
          ],
          "name": "stdout"
        }
      ]
    },
    {
      "cell_type": "markdown",
      "metadata": {
        "id": "UDrZ5rp53p2w"
      },
      "source": [
        "Usando o items, conseguimos obter os objetos já na listagem."
      ]
    },
    {
      "cell_type": "markdown",
      "metadata": {
        "id": "9Sz-QISV3trT"
      },
      "source": [
        "## Lendo"
      ]
    },
    {
      "cell_type": "code",
      "metadata": {
        "colab": {
          "base_uri": "https://localhost:8080/"
        },
        "id": "ySuAeh7q3m0i",
        "outputId": "574358ce-2e84-46e5-e069-fd860d6a8d9c"
      },
      "source": [
        "%%time\n",
        "with h5py.File(hdf5_groups, 'r') as hdf:\n",
        "  data5 = hdf.get('dataset5')\n",
        "  dataset5 = np.array(data5)\n",
        "\n",
        "  g1 = hdf.get('Group1')\n",
        "  data1 = g1.get('dataset1')\n",
        "  dataset1 = np.array(data1)\n",
        "  data4 = g1.get('dataset4')\n",
        "  dataset4 = np.array(data4)\n",
        "\n",
        "  g2 = hdf.get('Group2')\n",
        "  sg1 = g2.get('SubGroup1')\n",
        "  data2 = sg1.get('dataset2')\n",
        "  dataset2 = np.array(data2)\n",
        "\n",
        "  sg2 = g2.get('SubGroup2')\n",
        "  data3 = sg2.get('dataset3')\n",
        "  dataset3 = np.array(data3)"
      ],
      "execution_count": 16,
      "outputs": [
        {
          "output_type": "stream",
          "text": [
            "CPU times: user 38.5 ms, sys: 52.9 ms, total: 91.4 ms\n",
            "Wall time: 91.7 ms\n"
          ],
          "name": "stdout"
        }
      ]
    },
    {
      "cell_type": "code",
      "metadata": {
        "colab": {
          "base_uri": "https://localhost:8080/"
        },
        "id": "cyeOc4ya3xpk",
        "outputId": "8b3ca084-c07a-4096-e09c-7e3ed90d9ab8"
      },
      "source": [
        "print(f'Tipo do dado:\\n{type(dataset1)}\\n')\n",
        "print(f'Conteúdo do dado:\\n{dataset1}\\n')\n",
        "print(f'Tipo do dado:\\n{type(dataset2)}\\n')\n",
        "print(f'Conteúdo do dado:\\n{dataset2}\\n')\n",
        "print(f'Tipo do dado:\\n{type(dataset3)}\\n')\n",
        "print(f'Conteúdo do dado:\\n{dataset3}\\n')\n",
        "print(f'Tipo do dado:\\n{type(dataset4)}\\n')\n",
        "print(f'Conteúdo do dado:\\n{dataset4}\\n')\n",
        "print(f'Tipo do dado:\\n{type(dataset5)}\\n')\n",
        "print(f'Conteúdo do dado:\\n{dataset5}\\n')"
      ],
      "execution_count": 17,
      "outputs": [
        {
          "output_type": "stream",
          "text": [
            "Tipo do dado:\n",
            "<class 'numpy.ndarray'>\n",
            "\n",
            "Conteúdo do dado:\n",
            "[[0.85344519 0.91879515 0.04219278 ... 0.53860758 0.79170853 0.45037284]\n",
            " [0.57598117 0.66806994 0.39395578 ... 0.53989399 0.09892599 0.69500278]\n",
            " [0.68404195 0.24287255 0.75104202 ... 0.36248623 0.19542893 0.56904453]\n",
            " ...\n",
            " [0.46389146 0.820671   0.12536702 ... 0.23997888 0.27386973 0.42254806]\n",
            " [0.40800266 0.16176775 0.70738742 ... 0.91138304 0.29355968 0.06466227]\n",
            " [0.46246918 0.27846881 0.82206059 ... 0.99782485 0.73849111 0.53104524]]\n",
            "\n",
            "Tipo do dado:\n",
            "<class 'numpy.ndarray'>\n",
            "\n",
            "Conteúdo do dado:\n",
            "[[0.17212819 0.66437629 0.51753223 ... 0.38544012 0.02083502 0.74286682]\n",
            " [0.14262978 0.21683076 0.11166321 ... 0.21724415 0.8887117  0.83491355]\n",
            " [0.90916919 0.98786694 0.14322404 ... 0.12272314 0.51839295 0.57779012]\n",
            " ...\n",
            " [0.96193964 0.93007638 0.59095301 ... 0.43614878 0.97760748 0.85422031]\n",
            " [0.63855335 0.51246765 0.40794281 ... 0.4124156  0.32642607 0.33989761]\n",
            " [0.59140023 0.49409906 0.27076834 ... 0.94601154 0.83884058 0.05732084]]\n",
            "\n",
            "Tipo do dado:\n",
            "<class 'numpy.ndarray'>\n",
            "\n",
            "Conteúdo do dado:\n",
            "[[0.94539978 0.54564521 0.83876915 ... 0.15606064 0.59962457 0.7155944 ]\n",
            " [0.39500432 0.34427164 0.49351673 ... 0.71984293 0.1671468  0.68644488]\n",
            " [0.65003388 0.67281088 0.16998056 ... 0.13215834 0.82858123 0.5979013 ]\n",
            " ...\n",
            " [0.64067419 0.99201538 0.63587757 ... 0.69039926 0.43129934 0.1259946 ]\n",
            " [0.7141843  0.93119095 0.43220514 ... 0.64136145 0.83713443 0.15256087]\n",
            " [0.36675418 0.39183876 0.76752465 ... 0.49295728 0.29241183 0.86469262]]\n",
            "\n",
            "Tipo do dado:\n",
            "<class 'numpy.ndarray'>\n",
            "\n",
            "Conteúdo do dado:\n",
            "[[0.27271344 0.65554766 0.99432249 ... 0.21519981 0.45056235 0.71934889]\n",
            " [0.4557354  0.35717276 0.10371093 ... 0.61082996 0.90310991 0.94869844]\n",
            " [0.10350086 0.51040595 0.92903165 ... 0.05948449 0.84234037 0.31186412]\n",
            " ...\n",
            " [0.5370607  0.74845806 0.93955683 ... 0.70818791 0.72402536 0.56074557]\n",
            " [0.99229    0.97413214 0.57817175 ... 0.29048836 0.15326603 0.09642518]\n",
            " [0.7321881  0.27264767 0.57811877 ... 0.29313324 0.71850051 0.09737468]]\n",
            "\n",
            "Tipo do dado:\n",
            "<class 'numpy.ndarray'>\n",
            "\n",
            "Conteúdo do dado:\n",
            "[[0.16683537 0.14995934 0.45640789 ... 0.50924256 0.1364599  0.67387239]\n",
            " [0.47406907 0.88642256 0.65056734 ... 0.93156473 0.67427186 0.03910108]\n",
            " [0.34200511 0.67063159 0.10925598 ... 0.98165008 0.21235794 0.26066745]\n",
            " ...\n",
            " [0.68006481 0.77167798 0.66552019 ... 0.28105296 0.3524529  0.15610699]\n",
            " [0.08609175 0.61826024 0.85214139 ... 0.66352607 0.68246839 0.49002433]\n",
            " [0.895223   0.32674011 0.8677656  ... 0.0168205  0.27406918 0.00115206]]\n",
            "\n"
          ],
          "name": "stdout"
        }
      ]
    },
    {
      "cell_type": "markdown",
      "metadata": {
        "id": "WLEgdfUr32iG"
      },
      "source": [
        "Podemos ver que toda recuperção dos dados ocorreram perfeitamente. E o tempo de recuperação foi pouco maior do que o próprio tempo de escrita."
      ]
    },
    {
      "cell_type": "markdown",
      "metadata": {
        "id": "LBGlqBq-4L2O"
      },
      "source": [
        "# HDF5 - Compressão"
      ]
    },
    {
      "cell_type": "markdown",
      "metadata": {
        "id": "bhUQrTDe4PCp"
      },
      "source": [
        "Iremos criar HDF5 usando o recurso de comprimir os dataset's.\n",
        "A leitura e listagem são semelhantes aos exemplos anteriores."
      ]
    },
    {
      "cell_type": "code",
      "metadata": {
        "id": "TSotULqQ4WYL"
      },
      "source": [
        "hdf5_groups_compression = 'hdf5_groups_compression.h5'"
      ],
      "execution_count": 18,
      "outputs": []
    },
    {
      "cell_type": "markdown",
      "metadata": {
        "id": "Fz22AucB4exB"
      },
      "source": [
        "Usando ```compression='gzip', compression_opts=9```"
      ]
    },
    {
      "cell_type": "code",
      "metadata": {
        "colab": {
          "base_uri": "https://localhost:8080/"
        },
        "id": "HhlJJSFl4bnC",
        "outputId": "cde0f936-03dd-4a83-82a9-1671b1461e95"
      },
      "source": [
        "%%time\n",
        "with h5py.File(hdf5_groups_compression, 'w') as hdf:\n",
        "  g1 = hdf.create_group('Group1')\n",
        "  g1.create_dataset('dataset1', data=matrix1, compression='gzip', compression_opts=9)\n",
        "  g1.create_dataset('dataset4', data=matrix4, compression='gzip', compression_opts=9)\n",
        "\n",
        "  g21 = hdf.create_group('Group2/SubGroup1')\n",
        "  g21.create_dataset('dataset2', data=matrix2, compression='gzip', compression_opts=9)\n",
        "\n",
        "  g22 = hdf.create_group('Group2/SubGroup2')\n",
        "  g22.create_dataset('dataset3', data=matrix3, compression='gzip', compression_opts=9)\n",
        "\n",
        "  hdf.create_dataset('dataset5', data=matrix5, compression='gzip', compression_opts=9)"
      ],
      "execution_count": 19,
      "outputs": [
        {
          "output_type": "stream",
          "text": [
            "CPU times: user 4.45 s, sys: 126 ms, total: 4.58 s\n",
            "Wall time: 4.59 s\n"
          ],
          "name": "stdout"
        }
      ]
    },
    {
      "cell_type": "code",
      "metadata": {
        "colab": {
          "base_uri": "https://localhost:8080/"
        },
        "id": "7e1dvWQz4jAQ",
        "outputId": "73c69bdd-c375-49f8-b311-b2b03462f67a"
      },
      "source": [
        "!du -sh hdf5_groups_compression.h5"
      ],
      "execution_count": 20,
      "outputs": [
        {
          "output_type": "stream",
          "text": [
            "94M\thdf5_groups_compression.h5\n"
          ],
          "name": "stdout"
        }
      ]
    },
    {
      "cell_type": "markdown",
      "metadata": {
        "id": "9YdLphkv4mHL"
      },
      "source": [
        "Comparando os tempos de execução e tamanho vemos que:\n",
        "  * Tempo de execução:\n",
        "    * Sem Compressão: 175ms\n",
        "    * Com Compressão: 4.82s\n",
        "\n",
        "  * Tamanho de arquivo:\n",
        "    * Sem Compressão: 100M\n",
        "    * Com Compressão: 94M\n",
        "\n",
        "Podemos notar que o tempo para criar o arquivo aumento em mais de 27 vezes. Ao passo que o tamanho do arquivo reduziu 6%. Essa pouca redução pode ser atribuida a característica do dado, ou seja, matriz numérica totalmente preenchida.\n",
        "\n",
        "Nesse caso a compressão não me parece vantajosa. "
      ]
    },
    {
      "cell_type": "markdown",
      "metadata": {
        "id": "I3oOydCz374d"
      },
      "source": [
        "# HDF5 - Atributos"
      ]
    },
    {
      "cell_type": "markdown",
      "metadata": {
        "id": "upzxZnBT4Br0"
      },
      "source": [
        "Manipularesmo HDF5 com atributos, além das estrutura vistas a cima."
      ]
    },
    {
      "cell_type": "code",
      "metadata": {
        "id": "1C17LfSO3zVm"
      },
      "source": [
        "hdf5_attr = 'hdf5_attr.h5'"
      ],
      "execution_count": 21,
      "outputs": []
    },
    {
      "cell_type": "markdown",
      "metadata": {
        "id": "mqtP76SC483l"
      },
      "source": [
        "## Criando"
      ]
    },
    {
      "cell_type": "code",
      "metadata": {
        "colab": {
          "base_uri": "https://localhost:8080/"
        },
        "id": "VfrN1g8A497c",
        "outputId": "017c84de-5db6-4dd4-82a5-6a9b9fcc0041"
      },
      "source": [
        "%%time\n",
        "with h5py.File(hdf5_attr, 'w') as hdf:\n",
        "  g1 = hdf.create_group('Group1')\n",
        "  g1.attrs[\"NAME\"] = 'Grupo 1'\n",
        "  dataset1 = g1.create_dataset('dataset1', data=matrix1)\n",
        "  dataset1.attrs['CLASSE'] = 'MATRIX'\n",
        "  dataset1.attrs['TYPE'] = 'np'\n",
        "  dataset1.attrs['LEN'] = f'{matrix1.shape}'\n",
        "\n",
        "  dataset4 = g1.create_dataset('dataset4', data=matrix4)\n",
        "  dataset4.attrs['CLASSE'] = 'MATRIX'\n",
        "  dataset4.attrs['TYPE'] = 'np'\n",
        "  dataset4.attrs['LEN'] = f'{matrix4.shape}'\n",
        "  \n",
        "  g21 = hdf.create_group('Group2/SubGroup1')\n",
        "  g21.attrs['NAME'] = 'Grupo 2'\n",
        "  dataset2 = g21.create_dataset('dataset2', data=matrix2)\n",
        "  dataset2.attrs['CLASSE'] = 'MATRIX'\n",
        "  dataset2.attrs['TYPE'] = 'np'\n",
        "  dataset2.attrs['LEN'] = f'{matrix2.shape}'\n",
        "\n",
        "  g22 = hdf.create_group('Group2/SubGroup2')\n",
        "  dataset3 = g22.create_dataset('dataset3', data=matrix3)\n",
        "  dataset3.attrs['CLASSE'] = 'MATRIX'\n",
        "  dataset3.attrs['TYPE'] = 'np'\n",
        "  dataset3.attrs['LEN'] = f'{matrix3.shape}'\n",
        "\n",
        "  dataset5 = hdf.create_dataset('dataset5', data=matrix5)\n",
        "  dataset5.attrs['CLASSE'] = 'MATRIX'\n",
        "  dataset5.attrs['TYPE'] = 'np'\n",
        "  dataset5.attrs['LEN'] = f'{matrix5.shape}'"
      ],
      "execution_count": 22,
      "outputs": [
        {
          "output_type": "stream",
          "text": [
            "CPU times: user 12.2 ms, sys: 139 ms, total: 152 ms\n",
            "Wall time: 233 ms\n"
          ],
          "name": "stdout"
        }
      ]
    },
    {
      "cell_type": "code",
      "metadata": {
        "colab": {
          "base_uri": "https://localhost:8080/"
        },
        "id": "cluC5iwb5D9L",
        "outputId": "e3258dd5-077a-48ee-9919-56168b036c78"
      },
      "source": [
        "!du -sh hdf5_groups_compression.h5"
      ],
      "execution_count": 23,
      "outputs": [
        {
          "output_type": "stream",
          "text": [
            "94M\thdf5_groups_compression.h5\n"
          ],
          "name": "stdout"
        }
      ]
    },
    {
      "cell_type": "markdown",
      "metadata": {
        "id": "RQfqmz7H5NPD"
      },
      "source": [
        "Note que podemos adicionar atributos tanto em dataset quanto grupos e subgrupos."
      ]
    },
    {
      "cell_type": "markdown",
      "metadata": {
        "id": "MQumrlv65m3_"
      },
      "source": [
        "## Lendo"
      ]
    },
    {
      "cell_type": "code",
      "metadata": {
        "colab": {
          "base_uri": "https://localhost:8080/"
        },
        "id": "-PinRmJR5nxd",
        "outputId": "1f3227c7-8c36-4fec-d02e-a9c82bc3732c"
      },
      "source": [
        "with h5py.File(hdf5_attr, 'r') as hdf:\n",
        "  print(f'Raiz -> keys: {hdf.keys()}\\n')\n",
        "  g1 = hdf.get('Group1')\n",
        "  print(f'Group1 -> keys: {g1.keys()}\\n')\n",
        "\n",
        "  print(f'Group1 -> Atributos: {list(g1.attrs.items())}')\n",
        "  print(f'Group1 -> Atributos keys: {list(g1.attrs.keys())}')\n",
        "  print(f'Group1 -> Atributos values: {list(g1.attrs.values())}')\n",
        "\n",
        "  dataset5 = hdf.get('dataset5')\n",
        "  print(f'\\ndataset5 -> Atributos: {list(dataset5.attrs.items())}')\n",
        "  print(f'dataset5 -> Atributos keys: {list(dataset5.attrs.keys())}')\n",
        "  print(f'dataset5 -> Atributos values: {list(dataset5.attrs.values())}')\n",
        "  print(f'dataset5 -> Atributo[\"CLASSE\"]: {dataset5.attrs[\"CLASSE\"]}')\n",
        "  for at in list(dataset5.attrs.keys()):\n",
        "    print(f'dataset5 -> Atributo[\"{at}\"]: {dataset5.attrs[at]}')"
      ],
      "execution_count": 24,
      "outputs": [
        {
          "output_type": "stream",
          "text": [
            "Raiz -> keys: <KeysViewHDF5 ['Group1', 'Group2', 'dataset5']>\n",
            "\n",
            "Group1 -> keys: <KeysViewHDF5 ['dataset1', 'dataset4']>\n",
            "\n",
            "Group1 -> Atributos: [('NAME', 'Grupo 1')]\n",
            "Group1 -> Atributos keys: ['NAME']\n",
            "Group1 -> Atributos values: ['Grupo 1']\n",
            "\n",
            "dataset5 -> Atributos: [('CLASSE', 'MATRIX'), ('LEN', '(100, 100)'), ('TYPE', 'np')]\n",
            "dataset5 -> Atributos keys: ['CLASSE', 'LEN', 'TYPE']\n",
            "dataset5 -> Atributos values: ['MATRIX', '(100, 100)', 'np']\n",
            "dataset5 -> Atributo[\"CLASSE\"]: MATRIX\n",
            "dataset5 -> Atributo[\"CLASSE\"]: MATRIX\n",
            "dataset5 -> Atributo[\"LEN\"]: (100, 100)\n",
            "dataset5 -> Atributo[\"TYPE\"]: np\n"
          ],
          "name": "stdout"
        }
      ]
    },
    {
      "cell_type": "markdown",
      "metadata": {
        "id": "eD7UiXdE5wHW"
      },
      "source": [
        "Os atributos podem ser recuperados tanto como itens, ou suas chaves ou valores, como mostrado no exemplo a cima."
      ]
    },
    {
      "cell_type": "markdown",
      "metadata": {
        "id": "uk6PSWvz56Ux"
      },
      "source": [
        "# HDF5 - Pandas"
      ]
    },
    {
      "cell_type": "markdown",
      "metadata": {
        "id": "PByP6N085_-_"
      },
      "source": [
        "Iremos manipular HDF5 que armaarmazena estrutura pandas. \n",
        "\n",
        "Apresentaremos também outro modo de criação."
      ]
    },
    {
      "cell_type": "code",
      "metadata": {
        "id": "xJb1faxQ54Eb"
      },
      "source": [
        "hdf5_pandas = 'hdf5_pandas.h5'"
      ],
      "execution_count": 25,
      "outputs": []
    },
    {
      "cell_type": "markdown",
      "metadata": {
        "id": "3YT-3mLu6TD1"
      },
      "source": [
        "## Criando"
      ]
    },
    {
      "cell_type": "code",
      "metadata": {
        "id": "3XwY6LfE6RCo"
      },
      "source": [
        "hdf = pd.HDFStore(hdf5_pandas)\n",
        "hdf.put('CIDADE', df_cidade, format='table', data_columns=True)\n",
        "hdf.put('ESTADO', df_estado, format='table', data_columns=True)\n",
        "hdf.close()"
      ],
      "execution_count": 26,
      "outputs": []
    },
    {
      "cell_type": "markdown",
      "metadata": {
        "id": "uUcm-0v_6WjO"
      },
      "source": [
        "## Lendo"
      ]
    },
    {
      "cell_type": "code",
      "metadata": {
        "colab": {
          "base_uri": "https://localhost:8080/"
        },
        "id": "OPWT1ZDF6X3b",
        "outputId": "4eb81a11-8152-408b-a81e-fb5c7ad500ae"
      },
      "source": [
        "hdf = pd.HDFStore(hdf5_pandas, mode='r')\n",
        "print('Estruturas(keys) na raiz: ', list(hdf.keys()))"
      ],
      "execution_count": 27,
      "outputs": [
        {
          "output_type": "stream",
          "text": [
            "Estruturas(keys) na raiz:  ['/CIDADE', '/ESTADO']\n"
          ],
          "name": "stdout"
        }
      ]
    },
    {
      "cell_type": "markdown",
      "metadata": {
        "id": "d0RfCmR27xMV"
      },
      "source": [
        "Os nomes das estruturas na raiz são: '/CIDADE' e '/ESTADO'"
      ]
    },
    {
      "cell_type": "code",
      "metadata": {
        "colab": {
          "base_uri": "https://localhost:8080/"
        },
        "id": "qgpoGYNh7ogx",
        "outputId": "bcaea3d8-fc05-4742-ccf5-fe15cb406a1d"
      },
      "source": [
        "data_cidade = hdf.get('/CIDADE')\n",
        "print('Tipo do dado:', type(data_cidade))\n",
        "print(f'\\nCoteúdo do dado:\\n{data_cidade}')"
      ],
      "execution_count": 28,
      "outputs": [
        {
          "output_type": "stream",
          "text": [
            "Tipo do dado: <class 'pandas.core.frame.DataFrame'>\n",
            "\n",
            "Coteúdo do dado:\n",
            "           cidade  rank  tamanho\n",
            "0        Campinas     2    média\n",
            "1         Olímpia     1  pequena\n",
            "2       São Paulo     3   grande\n",
            "3   Iquaquecetuba     4    média\n",
            "4  Pintamonhagaba     5    média\n"
          ],
          "name": "stdout"
        }
      ]
    },
    {
      "cell_type": "markdown",
      "metadata": {
        "id": "1jCP_sBU8a1K"
      },
      "source": [
        "Note que no caso do dataframe não foi preciso fazer a conversão, como ocorria com a matriz numpy."
      ]
    },
    {
      "cell_type": "markdown",
      "metadata": {
        "id": "jcIv76H86Yor"
      },
      "source": [
        "# HDF5 - Outras formas de manipulação"
      ]
    },
    {
      "cell_type": "code",
      "metadata": {
        "colab": {
          "base_uri": "https://localhost:8080/"
        },
        "id": "dYBXjguP6cT-",
        "outputId": "01280303-c66d-48af-cff4-05a24c807e60"
      },
      "source": [
        "hdf = h5py.File(dataset_simples, 'r')\n",
        "data1 = hdf.get('dataset1')\n",
        "dataset1 = np.array(data1)\n",
        "hdf.close()\n",
        "print(f'Tipo do dado:\\n{type(data1)}\\n')\n",
        "print(f'Conteúdo do dado:\\n{data1}\\n')\n",
        "print(f'Tipo do dado:\\n{type(dataset1)}\\n')\n",
        "print(f'Conteúdo do dado:\\n{dataset1}\\n')"
      ],
      "execution_count": 29,
      "outputs": [
        {
          "output_type": "stream",
          "text": [
            "Tipo do dado:\n",
            "<class 'h5py._hl.dataset.Dataset'>\n",
            "\n",
            "Conteúdo do dado:\n",
            "<Closed HDF5 dataset>\n",
            "\n",
            "Tipo do dado:\n",
            "<class 'numpy.ndarray'>\n",
            "\n",
            "Conteúdo do dado:\n",
            "[[0.85344519 0.91879515 0.04219278 ... 0.53860758 0.79170853 0.45037284]\n",
            " [0.57598117 0.66806994 0.39395578 ... 0.53989399 0.09892599 0.69500278]\n",
            " [0.68404195 0.24287255 0.75104202 ... 0.36248623 0.19542893 0.56904453]\n",
            " ...\n",
            " [0.46389146 0.820671   0.12536702 ... 0.23997888 0.27386973 0.42254806]\n",
            " [0.40800266 0.16176775 0.70738742 ... 0.91138304 0.29355968 0.06466227]\n",
            " [0.46246918 0.27846881 0.82206059 ... 0.99782485 0.73849111 0.53104524]]\n",
            "\n"
          ],
          "name": "stdout"
        }
      ]
    },
    {
      "cell_type": "markdown",
      "metadata": {
        "id": "uJdG6wSq6iRM"
      },
      "source": [
        "Note que o resultado é o mesmo a diferente é que nesse caso precisamos explicitamente fechar (close) o arquivo que foi aberto."
      ]
    },
    {
      "cell_type": "code",
      "metadata": {
        "colab": {
          "base_uri": "https://localhost:8080/"
        },
        "id": "RF51rcd16epP",
        "outputId": "d19e4004-fb4a-49ee-8607-d06010830343"
      },
      "source": [
        "with h5py.File(hdf5_groups, 'r') as hdf:\n",
        "  items_hdf = list(hdf.items())\n",
        "  print(f'Todos os itens da raiz: {items_hdf}\\n')\n",
        "  print(f'Tupla contendo o item ZERO: {items_hdf[0]}\\n')\n",
        "  print(f'Nome do item ZERO: {items_hdf[0][0]}\\n')\n",
        "  print(f'Valor do item ZERO: {items_hdf[0][1]}\\n')\n",
        "\n",
        "  nome_grupo = items_hdf[0][0]\n",
        "  valor_group = items_hdf[0][1]  \n",
        "  print(f'Itens tendo o item ZERO ({nome_grupo}): {list(valor_group.items())}\\n')\n",
        "\n",
        "  data1 = valor_group.get('dataset1')\n",
        "  dataset1 = np.array(data1)\n",
        "  print()\n",
        "\n",
        "print(f'Tipo do dado:\\n{type(dataset1)}\\n')\n",
        "print(f'Conteúdo do dado:\\n{dataset1}\\n')"
      ],
      "execution_count": 30,
      "outputs": [
        {
          "output_type": "stream",
          "text": [
            "Todos os itens da raiz: [('Group1', <HDF5 group \"/Group1\" (2 members)>), ('Group2', <HDF5 group \"/Group2\" (2 members)>), ('dataset5', <HDF5 dataset \"dataset5\": shape (100, 100), type \"<f8\">)]\n",
            "\n",
            "Tupla contendo o item ZERO: ('Group1', <HDF5 group \"/Group1\" (2 members)>)\n",
            "\n",
            "Nome do item ZERO: Group1\n",
            "\n",
            "Valor do item ZERO: <HDF5 group \"/Group1\" (2 members)>\n",
            "\n",
            "Itens tendo o item ZERO (Group1): [('dataset1', <HDF5 dataset \"dataset1\": shape (1000, 1000), type \"<f8\">), ('dataset4', <HDF5 dataset \"dataset4\": shape (1000, 1000), type \"<f8\">)]\n",
            "\n",
            "\n",
            "Tipo do dado:\n",
            "<class 'numpy.ndarray'>\n",
            "\n",
            "Conteúdo do dado:\n",
            "[[0.85344519 0.91879515 0.04219278 ... 0.53860758 0.79170853 0.45037284]\n",
            " [0.57598117 0.66806994 0.39395578 ... 0.53989399 0.09892599 0.69500278]\n",
            " [0.68404195 0.24287255 0.75104202 ... 0.36248623 0.19542893 0.56904453]\n",
            " ...\n",
            " [0.46389146 0.820671   0.12536702 ... 0.23997888 0.27386973 0.42254806]\n",
            " [0.40800266 0.16176775 0.70738742 ... 0.91138304 0.29355968 0.06466227]\n",
            " [0.46246918 0.27846881 0.82206059 ... 0.99782485 0.73849111 0.53104524]]\n",
            "\n"
          ],
          "name": "stdout"
        }
      ]
    },
    {
      "cell_type": "markdown",
      "metadata": {
        "id": "B_oGBnjOZYT-"
      },
      "source": [
        "# HDF5 - File in Dataset"
      ]
    },
    {
      "cell_type": "code",
      "metadata": {
        "id": "AaJy1D-B-vHK"
      },
      "source": [
        "import base64"
      ],
      "execution_count": 31,
      "outputs": []
    },
    {
      "cell_type": "code",
      "metadata": {
        "colab": {
          "base_uri": "https://localhost:8080/"
        },
        "id": "5FTpPABH6tAT",
        "outputId": "db3a04bc-6f21-49a1-acb0-52b326f4153f"
      },
      "source": [
        "hdf5_to_in = 'hdf5_to_in.h5'\n",
        "hdf5_with_hdf5 = 'hdf5_with_hdf5.h5'\n",
        "hdf5_with_hdf5_ret = 'hdf5_with_hdf5_ret.h5'\n",
        "print(\"Arquivo para incluir:\", hdf5_to_in)\n",
        "print(\"Arquivo com o hdf5 dentro:\", hdf5_with_hdf5)\n",
        "print(\"Arquivo com o hdf5 dentro retorno:\", hdf5_with_hdf5_ret)\n",
        "\n",
        "dados = np.array(range(100))\n",
        "print(\"\\nDados dentro do dataset:\", dados)\n",
        "\n",
        "with h5py.File(hdf5_to_in, 'w') as hdf:\n",
        "  hdf.create_dataset(name='RANGE_10', data=dados)\n",
        "\n",
        "with h5py.File(hdf5_to_in, 'r') as hdf:\n",
        "  dset = hdf.get('RANGE_10')\n",
        "  print(\"\\nDados Retorno:\", np.array(dset))\n",
        "\n",
        "print(\"\\nTamanho do HDF5\", hdf5_to_in)\n",
        "!du -sh hdf5_to_in.h5"
      ],
      "execution_count": 32,
      "outputs": [
        {
          "output_type": "stream",
          "text": [
            "Arquivo para incluir: hdf5_to_in.h5\n",
            "Arquivo com o hdf5 dentro: hdf5_with_hdf5.h5\n",
            "Arquivo com o hdf5 dentro retorno: hdf5_with_hdf5_ret.h5\n",
            "\n",
            "Dados dentro do dataset: [ 0  1  2  3  4  5  6  7  8  9 10 11 12 13 14 15 16 17 18 19 20 21 22 23\n",
            " 24 25 26 27 28 29 30 31 32 33 34 35 36 37 38 39 40 41 42 43 44 45 46 47\n",
            " 48 49 50 51 52 53 54 55 56 57 58 59 60 61 62 63 64 65 66 67 68 69 70 71\n",
            " 72 73 74 75 76 77 78 79 80 81 82 83 84 85 86 87 88 89 90 91 92 93 94 95\n",
            " 96 97 98 99]\n",
            "\n",
            "Dados Retorno: [ 0  1  2  3  4  5  6  7  8  9 10 11 12 13 14 15 16 17 18 19 20 21 22 23\n",
            " 24 25 26 27 28 29 30 31 32 33 34 35 36 37 38 39 40 41 42 43 44 45 46 47\n",
            " 48 49 50 51 52 53 54 55 56 57 58 59 60 61 62 63 64 65 66 67 68 69 70 71\n",
            " 72 73 74 75 76 77 78 79 80 81 82 83 84 85 86 87 88 89 90 91 92 93 94 95\n",
            " 96 97 98 99]\n",
            "\n",
            "Tamanho do HDF5 hdf5_to_in.h5\n",
            "4.0K\thdf5_to_in.h5\n"
          ],
          "name": "stdout"
        }
      ]
    },
    {
      "cell_type": "code",
      "metadata": {
        "colab": {
          "base_uri": "https://localhost:8080/"
        },
        "id": "IRBAVgps8w5K",
        "outputId": "496c8237-9f8a-49d4-ecdf-68e371bcaae8"
      },
      "source": [
        "data_binary = None\n",
        "with open(hdf5_to_in, 'rb') as f:\n",
        "  data = f.read()\n",
        "  print(data)\n",
        "  data_binary = base64.b64encode(data)\n",
        "\n",
        "print(data_binary)"
      ],
      "execution_count": 33,
      "outputs": [
        {
          "output_type": "stream",
          "text": [
            "b'\\x89HDF\\r\\n\\x1a\\n\\x00\\x00\\x00\\x00\\x00\\x08\\x08\\x00\\x04\\x00\\x10\\x00\\x00\\x00\\x00\\x00\\x00\\x00\\x00\\x00\\x00\\x00\\x00\\x00\\xff\\xff\\xff\\xff\\xff\\xff\\xff\\xff \\x0b\\x00\\x00\\x00\\x00\\x00\\x00\\xff\\xff\\xff\\xff\\xff\\xff\\xff\\xff\\x00\\x00\\x00\\x00\\x00\\x00\\x00\\x00`\\x00\\x00\\x00\\x00\\x00\\x00\\x00\\x01\\x00\\x00\\x00\\x00\\x00\\x00\\x00\\x88\\x00\\x00\\x00\\x00\\x00\\x00\\x00\\xa8\\x02\\x00\\x00\\x00\\x00\\x00\\x00\\x01\\x00\\x01\\x00\\x01\\x00\\x00\\x00\\x18\\x00\\x00\\x00\\x00\\x00\\x00\\x00\\x11\\x00\\x10\\x00\\x00\\x00\\x00\\x00\\x88\\x00\\x00\\x00\\x00\\x00\\x00\\x00\\xa8\\x02\\x00\\x00\\x00\\x00\\x00\\x00TREE\\x00\\x00\\x01\\x00\\xff\\xff\\xff\\xff\\xff\\xff\\xff\\xff\\xff\\xff\\xff\\xff\\xff\\xff\\xff\\xff\\x00\\x00\\x00\\x00\\x00\\x00\\x00\\x000\\x04\\x00\\x00\\x00\\x00\\x00\\x00\\x08\\x00\\x00\\x00\\x00\\x00\\x00\\x00\\x00\\x00\\x00\\x00\\x00\\x00\\x00\\x00\\x00\\x00\\x00\\x00\\x00\\x00\\x00\\x00\\x00\\x00\\x00\\x00\\x00\\x00\\x00\\x00\\x00\\x00\\x00\\x00\\x00\\x00\\x00\\x00\\x00\\x00\\x00\\x00\\x00\\x00\\x00\\x00\\x00\\x00\\x00\\x00\\x00\\x00\\x00\\x00\\x00\\x00\\x00\\x00\\x00\\x00\\x00\\x00\\x00\\x00\\x00\\x00\\x00\\x00\\x00\\x00\\x00\\x00\\x00\\x00\\x00\\x00\\x00\\x00\\x00\\x00\\x00\\x00\\x00\\x00\\x00\\x00\\x00\\x00\\x00\\x00\\x00\\x00\\x00\\x00\\x00\\x00\\x00\\x00\\x00\\x00\\x00\\x00\\x00\\x00\\x00\\x00\\x00\\x00\\x00\\x00\\x00\\x00\\x00\\x00\\x00\\x00\\x00\\x00\\x00\\x00\\x00\\x00\\x00\\x00\\x00\\x00\\x00\\x00\\x00\\x00\\x00\\x00\\x00\\x00\\x00\\x00\\x00\\x00\\x00\\x00\\x00\\x00\\x00\\x00\\x00\\x00\\x00\\x00\\x00\\x00\\x00\\x00\\x00\\x00\\x00\\x00\\x00\\x00\\x00\\x00\\x00\\x00\\x00\\x00\\x00\\x00\\x00\\x00\\x00\\x00\\x00\\x00\\x00\\x00\\x00\\x00\\x00\\x00\\x00\\x00\\x00\\x00\\x00\\x00\\x00\\x00\\x00\\x00\\x00\\x00\\x00\\x00\\x00\\x00\\x00\\x00\\x00\\x00\\x00\\x00\\x00\\x00\\x00\\x00\\x00\\x00\\x00\\x00\\x00\\x00\\x00\\x00\\x00\\x00\\x00\\x00\\x00\\x00\\x00\\x00\\x00\\x00\\x00\\x00\\x00\\x00\\x00\\x00\\x00\\x00\\x00\\x00\\x00\\x00\\x00\\x00\\x00\\x00\\x00\\x00\\x00\\x00\\x00\\x00\\x00\\x00\\x00\\x00\\x00\\x00\\x00\\x00\\x00\\x00\\x00\\x00\\x00\\x00\\x00\\x00\\x00\\x00\\x00\\x00\\x00\\x00\\x00\\x00\\x00\\x00\\x00\\x00\\x00\\x00\\x00\\x00\\x00\\x00\\x00\\x00\\x00\\x00\\x00\\x00\\x00\\x00\\x00\\x00\\x00\\x00\\x00\\x00\\x00\\x00\\x00\\x00\\x00\\x00\\x00\\x00\\x00\\x00\\x00\\x00\\x00\\x00\\x00\\x00\\x00\\x00\\x00\\x00\\x00\\x00\\x00\\x00\\x00\\x00\\x00\\x00\\x00\\x00\\x00\\x00\\x00\\x00\\x00\\x00\\x00\\x00\\x00\\x00\\x00\\x00\\x00\\x00\\x00\\x00\\x00\\x00\\x00\\x00\\x00\\x00\\x00\\x00\\x00\\x00\\x00\\x00\\x00\\x00\\x00\\x00\\x00\\x00\\x00\\x00\\x00\\x00\\x00\\x00\\x00\\x00\\x00\\x00\\x00\\x00\\x00\\x00\\x00\\x00\\x00\\x00\\x00\\x00\\x00\\x00\\x00\\x00\\x00\\x00\\x00\\x00\\x00\\x00\\x00\\x00\\x00\\x00\\x00\\x00\\x00\\x00\\x00\\x00\\x00\\x00\\x00\\x00\\x00\\x00\\x00\\x00\\x00\\x00\\x00\\x00\\x00\\x00\\x00\\x00\\x00\\x00\\x00\\x00\\x00\\x00\\x00\\x00\\x00\\x00\\x00\\x00\\x00\\x00\\x00\\x00\\x00\\x00\\x00\\x00\\x00\\x00\\x00\\x00\\x00\\x00\\x00\\x00\\x00\\x00\\x00\\x00\\x00\\x00\\x00\\x00\\x00\\x00\\x00\\x00\\x00\\x00\\x00\\x00\\x00\\x00\\x00\\x00\\x00\\x00\\x00\\x00\\x00\\x00\\x00\\x00\\x00\\x00\\x00\\x00\\x00\\x00\\x00\\x00\\x00\\x00\\x00\\x00\\x00\\x00\\x00\\x00\\x00\\x00\\x00\\x00\\x00\\x00\\x00\\x00\\x00\\x00\\x00\\x00\\x00\\x00\\x00\\x00\\x00\\x00HEAP\\x00\\x00\\x00\\x00X\\x00\\x00\\x00\\x00\\x00\\x00\\x00\\x18\\x00\\x00\\x00\\x00\\x00\\x00\\x00\\xc8\\x02\\x00\\x00\\x00\\x00\\x00\\x00\\x00\\x00\\x00\\x00\\x00\\x00\\x00\\x00RANGE_10\\x00\\x00\\x00\\x00\\x00\\x00\\x00\\x00\\x01\\x00\\x00\\x00\\x00\\x00\\x00\\x00@\\x00\\x00\\x00\\x00\\x00\\x00\\x00\\x00\\x00\\x00\\x00\\x00\\x00\\x00\\x00\\x00\\x00\\x00\\x00\\x00\\x00\\x00\\x00\\x00\\x00\\x00\\x00\\x00\\x00\\x00\\x00\\x00\\x00\\x00\\x00\\x00\\x00\\x00\\x00\\x00\\x00\\x00\\x00\\x00\\x00\\x00\\x00\\x00\\x00\\x00\\x00\\x00\\x00\\x00\\x00\\x01\\x00\\x06\\x00\\x01\\x00\\x00\\x00\\x00\\x01\\x00\\x00\\x00\\x00\\x00\\x00\\x01\\x00\\x18\\x00\\x00\\x00\\x00\\x00\\x01\\x01\\x01\\x00\\x00\\x00\\x00\\x00d\\x00\\x00\\x00\\x00\\x00\\x00\\x00d\\x00\\x00\\x00\\x00\\x00\\x00\\x00\\x03\\x00\\x10\\x00\\x01\\x00\\x00\\x00\\x10\\x08\\x00\\x00\\x08\\x00\\x00\\x00\\x00\\x00@\\x00\\x00\\x00\\x00\\x00\\x05\\x00\\x08\\x00\\x01\\x00\\x00\\x00\\x02\\x02\\x02\\x01\\x00\\x00\\x00\\x00\\x08\\x00\\x18\\x00\\x00\\x00\\x00\\x00\\x03\\x01\\x00\\x08\\x00\\x00\\x00\\x00\\x00\\x00 \\x03\\x00\\x00\\x00\\x00\\x00\\x00\\x00\\x00\\x00\\x00\\x00\\x00\\x12\\x00\\x08\\x00\\x00\\x00\\x00\\x00\\x01\\x00\\x00\\x00K\\x99#a\\x00\\x00\\x80\\x00\\x00\\x00\\x00\\x00\\x00\\x00\\x00\\x00\\x00\\x00\\x00\\x00\\x00\\x00\\x00\\x00\\x00\\x00\\x00\\x00\\x00\\x00\\x00\\x00\\x00\\x00\\x00\\x00\\x00\\x00\\x00\\x00\\x00\\x00\\x00\\x00\\x00\\x00\\x00\\x00\\x00\\x00\\x00\\x00\\x00\\x00\\x00\\x00\\x00\\x00\\x00\\x00\\x00\\x00\\x00\\x00\\x00\\x00\\x00\\x00\\x00\\x00\\x00\\x00\\x00\\x00\\x00\\x00\\x00\\x00\\x00\\x00\\x00\\x00\\x00\\x00\\x00\\x00\\x00\\x00\\x00\\x00\\x00\\x00\\x00\\x00\\x00\\x00\\x00\\x00\\x00\\x00\\x00\\x00\\x00\\x00\\x00\\x00\\x00\\x00\\x00\\x00\\x00\\x00\\x00\\x00\\x00\\x00\\x00\\x00\\x00\\x00\\x00\\x00\\x00\\x00\\x00\\x00\\x00\\x00\\x00\\x00\\x00\\x00\\x00\\x00\\x00\\x00\\x00\\x00\\x00\\x00SNOD\\x01\\x00\\x01\\x00\\x08\\x00\\x00\\x00\\x00\\x00\\x00\\x00 \\x03\\x00\\x00\\x00\\x00\\x00\\x00\\x00\\x00\\x00\\x00\\x00\\x00\\x00\\x00\\x00\\x00\\x00\\x00\\x00\\x00\\x00\\x00\\x00\\x00\\x00\\x00\\x00\\x00\\x00\\x00\\x00\\x00\\x00\\x00\\x00\\x00\\x00\\x00\\x00\\x00\\x00\\x00\\x00\\x00\\x00\\x00\\x00\\x00\\x00\\x00\\x00\\x00\\x00\\x00\\x00\\x00\\x00\\x00\\x00\\x00\\x00\\x00\\x00\\x00\\x00\\x00\\x00\\x00\\x00\\x00\\x00\\x00\\x00\\x00\\x00\\x00\\x00\\x00\\x00\\x00\\x00\\x00\\x00\\x00\\x00\\x00\\x00\\x00\\x00\\x00\\x00\\x00\\x00\\x00\\x00\\x00\\x00\\x00\\x00\\x00\\x00\\x00\\x00\\x00\\x00\\x00\\x00\\x00\\x00\\x00\\x00\\x00\\x00\\x00\\x00\\x00\\x00\\x00\\x00\\x00\\x00\\x00\\x00\\x00\\x00\\x00\\x00\\x00\\x00\\x00\\x00\\x00\\x00\\x00\\x00\\x00\\x00\\x00\\x00\\x00\\x00\\x00\\x00\\x00\\x00\\x00\\x00\\x00\\x00\\x00\\x00\\x00\\x00\\x00\\x00\\x00\\x00\\x00\\x00\\x00\\x00\\x00\\x00\\x00\\x00\\x00\\x00\\x00\\x00\\x00\\x00\\x00\\x00\\x00\\x00\\x00\\x00\\x00\\x00\\x00\\x00\\x00\\x00\\x00\\x00\\x00\\x00\\x00\\x00\\x00\\x00\\x00\\x00\\x00\\x00\\x00\\x00\\x00\\x00\\x00\\x00\\x00\\x00\\x00\\x00\\x00\\x00\\x00\\x00\\x00\\x00\\x00\\x00\\x00\\x00\\x00\\x00\\x00\\x00\\x00\\x00\\x00\\x00\\x00\\x00\\x00\\x00\\x00\\x00\\x00\\x00\\x00\\x00\\x00\\x00\\x00\\x00\\x00\\x00\\x00\\x00\\x00\\x00\\x00\\x00\\x00\\x00\\x00\\x00\\x00\\x00\\x00\\x00\\x00\\x00\\x00\\x00\\x00\\x00\\x00\\x00\\x00\\x00\\x00\\x00\\x00\\x00\\x00\\x00\\x00\\x00\\x00\\x00\\x00\\x00\\x00\\x00\\x00\\x00\\x00\\x00\\x00\\x00\\x00\\x00\\x00\\x00\\x00\\x00\\x00\\x00\\x00\\x00\\x00\\x00\\x00\\x00\\x00\\x00\\x00\\x00\\x00\\x00\\x00\\x00\\x00\\x00\\x00\\x00\\x00\\x00\\x00\\x00\\x00\\x00\\x00\\x00\\x00\\x00\\x00\\x00\\x00\\x00\\x00\\x00\\x00\\x00\\x00\\x00\\x00\\x00\\x00\\x00\\x00\\x00\\x00\\x00\\x00\\x00\\x00\\x00\\x00\\x00\\x00\\x00\\x00\\x00\\x00\\x00\\x00\\x00\\x00\\x00\\x00\\x00\\x00\\x00\\x00\\x00\\x00\\x00\\x00\\x00\\x00\\x00\\x00\\x00\\x00\\x00\\x00\\x00\\x00\\x00\\x00\\x00\\x00\\x00\\x00\\x00\\x00\\x00\\x00\\x00\\x00\\x00\\x00\\x00\\x00\\x00\\x00\\x00\\x00\\x00\\x00\\x00\\x00\\x00\\x00\\x00\\x00\\x00\\x00\\x00\\x00\\x00\\x00\\x00\\x00\\x00\\x00\\x00\\x00\\x00\\x00\\x00\\x00\\x00\\x00\\x00\\x00\\x00\\x00\\x00\\x00\\x00\\x00\\x00\\x00\\x00\\x00\\x00\\x00\\x00\\x00\\x00\\x00\\x00\\x00\\x00\\x00\\x00\\x00\\x00\\x00\\x00\\x00\\x00\\x00\\x00\\x00\\x00\\x00\\x00\\x00\\x00\\x00\\x00\\x00\\x00\\x00\\x00\\x00\\x00\\x00\\x00\\x00\\x00\\x00\\x00\\x00\\x00\\x00\\x00\\x00\\x00\\x00\\x00\\x00\\x00\\x00\\x00\\x00\\x00\\x00\\x00\\x00\\x00\\x00\\x00\\x00\\x00\\x00\\x00\\x00\\x00\\x00\\x00\\x00\\x00\\x00\\x00\\x00\\x00\\x00\\x00\\x00\\x00\\x00\\x00\\x00\\x00\\x00\\x00\\x00\\x00\\x00\\x00\\x00\\x00\\x00\\x00\\x00\\x00\\x00\\x00\\x00\\x00\\x00\\x00\\x00\\x00\\x00\\x00\\x00\\x00\\x00\\x00\\x00\\x00\\x00\\x00\\x00\\x00\\x00\\x00\\x00\\x00\\x00\\x00\\x00\\x00\\x00\\x00\\x00\\x00\\x00\\x00\\x00\\x00\\x00\\x00\\x00\\x00\\x00\\x00\\x00\\x00\\x00\\x00\\x00\\x00\\x00\\x00\\x00\\x00\\x00\\x00\\x00\\x00\\x00\\x00\\x00\\x00\\x00\\x00\\x00\\x00\\x00\\x00\\x00\\x00\\x00\\x00\\x00\\x00\\x00\\x00\\x00\\x00\\x00\\x00\\x00\\x00\\x00\\x00\\x00\\x00\\x00\\x00\\x00\\x00\\x00\\x00\\x00\\x00\\x00\\x00\\x00\\x00\\x00\\x00\\x00\\x00\\x00\\x00\\x00\\x00\\x00\\x00\\x00\\x00\\x00\\x00\\x00\\x00\\x00\\x00\\x00\\x00\\x00\\x00\\x00\\x00\\x00\\x00\\x00\\x00\\x00\\x00\\x00\\x00\\x00\\x00\\x00\\x00\\x00\\x00\\x00\\x00\\x00\\x00\\x00\\x00\\x00\\x00\\x00\\x00\\x00\\x00\\x00\\x00\\x00\\x00\\x00\\x00\\x00\\x00\\x00\\x00\\x00\\x00\\x00\\x00\\x00\\x00\\x00\\x00\\x00\\x00\\x00\\x00\\x00\\x00\\x00\\x00\\x00\\x00\\x00\\x00\\x00\\x00\\x00\\x00\\x00\\x00\\x00\\x00\\x00\\x00\\x00\\x00\\x00\\x00\\x00\\x00\\x00\\x00\\x00\\x00\\x00\\x00\\x00\\x00\\x00\\x00\\x00\\x00\\x00\\x00\\x00\\x00\\x00\\x00\\x00\\x00\\x00\\x00\\x00\\x00\\x00\\x00\\x00\\x00\\x00\\x00\\x00\\x00\\x00\\x00\\x00\\x00\\x00\\x00\\x00\\x00\\x00\\x00\\x00\\x00\\x00\\x00\\x00\\x00\\x00\\x00\\x00\\x00\\x00\\x00\\x00\\x00\\x00\\x00\\x00\\x00\\x00\\x00\\x00\\x00\\x00\\x00\\x00\\x00\\x00\\x00\\x00\\x00\\x00\\x00\\x00\\x00\\x00\\x00\\x00\\x00\\x00\\x00\\x00\\x00\\x00\\x00\\x00\\x00\\x00\\x00\\x00\\x00\\x00\\x00\\x00\\x00\\x00\\x00\\x00\\x00\\x00\\x00\\x00\\x00\\x00\\x00\\x00\\x00\\x00\\x00\\x00\\x00\\x00\\x00\\x00\\x00\\x00\\x00\\x00\\x00\\x00\\x00\\x00\\x00\\x00\\x00\\x00\\x00\\x00\\x00\\x00\\x00\\x00\\x00\\x00\\x00\\x00\\x00\\x00\\x00\\x00\\x00\\x00\\x00\\x00\\x00\\x00\\x00\\x00\\x00\\x00\\x00\\x00\\x00\\x00\\x00\\x00\\x00\\x00\\x00\\x00\\x00\\x00\\x00\\x00\\x00\\x00\\x00\\x00\\x00\\x00\\x00\\x00\\x00\\x00\\x00\\x00\\x00\\x00\\x00\\x00\\x00\\x00\\x00\\x00\\x00\\x00\\x00\\x00\\x00\\x00\\x00\\x00\\x00\\x00\\x00\\x00\\x00\\x00\\x00\\x00\\x00\\x00\\x00\\x00\\x00\\x00\\x00\\x00\\x00\\x00\\x00\\x00\\x00\\x00\\x00\\x00\\x00\\x00\\x00\\x00\\x00\\x00\\x00\\x00\\x00\\x00\\x00\\x00\\x00\\x00\\x00\\x00\\x00\\x00\\x00\\x00\\x00\\x00\\x00\\x00\\x00\\x00\\x00\\x00\\x00\\x00\\x00\\x00\\x00\\x00\\x01\\x00\\x00\\x00\\x00\\x00\\x00\\x00\\x02\\x00\\x00\\x00\\x00\\x00\\x00\\x00\\x03\\x00\\x00\\x00\\x00\\x00\\x00\\x00\\x04\\x00\\x00\\x00\\x00\\x00\\x00\\x00\\x05\\x00\\x00\\x00\\x00\\x00\\x00\\x00\\x06\\x00\\x00\\x00\\x00\\x00\\x00\\x00\\x07\\x00\\x00\\x00\\x00\\x00\\x00\\x00\\x08\\x00\\x00\\x00\\x00\\x00\\x00\\x00\\t\\x00\\x00\\x00\\x00\\x00\\x00\\x00\\n\\x00\\x00\\x00\\x00\\x00\\x00\\x00\\x0b\\x00\\x00\\x00\\x00\\x00\\x00\\x00\\x0c\\x00\\x00\\x00\\x00\\x00\\x00\\x00\\r\\x00\\x00\\x00\\x00\\x00\\x00\\x00\\x0e\\x00\\x00\\x00\\x00\\x00\\x00\\x00\\x0f\\x00\\x00\\x00\\x00\\x00\\x00\\x00\\x10\\x00\\x00\\x00\\x00\\x00\\x00\\x00\\x11\\x00\\x00\\x00\\x00\\x00\\x00\\x00\\x12\\x00\\x00\\x00\\x00\\x00\\x00\\x00\\x13\\x00\\x00\\x00\\x00\\x00\\x00\\x00\\x14\\x00\\x00\\x00\\x00\\x00\\x00\\x00\\x15\\x00\\x00\\x00\\x00\\x00\\x00\\x00\\x16\\x00\\x00\\x00\\x00\\x00\\x00\\x00\\x17\\x00\\x00\\x00\\x00\\x00\\x00\\x00\\x18\\x00\\x00\\x00\\x00\\x00\\x00\\x00\\x19\\x00\\x00\\x00\\x00\\x00\\x00\\x00\\x1a\\x00\\x00\\x00\\x00\\x00\\x00\\x00\\x1b\\x00\\x00\\x00\\x00\\x00\\x00\\x00\\x1c\\x00\\x00\\x00\\x00\\x00\\x00\\x00\\x1d\\x00\\x00\\x00\\x00\\x00\\x00\\x00\\x1e\\x00\\x00\\x00\\x00\\x00\\x00\\x00\\x1f\\x00\\x00\\x00\\x00\\x00\\x00\\x00 \\x00\\x00\\x00\\x00\\x00\\x00\\x00!\\x00\\x00\\x00\\x00\\x00\\x00\\x00\"\\x00\\x00\\x00\\x00\\x00\\x00\\x00#\\x00\\x00\\x00\\x00\\x00\\x00\\x00$\\x00\\x00\\x00\\x00\\x00\\x00\\x00%\\x00\\x00\\x00\\x00\\x00\\x00\\x00&\\x00\\x00\\x00\\x00\\x00\\x00\\x00\\'\\x00\\x00\\x00\\x00\\x00\\x00\\x00(\\x00\\x00\\x00\\x00\\x00\\x00\\x00)\\x00\\x00\\x00\\x00\\x00\\x00\\x00*\\x00\\x00\\x00\\x00\\x00\\x00\\x00+\\x00\\x00\\x00\\x00\\x00\\x00\\x00,\\x00\\x00\\x00\\x00\\x00\\x00\\x00-\\x00\\x00\\x00\\x00\\x00\\x00\\x00.\\x00\\x00\\x00\\x00\\x00\\x00\\x00/\\x00\\x00\\x00\\x00\\x00\\x00\\x000\\x00\\x00\\x00\\x00\\x00\\x00\\x001\\x00\\x00\\x00\\x00\\x00\\x00\\x002\\x00\\x00\\x00\\x00\\x00\\x00\\x003\\x00\\x00\\x00\\x00\\x00\\x00\\x004\\x00\\x00\\x00\\x00\\x00\\x00\\x005\\x00\\x00\\x00\\x00\\x00\\x00\\x006\\x00\\x00\\x00\\x00\\x00\\x00\\x007\\x00\\x00\\x00\\x00\\x00\\x00\\x008\\x00\\x00\\x00\\x00\\x00\\x00\\x009\\x00\\x00\\x00\\x00\\x00\\x00\\x00:\\x00\\x00\\x00\\x00\\x00\\x00\\x00;\\x00\\x00\\x00\\x00\\x00\\x00\\x00<\\x00\\x00\\x00\\x00\\x00\\x00\\x00=\\x00\\x00\\x00\\x00\\x00\\x00\\x00>\\x00\\x00\\x00\\x00\\x00\\x00\\x00?\\x00\\x00\\x00\\x00\\x00\\x00\\x00@\\x00\\x00\\x00\\x00\\x00\\x00\\x00A\\x00\\x00\\x00\\x00\\x00\\x00\\x00B\\x00\\x00\\x00\\x00\\x00\\x00\\x00C\\x00\\x00\\x00\\x00\\x00\\x00\\x00D\\x00\\x00\\x00\\x00\\x00\\x00\\x00E\\x00\\x00\\x00\\x00\\x00\\x00\\x00F\\x00\\x00\\x00\\x00\\x00\\x00\\x00G\\x00\\x00\\x00\\x00\\x00\\x00\\x00H\\x00\\x00\\x00\\x00\\x00\\x00\\x00I\\x00\\x00\\x00\\x00\\x00\\x00\\x00J\\x00\\x00\\x00\\x00\\x00\\x00\\x00K\\x00\\x00\\x00\\x00\\x00\\x00\\x00L\\x00\\x00\\x00\\x00\\x00\\x00\\x00M\\x00\\x00\\x00\\x00\\x00\\x00\\x00N\\x00\\x00\\x00\\x00\\x00\\x00\\x00O\\x00\\x00\\x00\\x00\\x00\\x00\\x00P\\x00\\x00\\x00\\x00\\x00\\x00\\x00Q\\x00\\x00\\x00\\x00\\x00\\x00\\x00R\\x00\\x00\\x00\\x00\\x00\\x00\\x00S\\x00\\x00\\x00\\x00\\x00\\x00\\x00T\\x00\\x00\\x00\\x00\\x00\\x00\\x00U\\x00\\x00\\x00\\x00\\x00\\x00\\x00V\\x00\\x00\\x00\\x00\\x00\\x00\\x00W\\x00\\x00\\x00\\x00\\x00\\x00\\x00X\\x00\\x00\\x00\\x00\\x00\\x00\\x00Y\\x00\\x00\\x00\\x00\\x00\\x00\\x00Z\\x00\\x00\\x00\\x00\\x00\\x00\\x00[\\x00\\x00\\x00\\x00\\x00\\x00\\x00\\\\\\x00\\x00\\x00\\x00\\x00\\x00\\x00]\\x00\\x00\\x00\\x00\\x00\\x00\\x00^\\x00\\x00\\x00\\x00\\x00\\x00\\x00_\\x00\\x00\\x00\\x00\\x00\\x00\\x00`\\x00\\x00\\x00\\x00\\x00\\x00\\x00a\\x00\\x00\\x00\\x00\\x00\\x00\\x00b\\x00\\x00\\x00\\x00\\x00\\x00\\x00c\\x00\\x00\\x00\\x00\\x00\\x00\\x00'\n",
            "b'iUhERg0KGgoAAAAAAAgIAAQAEAAAAAAAAAAAAAAAAAD//////////yALAAAAAAAA//////////8AAAAAAAAAAGAAAAAAAAAAAQAAAAAAAACIAAAAAAAAAKgCAAAAAAAAAQABAAEAAAAYAAAAAAAAABEAEAAAAAAAiAAAAAAAAACoAgAAAAAAAFRSRUUAAAEA/////////////////////wAAAAAAAAAAMAQAAAAAAAAIAAAAAAAAAAAAAAAAAAAAAAAAAAAAAAAAAAAAAAAAAAAAAAAAAAAAAAAAAAAAAAAAAAAAAAAAAAAAAAAAAAAAAAAAAAAAAAAAAAAAAAAAAAAAAAAAAAAAAAAAAAAAAAAAAAAAAAAAAAAAAAAAAAAAAAAAAAAAAAAAAAAAAAAAAAAAAAAAAAAAAAAAAAAAAAAAAAAAAAAAAAAAAAAAAAAAAAAAAAAAAAAAAAAAAAAAAAAAAAAAAAAAAAAAAAAAAAAAAAAAAAAAAAAAAAAAAAAAAAAAAAAAAAAAAAAAAAAAAAAAAAAAAAAAAAAAAAAAAAAAAAAAAAAAAAAAAAAAAAAAAAAAAAAAAAAAAAAAAAAAAAAAAAAAAAAAAAAAAAAAAAAAAAAAAAAAAAAAAAAAAAAAAAAAAAAAAAAAAAAAAAAAAAAAAAAAAAAAAAAAAAAAAAAAAAAAAAAAAAAAAAAAAAAAAAAAAAAAAAAAAAAAAAAAAAAAAAAAAAAAAAAAAAAAAAAAAAAAAAAAAAAAAAAAAAAAAAAAAAAAAAAAAAAAAAAAAAAAAAAAAAAAAAAAAAAAAAAAAAAAAAAAAAAAAAAAAAAAAAAAAAAAAAAAAAAAAAAAAAAAAAAAAAAAAAAAAAAAAAAAAAAAAAAAAAAAAAAAAAAAAAAAAAAAAABIRUFQAAAAAFgAAAAAAAAAGAAAAAAAAADIAgAAAAAAAAAAAAAAAAAAUkFOR0VfMTAAAAAAAAAAAAEAAAAAAAAAQAAAAAAAAAAAAAAAAAAAAAAAAAAAAAAAAAAAAAAAAAAAAAAAAAAAAAAAAAAAAAAAAAAAAAAAAAABAAYAAQAAAAABAAAAAAAAAQAYAAAAAAABAQEAAAAAAGQAAAAAAAAAZAAAAAAAAAADABAAAQAAABAIAAAIAAAAAABAAAAAAAAFAAgAAQAAAAICAgEAAAAACAAYAAAAAAADAQAIAAAAAAAAIAMAAAAAAAAAAAAAAAASAAgAAAAAAAEAAABLmSNhAACAAAAAAAAAAAAAAAAAAAAAAAAAAAAAAAAAAAAAAAAAAAAAAAAAAAAAAAAAAAAAAAAAAAAAAAAAAAAAAAAAAAAAAAAAAAAAAAAAAAAAAAAAAAAAAAAAAAAAAAAAAAAAAAAAAAAAAAAAAAAAAAAAAAAAAAAAAAAAAAAAAAAAAAAAAAAAAAAAAFNOT0QBAAEACAAAAAAAAAAgAwAAAAAAAAAAAAAAAAAAAAAAAAAAAAAAAAAAAAAAAAAAAAAAAAAAAAAAAAAAAAAAAAAAAAAAAAAAAAAAAAAAAAAAAAAAAAAAAAAAAAAAAAAAAAAAAAAAAAAAAAAAAAAAAAAAAAAAAAAAAAAAAAAAAAAAAAAAAAAAAAAAAAAAAAAAAAAAAAAAAAAAAAAAAAAAAAAAAAAAAAAAAAAAAAAAAAAAAAAAAAAAAAAAAAAAAAAAAAAAAAAAAAAAAAAAAAAAAAAAAAAAAAAAAAAAAAAAAAAAAAAAAAAAAAAAAAAAAAAAAAAAAAAAAAAAAAAAAAAAAAAAAAAAAAAAAAAAAAAAAAAAAAAAAAAAAAAAAAAAAAAAAAAAAAAAAAAAAAAAAAAAAAAAAAAAAAAAAAAAAAAAAAAAAAAAAAAAAAAAAAAAAAAAAAAAAAAAAAAAAAAAAAAAAAAAAAAAAAAAAAAAAAAAAAAAAAAAAAAAAAAAAAAAAAAAAAAAAAAAAAAAAAAAAAAAAAAAAAAAAAAAAAAAAAAAAAAAAAAAAAAAAAAAAAAAAAAAAAAAAAAAAAAAAAAAAAAAAAAAAAAAAAAAAAAAAAAAAAAAAAAAAAAAAAAAAAAAAAAAAAAAAAAAAAAAAAAAAAAAAAAAAAAAAAAAAAAAAAAAAAAAAAAAAAAAAAAAAAAAAAAAAAAAAAAAAAAAAAAAAAAAAAAAAAAAAAAAAAAAAAAAAAAAAAAAAAAAAAAAAAAAAAAAAAAAAAAAAAAAAAAAAAAAAAAAAAAAAAAAAAAAAAAAAAAAAAAAAAAAAAAAAAAAAAAAAAAAAAAAAAAAAAAAAAAAAAAAAAAAAAAAAAAAAAAAAAAAAAAAAAAAAAAAAAAAAAAAAAAAAAAAAAAAAAAAAAAAAAAAAAAAAAAAAAAAAAAAAAAAAAAAAAAAAAAAAAAAAAAAAAAAAAAAAAAAAAAAAAAAAAAAAAAAAAAAAAAAAAAAAAAAAAAAAAAAAAAAAAAAAAAAAAAAAAAAAAAAAAAAAAAAAAAAAAAAAAAAAAAAAAAAAAAAAAAAAAAAAAAAAAAAAAAAAAAAAAAAAAAAAAAAAAAAAAAAAAAAAAAAAAAAAAAAAAAAAAAAAAAAAAAAAAAAAAAAAAAAAAAAAAAAAAAAAAAAAAAAAAAAAAAAAAAAAAAAAAAAAAAAAAAAAAAAAAAAAAAAAAAAAAAAAAAAAAAAAAAAAAAAAAAAAAAAAAAAAAAAAAAAAAAAAAAAAAAAAAAAAAAAAAAAAAAAAAAAAAAAAAAAAAAAAAAAAAEAAAAAAAAAAgAAAAAAAAADAAAAAAAAAAQAAAAAAAAABQAAAAAAAAAGAAAAAAAAAAcAAAAAAAAACAAAAAAAAAAJAAAAAAAAAAoAAAAAAAAACwAAAAAAAAAMAAAAAAAAAA0AAAAAAAAADgAAAAAAAAAPAAAAAAAAABAAAAAAAAAAEQAAAAAAAAASAAAAAAAAABMAAAAAAAAAFAAAAAAAAAAVAAAAAAAAABYAAAAAAAAAFwAAAAAAAAAYAAAAAAAAABkAAAAAAAAAGgAAAAAAAAAbAAAAAAAAABwAAAAAAAAAHQAAAAAAAAAeAAAAAAAAAB8AAAAAAAAAIAAAAAAAAAAhAAAAAAAAACIAAAAAAAAAIwAAAAAAAAAkAAAAAAAAACUAAAAAAAAAJgAAAAAAAAAnAAAAAAAAACgAAAAAAAAAKQAAAAAAAAAqAAAAAAAAACsAAAAAAAAALAAAAAAAAAAtAAAAAAAAAC4AAAAAAAAALwAAAAAAAAAwAAAAAAAAADEAAAAAAAAAMgAAAAAAAAAzAAAAAAAAADQAAAAAAAAANQAAAAAAAAA2AAAAAAAAADcAAAAAAAAAOAAAAAAAAAA5AAAAAAAAADoAAAAAAAAAOwAAAAAAAAA8AAAAAAAAAD0AAAAAAAAAPgAAAAAAAAA/AAAAAAAAAEAAAAAAAAAAQQAAAAAAAABCAAAAAAAAAEMAAAAAAAAARAAAAAAAAABFAAAAAAAAAEYAAAAAAAAARwAAAAAAAABIAAAAAAAAAEkAAAAAAAAASgAAAAAAAABLAAAAAAAAAEwAAAAAAAAATQAAAAAAAABOAAAAAAAAAE8AAAAAAAAAUAAAAAAAAABRAAAAAAAAAFIAAAAAAAAAUwAAAAAAAABUAAAAAAAAAFUAAAAAAAAAVgAAAAAAAABXAAAAAAAAAFgAAAAAAAAAWQAAAAAAAABaAAAAAAAAAFsAAAAAAAAAXAAAAAAAAABdAAAAAAAAAF4AAAAAAAAAXwAAAAAAAABgAAAAAAAAAGEAAAAAAAAAYgAAAAAAAABjAAAAAAAAAA=='\n"
          ],
          "name": "stdout"
        }
      ]
    },
    {
      "cell_type": "code",
      "metadata": {
        "colab": {
          "base_uri": "https://localhost:8080/"
        },
        "id": "T48ZBjRb88Qk",
        "outputId": "9aa4653a-bb3a-485a-d605-98baedff5d13"
      },
      "source": [
        "np_data_binary = np.asarray(data_binary)\n",
        "print(np_data_binary)"
      ],
      "execution_count": 34,
      "outputs": [
        {
          "output_type": "stream",
          "text": [
            "b'iUhERg0KGgoAAAAAAAgIAAQAEAAAAAAAAAAAAAAAAAD//////////yALAAAAAAAA//////////8AAAAAAAAAAGAAAAAAAAAAAQAAAAAAAACIAAAAAAAAAKgCAAAAAAAAAQABAAEAAAAYAAAAAAAAABEAEAAAAAAAiAAAAAAAAACoAgAAAAAAAFRSRUUAAAEA/////////////////////wAAAAAAAAAAMAQAAAAAAAAIAAAAAAAAAAAAAAAAAAAAAAAAAAAAAAAAAAAAAAAAAAAAAAAAAAAAAAAAAAAAAAAAAAAAAAAAAAAAAAAAAAAAAAAAAAAAAAAAAAAAAAAAAAAAAAAAAAAAAAAAAAAAAAAAAAAAAAAAAAAAAAAAAAAAAAAAAAAAAAAAAAAAAAAAAAAAAAAAAAAAAAAAAAAAAAAAAAAAAAAAAAAAAAAAAAAAAAAAAAAAAAAAAAAAAAAAAAAAAAAAAAAAAAAAAAAAAAAAAAAAAAAAAAAAAAAAAAAAAAAAAAAAAAAAAAAAAAAAAAAAAAAAAAAAAAAAAAAAAAAAAAAAAAAAAAAAAAAAAAAAAAAAAAAAAAAAAAAAAAAAAAAAAAAAAAAAAAAAAAAAAAAAAAAAAAAAAAAAAAAAAAAAAAAAAAAAAAAAAAAAAAAAAAAAAAAAAAAAAAAAAAAAAAAAAAAAAAAAAAAAAAAAAAAAAAAAAAAAAAAAAAAAAAAAAAAAAAAAAAAAAAAAAAAAAAAAAAAAAAAAAAAAAAAAAAAAAAAAAAAAAAAAAAAAAAAAAAAAAAAAAAAAAAAAAAAAAAAAAAAAAAAAAAAAAAAAAAAAAAAAAAAAAAAAAAAAAAAAAAAAAAAAAAAAAAAAAAAAAAAAAAAAAAAAAAAAAAAAAAAAAAAAAAAAAABIRUFQAAAAAFgAAAAAAAAAGAAAAAAAAADIAgAAAAAAAAAAAAAAAAAAUkFOR0VfMTAAAAAAAAAAAAEAAAAAAAAAQAAAAAAAAAAAAAAAAAAAAAAAAAAAAAAAAAAAAAAAAAAAAAAAAAAAAAAAAAAAAAAAAAAAAAAAAAABAAYAAQAAAAABAAAAAAAAAQAYAAAAAAABAQEAAAAAAGQAAAAAAAAAZAAAAAAAAAADABAAAQAAABAIAAAIAAAAAABAAAAAAAAFAAgAAQAAAAICAgEAAAAACAAYAAAAAAADAQAIAAAAAAAAIAMAAAAAAAAAAAAAAAASAAgAAAAAAAEAAABLmSNhAACAAAAAAAAAAAAAAAAAAAAAAAAAAAAAAAAAAAAAAAAAAAAAAAAAAAAAAAAAAAAAAAAAAAAAAAAAAAAAAAAAAAAAAAAAAAAAAAAAAAAAAAAAAAAAAAAAAAAAAAAAAAAAAAAAAAAAAAAAAAAAAAAAAAAAAAAAAAAAAAAAAAAAAAAAAAAAAAAAAFNOT0QBAAEACAAAAAAAAAAgAwAAAAAAAAAAAAAAAAAAAAAAAAAAAAAAAAAAAAAAAAAAAAAAAAAAAAAAAAAAAAAAAAAAAAAAAAAAAAAAAAAAAAAAAAAAAAAAAAAAAAAAAAAAAAAAAAAAAAAAAAAAAAAAAAAAAAAAAAAAAAAAAAAAAAAAAAAAAAAAAAAAAAAAAAAAAAAAAAAAAAAAAAAAAAAAAAAAAAAAAAAAAAAAAAAAAAAAAAAAAAAAAAAAAAAAAAAAAAAAAAAAAAAAAAAAAAAAAAAAAAAAAAAAAAAAAAAAAAAAAAAAAAAAAAAAAAAAAAAAAAAAAAAAAAAAAAAAAAAAAAAAAAAAAAAAAAAAAAAAAAAAAAAAAAAAAAAAAAAAAAAAAAAAAAAAAAAAAAAAAAAAAAAAAAAAAAAAAAAAAAAAAAAAAAAAAAAAAAAAAAAAAAAAAAAAAAAAAAAAAAAAAAAAAAAAAAAAAAAAAAAAAAAAAAAAAAAAAAAAAAAAAAAAAAAAAAAAAAAAAAAAAAAAAAAAAAAAAAAAAAAAAAAAAAAAAAAAAAAAAAAAAAAAAAAAAAAAAAAAAAAAAAAAAAAAAAAAAAAAAAAAAAAAAAAAAAAAAAAAAAAAAAAAAAAAAAAAAAAAAAAAAAAAAAAAAAAAAAAAAAAAAAAAAAAAAAAAAAAAAAAAAAAAAAAAAAAAAAAAAAAAAAAAAAAAAAAAAAAAAAAAAAAAAAAAAAAAAAAAAAAAAAAAAAAAAAAAAAAAAAAAAAAAAAAAAAAAAAAAAAAAAAAAAAAAAAAAAAAAAAAAAAAAAAAAAAAAAAAAAAAAAAAAAAAAAAAAAAAAAAAAAAAAAAAAAAAAAAAAAAAAAAAAAAAAAAAAAAAAAAAAAAAAAAAAAAAAAAAAAAAAAAAAAAAAAAAAAAAAAAAAAAAAAAAAAAAAAAAAAAAAAAAAAAAAAAAAAAAAAAAAAAAAAAAAAAAAAAAAAAAAAAAAAAAAAAAAAAAAAAAAAAAAAAAAAAAAAAAAAAAAAAAAAAAAAAAAAAAAAAAAAAAAAAAAAAAAAAAAAAAAAAAAAAAAAAAAAAAAAAAAAAAAAAAAAAAAAAAAAAAAAAAAAAAAAAAAAAAAAAAAAAAAAAAAAAAAAAAAAAAAAAAAAAAAAAAAAAAAAAAAAAAAAAAAAAAAAAAAAAAAAAAAAAAAAAAAAAAAAAAAAAAAAAAAAAAAAAAAAAAAAAAAAAAAAAAAAAAAAAAAAAAAAAAAAAAAAAAAAAAAAAAAAAAAAAAAAAAAAAAAAAAAAAAAAAAAAAAAAAAAAAAAAAEAAAAAAAAAAgAAAAAAAAADAAAAAAAAAAQAAAAAAAAABQAAAAAAAAAGAAAAAAAAAAcAAAAAAAAACAAAAAAAAAAJAAAAAAAAAAoAAAAAAAAACwAAAAAAAAAMAAAAAAAAAA0AAAAAAAAADgAAAAAAAAAPAAAAAAAAABAAAAAAAAAAEQAAAAAAAAASAAAAAAAAABMAAAAAAAAAFAAAAAAAAAAVAAAAAAAAABYAAAAAAAAAFwAAAAAAAAAYAAAAAAAAABkAAAAAAAAAGgAAAAAAAAAbAAAAAAAAABwAAAAAAAAAHQAAAAAAAAAeAAAAAAAAAB8AAAAAAAAAIAAAAAAAAAAhAAAAAAAAACIAAAAAAAAAIwAAAAAAAAAkAAAAAAAAACUAAAAAAAAAJgAAAAAAAAAnAAAAAAAAACgAAAAAAAAAKQAAAAAAAAAqAAAAAAAAACsAAAAAAAAALAAAAAAAAAAtAAAAAAAAAC4AAAAAAAAALwAAAAAAAAAwAAAAAAAAADEAAAAAAAAAMgAAAAAAAAAzAAAAAAAAADQAAAAAAAAANQAAAAAAAAA2AAAAAAAAADcAAAAAAAAAOAAAAAAAAAA5AAAAAAAAADoAAAAAAAAAOwAAAAAAAAA8AAAAAAAAAD0AAAAAAAAAPgAAAAAAAAA/AAAAAAAAAEAAAAAAAAAAQQAAAAAAAABCAAAAAAAAAEMAAAAAAAAARAAAAAAAAABFAAAAAAAAAEYAAAAAAAAARwAAAAAAAABIAAAAAAAAAEkAAAAAAAAASgAAAAAAAABLAAAAAAAAAEwAAAAAAAAATQAAAAAAAABOAAAAAAAAAE8AAAAAAAAAUAAAAAAAAABRAAAAAAAAAFIAAAAAAAAAUwAAAAAAAABUAAAAAAAAAFUAAAAAAAAAVgAAAAAAAABXAAAAAAAAAFgAAAAAAAAAWQAAAAAAAABaAAAAAAAAAFsAAAAAAAAAXAAAAAAAAABdAAAAAAAAAF4AAAAAAAAAXwAAAAAAAABgAAAAAAAAAGEAAAAAAAAAYgAAAAAAAABjAAAAAAAAAA=='\n"
          ],
          "name": "stdout"
        }
      ]
    },
    {
      "cell_type": "code",
      "metadata": {
        "colab": {
          "base_uri": "https://localhost:8080/"
        },
        "id": "GkHe4WUq3Pha",
        "outputId": "b361cf05-2bdc-4dab-a118-8992b6e19577"
      },
      "source": [
        "print(\"Arquivo salvo:\", hdf5_with_hdf5)\n",
        "with h5py.File(hdf5_with_hdf5, 'w') as hdf:\n",
        "  dset = hdf.create_dataset('binary_data', data=np_data_binary)\n",
        "\n",
        "!ls -ls"
      ],
      "execution_count": 35,
      "outputs": [
        {
          "output_type": "stream",
          "text": [
            "Arquivo salvo: hdf5_with_hdf5.h5\n",
            "total 385484\n",
            "101656 -rw-r--r-- 1 root root 104092288 Aug 23 12:49 hdf5_attr.h5\n",
            " 85940 -rw-r--r-- 1 root root  88002048 Aug 23 12:49 hdf5_dataset.h5\n",
            " 96000 -rw-r--r-- 1 root root  98302795 Aug 23 12:49 hdf5_groups_compression.h5\n",
            "101652 -rw-r--r-- 1 root root 104088576 Aug 23 12:49 hdf5_groups.h5\n",
            "   220 -rw-r--r-- 1 root root    222383 Aug 23 12:49 hdf5_pandas.h5\n",
            "     4 -rw-r--r-- 1 root root      2848 Aug 23 12:49 hdf5_to_in.h5\n",
            "     8 -rw-r--r-- 1 root root      5848 Aug 23 12:49 hdf5_with_hdf5.h5\n",
            "     4 drwxr-xr-x 1 root root      4096 Aug 13 13:35 sample_data\n"
          ],
          "name": "stdout"
        }
      ]
    },
    {
      "cell_type": "code",
      "metadata": {
        "colab": {
          "base_uri": "https://localhost:8080/"
        },
        "id": "CQXoYOLN9fiU",
        "outputId": "965ce020-efb4-4ad3-831f-20834903c059"
      },
      "source": [
        "print(\"Arquivo abertp:\", hdf5_with_hdf5)\n",
        "ret_data_binary = None\n",
        "with h5py.File(hdf5_with_hdf5, 'r') as hdf: \n",
        "  ret_data_binary = np.array(hdf.get('binary_data'))\n",
        "\n",
        "print(ret_data_binary)"
      ],
      "execution_count": 36,
      "outputs": [
        {
          "output_type": "stream",
          "text": [
            "Arquivo abertp: hdf5_with_hdf5.h5\n",
            "b'iUhERg0KGgoAAAAAAAgIAAQAEAAAAAAAAAAAAAAAAAD//////////yALAAAAAAAA//////////8AAAAAAAAAAGAAAAAAAAAAAQAAAAAAAACIAAAAAAAAAKgCAAAAAAAAAQABAAEAAAAYAAAAAAAAABEAEAAAAAAAiAAAAAAAAACoAgAAAAAAAFRSRUUAAAEA/////////////////////wAAAAAAAAAAMAQAAAAAAAAIAAAAAAAAAAAAAAAAAAAAAAAAAAAAAAAAAAAAAAAAAAAAAAAAAAAAAAAAAAAAAAAAAAAAAAAAAAAAAAAAAAAAAAAAAAAAAAAAAAAAAAAAAAAAAAAAAAAAAAAAAAAAAAAAAAAAAAAAAAAAAAAAAAAAAAAAAAAAAAAAAAAAAAAAAAAAAAAAAAAAAAAAAAAAAAAAAAAAAAAAAAAAAAAAAAAAAAAAAAAAAAAAAAAAAAAAAAAAAAAAAAAAAAAAAAAAAAAAAAAAAAAAAAAAAAAAAAAAAAAAAAAAAAAAAAAAAAAAAAAAAAAAAAAAAAAAAAAAAAAAAAAAAAAAAAAAAAAAAAAAAAAAAAAAAAAAAAAAAAAAAAAAAAAAAAAAAAAAAAAAAAAAAAAAAAAAAAAAAAAAAAAAAAAAAAAAAAAAAAAAAAAAAAAAAAAAAAAAAAAAAAAAAAAAAAAAAAAAAAAAAAAAAAAAAAAAAAAAAAAAAAAAAAAAAAAAAAAAAAAAAAAAAAAAAAAAAAAAAAAAAAAAAAAAAAAAAAAAAAAAAAAAAAAAAAAAAAAAAAAAAAAAAAAAAAAAAAAAAAAAAAAAAAAAAAAAAAAAAAAAAAAAAAAAAAAAAAAAAAAAAAAAAAAAAAAAAAAAAAAAAAAAAAAAAAAAAAAAAAAAAAAAAAAAAABIRUFQAAAAAFgAAAAAAAAAGAAAAAAAAADIAgAAAAAAAAAAAAAAAAAAUkFOR0VfMTAAAAAAAAAAAAEAAAAAAAAAQAAAAAAAAAAAAAAAAAAAAAAAAAAAAAAAAAAAAAAAAAAAAAAAAAAAAAAAAAAAAAAAAAAAAAAAAAABAAYAAQAAAAABAAAAAAAAAQAYAAAAAAABAQEAAAAAAGQAAAAAAAAAZAAAAAAAAAADABAAAQAAABAIAAAIAAAAAABAAAAAAAAFAAgAAQAAAAICAgEAAAAACAAYAAAAAAADAQAIAAAAAAAAIAMAAAAAAAAAAAAAAAASAAgAAAAAAAEAAABLmSNhAACAAAAAAAAAAAAAAAAAAAAAAAAAAAAAAAAAAAAAAAAAAAAAAAAAAAAAAAAAAAAAAAAAAAAAAAAAAAAAAAAAAAAAAAAAAAAAAAAAAAAAAAAAAAAAAAAAAAAAAAAAAAAAAAAAAAAAAAAAAAAAAAAAAAAAAAAAAAAAAAAAAAAAAAAAAAAAAAAAAFNOT0QBAAEACAAAAAAAAAAgAwAAAAAAAAAAAAAAAAAAAAAAAAAAAAAAAAAAAAAAAAAAAAAAAAAAAAAAAAAAAAAAAAAAAAAAAAAAAAAAAAAAAAAAAAAAAAAAAAAAAAAAAAAAAAAAAAAAAAAAAAAAAAAAAAAAAAAAAAAAAAAAAAAAAAAAAAAAAAAAAAAAAAAAAAAAAAAAAAAAAAAAAAAAAAAAAAAAAAAAAAAAAAAAAAAAAAAAAAAAAAAAAAAAAAAAAAAAAAAAAAAAAAAAAAAAAAAAAAAAAAAAAAAAAAAAAAAAAAAAAAAAAAAAAAAAAAAAAAAAAAAAAAAAAAAAAAAAAAAAAAAAAAAAAAAAAAAAAAAAAAAAAAAAAAAAAAAAAAAAAAAAAAAAAAAAAAAAAAAAAAAAAAAAAAAAAAAAAAAAAAAAAAAAAAAAAAAAAAAAAAAAAAAAAAAAAAAAAAAAAAAAAAAAAAAAAAAAAAAAAAAAAAAAAAAAAAAAAAAAAAAAAAAAAAAAAAAAAAAAAAAAAAAAAAAAAAAAAAAAAAAAAAAAAAAAAAAAAAAAAAAAAAAAAAAAAAAAAAAAAAAAAAAAAAAAAAAAAAAAAAAAAAAAAAAAAAAAAAAAAAAAAAAAAAAAAAAAAAAAAAAAAAAAAAAAAAAAAAAAAAAAAAAAAAAAAAAAAAAAAAAAAAAAAAAAAAAAAAAAAAAAAAAAAAAAAAAAAAAAAAAAAAAAAAAAAAAAAAAAAAAAAAAAAAAAAAAAAAAAAAAAAAAAAAAAAAAAAAAAAAAAAAAAAAAAAAAAAAAAAAAAAAAAAAAAAAAAAAAAAAAAAAAAAAAAAAAAAAAAAAAAAAAAAAAAAAAAAAAAAAAAAAAAAAAAAAAAAAAAAAAAAAAAAAAAAAAAAAAAAAAAAAAAAAAAAAAAAAAAAAAAAAAAAAAAAAAAAAAAAAAAAAAAAAAAAAAAAAAAAAAAAAAAAAAAAAAAAAAAAAAAAAAAAAAAAAAAAAAAAAAAAAAAAAAAAAAAAAAAAAAAAAAAAAAAAAAAAAAAAAAAAAAAAAAAAAAAAAAAAAAAAAAAAAAAAAAAAAAAAAAAAAAAAAAAAAAAAAAAAAAAAAAAAAAAAAAAAAAAAAAAAAAAAAAAAAAAAAAAAAAAAAAAAAAAAAAAAAAAAAAAAAAAAAAAAAAAAAAAAAAAAAAAAAAAAAAAAAAAAAAAAAAAAAAAAAAAAAAAAAAAAAAAAAAAAAAAAAAAAAAAAAAAAAAAAAAAAAAAAAAAAAAAAAAAAAAAAAAAAAAAAAAAAAAAAAAAAAAAAAAAAAAAAAEAAAAAAAAAAgAAAAAAAAADAAAAAAAAAAQAAAAAAAAABQAAAAAAAAAGAAAAAAAAAAcAAAAAAAAACAAAAAAAAAAJAAAAAAAAAAoAAAAAAAAACwAAAAAAAAAMAAAAAAAAAA0AAAAAAAAADgAAAAAAAAAPAAAAAAAAABAAAAAAAAAAEQAAAAAAAAASAAAAAAAAABMAAAAAAAAAFAAAAAAAAAAVAAAAAAAAABYAAAAAAAAAFwAAAAAAAAAYAAAAAAAAABkAAAAAAAAAGgAAAAAAAAAbAAAAAAAAABwAAAAAAAAAHQAAAAAAAAAeAAAAAAAAAB8AAAAAAAAAIAAAAAAAAAAhAAAAAAAAACIAAAAAAAAAIwAAAAAAAAAkAAAAAAAAACUAAAAAAAAAJgAAAAAAAAAnAAAAAAAAACgAAAAAAAAAKQAAAAAAAAAqAAAAAAAAACsAAAAAAAAALAAAAAAAAAAtAAAAAAAAAC4AAAAAAAAALwAAAAAAAAAwAAAAAAAAADEAAAAAAAAAMgAAAAAAAAAzAAAAAAAAADQAAAAAAAAANQAAAAAAAAA2AAAAAAAAADcAAAAAAAAAOAAAAAAAAAA5AAAAAAAAADoAAAAAAAAAOwAAAAAAAAA8AAAAAAAAAD0AAAAAAAAAPgAAAAAAAAA/AAAAAAAAAEAAAAAAAAAAQQAAAAAAAABCAAAAAAAAAEMAAAAAAAAARAAAAAAAAABFAAAAAAAAAEYAAAAAAAAARwAAAAAAAABIAAAAAAAAAEkAAAAAAAAASgAAAAAAAABLAAAAAAAAAEwAAAAAAAAATQAAAAAAAABOAAAAAAAAAE8AAAAAAAAAUAAAAAAAAABRAAAAAAAAAFIAAAAAAAAAUwAAAAAAAABUAAAAAAAAAFUAAAAAAAAAVgAAAAAAAABXAAAAAAAAAFgAAAAAAAAAWQAAAAAAAABaAAAAAAAAAFsAAAAAAAAAXAAAAAAAAABdAAAAAAAAAF4AAAAAAAAAXwAAAAAAAABgAAAAAAAAAGEAAAAAAAAAYgAAAAAAAABjAAAAAAAAAA=='\n"
          ],
          "name": "stdout"
        }
      ]
    },
    {
      "cell_type": "code",
      "metadata": {
        "colab": {
          "base_uri": "https://localhost:8080/"
        },
        "id": "I5yxNuWt-H6q",
        "outputId": "58e6479d-1abd-47aa-dde6-9ec8df6900de"
      },
      "source": [
        "hdf_ret_decode = base64.b64decode(ret_data_binary)\n",
        "print(hdf_ret_decode)\n",
        "\n",
        "with open(hdf5_with_hdf5_ret, 'wb') as f:\n",
        "    f.write(hdf_ret_decode)"
      ],
      "execution_count": 37,
      "outputs": [
        {
          "output_type": "stream",
          "text": [
            "b'\\x89HDF\\r\\n\\x1a\\n\\x00\\x00\\x00\\x00\\x00\\x08\\x08\\x00\\x04\\x00\\x10\\x00\\x00\\x00\\x00\\x00\\x00\\x00\\x00\\x00\\x00\\x00\\x00\\x00\\xff\\xff\\xff\\xff\\xff\\xff\\xff\\xff \\x0b\\x00\\x00\\x00\\x00\\x00\\x00\\xff\\xff\\xff\\xff\\xff\\xff\\xff\\xff\\x00\\x00\\x00\\x00\\x00\\x00\\x00\\x00`\\x00\\x00\\x00\\x00\\x00\\x00\\x00\\x01\\x00\\x00\\x00\\x00\\x00\\x00\\x00\\x88\\x00\\x00\\x00\\x00\\x00\\x00\\x00\\xa8\\x02\\x00\\x00\\x00\\x00\\x00\\x00\\x01\\x00\\x01\\x00\\x01\\x00\\x00\\x00\\x18\\x00\\x00\\x00\\x00\\x00\\x00\\x00\\x11\\x00\\x10\\x00\\x00\\x00\\x00\\x00\\x88\\x00\\x00\\x00\\x00\\x00\\x00\\x00\\xa8\\x02\\x00\\x00\\x00\\x00\\x00\\x00TREE\\x00\\x00\\x01\\x00\\xff\\xff\\xff\\xff\\xff\\xff\\xff\\xff\\xff\\xff\\xff\\xff\\xff\\xff\\xff\\xff\\x00\\x00\\x00\\x00\\x00\\x00\\x00\\x000\\x04\\x00\\x00\\x00\\x00\\x00\\x00\\x08\\x00\\x00\\x00\\x00\\x00\\x00\\x00\\x00\\x00\\x00\\x00\\x00\\x00\\x00\\x00\\x00\\x00\\x00\\x00\\x00\\x00\\x00\\x00\\x00\\x00\\x00\\x00\\x00\\x00\\x00\\x00\\x00\\x00\\x00\\x00\\x00\\x00\\x00\\x00\\x00\\x00\\x00\\x00\\x00\\x00\\x00\\x00\\x00\\x00\\x00\\x00\\x00\\x00\\x00\\x00\\x00\\x00\\x00\\x00\\x00\\x00\\x00\\x00\\x00\\x00\\x00\\x00\\x00\\x00\\x00\\x00\\x00\\x00\\x00\\x00\\x00\\x00\\x00\\x00\\x00\\x00\\x00\\x00\\x00\\x00\\x00\\x00\\x00\\x00\\x00\\x00\\x00\\x00\\x00\\x00\\x00\\x00\\x00\\x00\\x00\\x00\\x00\\x00\\x00\\x00\\x00\\x00\\x00\\x00\\x00\\x00\\x00\\x00\\x00\\x00\\x00\\x00\\x00\\x00\\x00\\x00\\x00\\x00\\x00\\x00\\x00\\x00\\x00\\x00\\x00\\x00\\x00\\x00\\x00\\x00\\x00\\x00\\x00\\x00\\x00\\x00\\x00\\x00\\x00\\x00\\x00\\x00\\x00\\x00\\x00\\x00\\x00\\x00\\x00\\x00\\x00\\x00\\x00\\x00\\x00\\x00\\x00\\x00\\x00\\x00\\x00\\x00\\x00\\x00\\x00\\x00\\x00\\x00\\x00\\x00\\x00\\x00\\x00\\x00\\x00\\x00\\x00\\x00\\x00\\x00\\x00\\x00\\x00\\x00\\x00\\x00\\x00\\x00\\x00\\x00\\x00\\x00\\x00\\x00\\x00\\x00\\x00\\x00\\x00\\x00\\x00\\x00\\x00\\x00\\x00\\x00\\x00\\x00\\x00\\x00\\x00\\x00\\x00\\x00\\x00\\x00\\x00\\x00\\x00\\x00\\x00\\x00\\x00\\x00\\x00\\x00\\x00\\x00\\x00\\x00\\x00\\x00\\x00\\x00\\x00\\x00\\x00\\x00\\x00\\x00\\x00\\x00\\x00\\x00\\x00\\x00\\x00\\x00\\x00\\x00\\x00\\x00\\x00\\x00\\x00\\x00\\x00\\x00\\x00\\x00\\x00\\x00\\x00\\x00\\x00\\x00\\x00\\x00\\x00\\x00\\x00\\x00\\x00\\x00\\x00\\x00\\x00\\x00\\x00\\x00\\x00\\x00\\x00\\x00\\x00\\x00\\x00\\x00\\x00\\x00\\x00\\x00\\x00\\x00\\x00\\x00\\x00\\x00\\x00\\x00\\x00\\x00\\x00\\x00\\x00\\x00\\x00\\x00\\x00\\x00\\x00\\x00\\x00\\x00\\x00\\x00\\x00\\x00\\x00\\x00\\x00\\x00\\x00\\x00\\x00\\x00\\x00\\x00\\x00\\x00\\x00\\x00\\x00\\x00\\x00\\x00\\x00\\x00\\x00\\x00\\x00\\x00\\x00\\x00\\x00\\x00\\x00\\x00\\x00\\x00\\x00\\x00\\x00\\x00\\x00\\x00\\x00\\x00\\x00\\x00\\x00\\x00\\x00\\x00\\x00\\x00\\x00\\x00\\x00\\x00\\x00\\x00\\x00\\x00\\x00\\x00\\x00\\x00\\x00\\x00\\x00\\x00\\x00\\x00\\x00\\x00\\x00\\x00\\x00\\x00\\x00\\x00\\x00\\x00\\x00\\x00\\x00\\x00\\x00\\x00\\x00\\x00\\x00\\x00\\x00\\x00\\x00\\x00\\x00\\x00\\x00\\x00\\x00\\x00\\x00\\x00\\x00\\x00\\x00\\x00\\x00\\x00\\x00\\x00\\x00\\x00\\x00\\x00\\x00\\x00\\x00\\x00\\x00\\x00\\x00\\x00\\x00\\x00\\x00\\x00\\x00\\x00\\x00\\x00\\x00\\x00\\x00\\x00\\x00\\x00\\x00\\x00\\x00\\x00\\x00\\x00\\x00\\x00\\x00\\x00\\x00\\x00\\x00\\x00\\x00\\x00\\x00\\x00\\x00\\x00\\x00\\x00\\x00\\x00\\x00\\x00\\x00\\x00\\x00\\x00\\x00\\x00\\x00\\x00\\x00\\x00\\x00\\x00\\x00\\x00\\x00\\x00\\x00\\x00\\x00\\x00\\x00\\x00HEAP\\x00\\x00\\x00\\x00X\\x00\\x00\\x00\\x00\\x00\\x00\\x00\\x18\\x00\\x00\\x00\\x00\\x00\\x00\\x00\\xc8\\x02\\x00\\x00\\x00\\x00\\x00\\x00\\x00\\x00\\x00\\x00\\x00\\x00\\x00\\x00RANGE_10\\x00\\x00\\x00\\x00\\x00\\x00\\x00\\x00\\x01\\x00\\x00\\x00\\x00\\x00\\x00\\x00@\\x00\\x00\\x00\\x00\\x00\\x00\\x00\\x00\\x00\\x00\\x00\\x00\\x00\\x00\\x00\\x00\\x00\\x00\\x00\\x00\\x00\\x00\\x00\\x00\\x00\\x00\\x00\\x00\\x00\\x00\\x00\\x00\\x00\\x00\\x00\\x00\\x00\\x00\\x00\\x00\\x00\\x00\\x00\\x00\\x00\\x00\\x00\\x00\\x00\\x00\\x00\\x00\\x00\\x00\\x00\\x01\\x00\\x06\\x00\\x01\\x00\\x00\\x00\\x00\\x01\\x00\\x00\\x00\\x00\\x00\\x00\\x01\\x00\\x18\\x00\\x00\\x00\\x00\\x00\\x01\\x01\\x01\\x00\\x00\\x00\\x00\\x00d\\x00\\x00\\x00\\x00\\x00\\x00\\x00d\\x00\\x00\\x00\\x00\\x00\\x00\\x00\\x03\\x00\\x10\\x00\\x01\\x00\\x00\\x00\\x10\\x08\\x00\\x00\\x08\\x00\\x00\\x00\\x00\\x00@\\x00\\x00\\x00\\x00\\x00\\x05\\x00\\x08\\x00\\x01\\x00\\x00\\x00\\x02\\x02\\x02\\x01\\x00\\x00\\x00\\x00\\x08\\x00\\x18\\x00\\x00\\x00\\x00\\x00\\x03\\x01\\x00\\x08\\x00\\x00\\x00\\x00\\x00\\x00 \\x03\\x00\\x00\\x00\\x00\\x00\\x00\\x00\\x00\\x00\\x00\\x00\\x00\\x12\\x00\\x08\\x00\\x00\\x00\\x00\\x00\\x01\\x00\\x00\\x00K\\x99#a\\x00\\x00\\x80\\x00\\x00\\x00\\x00\\x00\\x00\\x00\\x00\\x00\\x00\\x00\\x00\\x00\\x00\\x00\\x00\\x00\\x00\\x00\\x00\\x00\\x00\\x00\\x00\\x00\\x00\\x00\\x00\\x00\\x00\\x00\\x00\\x00\\x00\\x00\\x00\\x00\\x00\\x00\\x00\\x00\\x00\\x00\\x00\\x00\\x00\\x00\\x00\\x00\\x00\\x00\\x00\\x00\\x00\\x00\\x00\\x00\\x00\\x00\\x00\\x00\\x00\\x00\\x00\\x00\\x00\\x00\\x00\\x00\\x00\\x00\\x00\\x00\\x00\\x00\\x00\\x00\\x00\\x00\\x00\\x00\\x00\\x00\\x00\\x00\\x00\\x00\\x00\\x00\\x00\\x00\\x00\\x00\\x00\\x00\\x00\\x00\\x00\\x00\\x00\\x00\\x00\\x00\\x00\\x00\\x00\\x00\\x00\\x00\\x00\\x00\\x00\\x00\\x00\\x00\\x00\\x00\\x00\\x00\\x00\\x00\\x00\\x00\\x00\\x00\\x00\\x00\\x00\\x00\\x00\\x00\\x00\\x00SNOD\\x01\\x00\\x01\\x00\\x08\\x00\\x00\\x00\\x00\\x00\\x00\\x00 \\x03\\x00\\x00\\x00\\x00\\x00\\x00\\x00\\x00\\x00\\x00\\x00\\x00\\x00\\x00\\x00\\x00\\x00\\x00\\x00\\x00\\x00\\x00\\x00\\x00\\x00\\x00\\x00\\x00\\x00\\x00\\x00\\x00\\x00\\x00\\x00\\x00\\x00\\x00\\x00\\x00\\x00\\x00\\x00\\x00\\x00\\x00\\x00\\x00\\x00\\x00\\x00\\x00\\x00\\x00\\x00\\x00\\x00\\x00\\x00\\x00\\x00\\x00\\x00\\x00\\x00\\x00\\x00\\x00\\x00\\x00\\x00\\x00\\x00\\x00\\x00\\x00\\x00\\x00\\x00\\x00\\x00\\x00\\x00\\x00\\x00\\x00\\x00\\x00\\x00\\x00\\x00\\x00\\x00\\x00\\x00\\x00\\x00\\x00\\x00\\x00\\x00\\x00\\x00\\x00\\x00\\x00\\x00\\x00\\x00\\x00\\x00\\x00\\x00\\x00\\x00\\x00\\x00\\x00\\x00\\x00\\x00\\x00\\x00\\x00\\x00\\x00\\x00\\x00\\x00\\x00\\x00\\x00\\x00\\x00\\x00\\x00\\x00\\x00\\x00\\x00\\x00\\x00\\x00\\x00\\x00\\x00\\x00\\x00\\x00\\x00\\x00\\x00\\x00\\x00\\x00\\x00\\x00\\x00\\x00\\x00\\x00\\x00\\x00\\x00\\x00\\x00\\x00\\x00\\x00\\x00\\x00\\x00\\x00\\x00\\x00\\x00\\x00\\x00\\x00\\x00\\x00\\x00\\x00\\x00\\x00\\x00\\x00\\x00\\x00\\x00\\x00\\x00\\x00\\x00\\x00\\x00\\x00\\x00\\x00\\x00\\x00\\x00\\x00\\x00\\x00\\x00\\x00\\x00\\x00\\x00\\x00\\x00\\x00\\x00\\x00\\x00\\x00\\x00\\x00\\x00\\x00\\x00\\x00\\x00\\x00\\x00\\x00\\x00\\x00\\x00\\x00\\x00\\x00\\x00\\x00\\x00\\x00\\x00\\x00\\x00\\x00\\x00\\x00\\x00\\x00\\x00\\x00\\x00\\x00\\x00\\x00\\x00\\x00\\x00\\x00\\x00\\x00\\x00\\x00\\x00\\x00\\x00\\x00\\x00\\x00\\x00\\x00\\x00\\x00\\x00\\x00\\x00\\x00\\x00\\x00\\x00\\x00\\x00\\x00\\x00\\x00\\x00\\x00\\x00\\x00\\x00\\x00\\x00\\x00\\x00\\x00\\x00\\x00\\x00\\x00\\x00\\x00\\x00\\x00\\x00\\x00\\x00\\x00\\x00\\x00\\x00\\x00\\x00\\x00\\x00\\x00\\x00\\x00\\x00\\x00\\x00\\x00\\x00\\x00\\x00\\x00\\x00\\x00\\x00\\x00\\x00\\x00\\x00\\x00\\x00\\x00\\x00\\x00\\x00\\x00\\x00\\x00\\x00\\x00\\x00\\x00\\x00\\x00\\x00\\x00\\x00\\x00\\x00\\x00\\x00\\x00\\x00\\x00\\x00\\x00\\x00\\x00\\x00\\x00\\x00\\x00\\x00\\x00\\x00\\x00\\x00\\x00\\x00\\x00\\x00\\x00\\x00\\x00\\x00\\x00\\x00\\x00\\x00\\x00\\x00\\x00\\x00\\x00\\x00\\x00\\x00\\x00\\x00\\x00\\x00\\x00\\x00\\x00\\x00\\x00\\x00\\x00\\x00\\x00\\x00\\x00\\x00\\x00\\x00\\x00\\x00\\x00\\x00\\x00\\x00\\x00\\x00\\x00\\x00\\x00\\x00\\x00\\x00\\x00\\x00\\x00\\x00\\x00\\x00\\x00\\x00\\x00\\x00\\x00\\x00\\x00\\x00\\x00\\x00\\x00\\x00\\x00\\x00\\x00\\x00\\x00\\x00\\x00\\x00\\x00\\x00\\x00\\x00\\x00\\x00\\x00\\x00\\x00\\x00\\x00\\x00\\x00\\x00\\x00\\x00\\x00\\x00\\x00\\x00\\x00\\x00\\x00\\x00\\x00\\x00\\x00\\x00\\x00\\x00\\x00\\x00\\x00\\x00\\x00\\x00\\x00\\x00\\x00\\x00\\x00\\x00\\x00\\x00\\x00\\x00\\x00\\x00\\x00\\x00\\x00\\x00\\x00\\x00\\x00\\x00\\x00\\x00\\x00\\x00\\x00\\x00\\x00\\x00\\x00\\x00\\x00\\x00\\x00\\x00\\x00\\x00\\x00\\x00\\x00\\x00\\x00\\x00\\x00\\x00\\x00\\x00\\x00\\x00\\x00\\x00\\x00\\x00\\x00\\x00\\x00\\x00\\x00\\x00\\x00\\x00\\x00\\x00\\x00\\x00\\x00\\x00\\x00\\x00\\x00\\x00\\x00\\x00\\x00\\x00\\x00\\x00\\x00\\x00\\x00\\x00\\x00\\x00\\x00\\x00\\x00\\x00\\x00\\x00\\x00\\x00\\x00\\x00\\x00\\x00\\x00\\x00\\x00\\x00\\x00\\x00\\x00\\x00\\x00\\x00\\x00\\x00\\x00\\x00\\x00\\x00\\x00\\x00\\x00\\x00\\x00\\x00\\x00\\x00\\x00\\x00\\x00\\x00\\x00\\x00\\x00\\x00\\x00\\x00\\x00\\x00\\x00\\x00\\x00\\x00\\x00\\x00\\x00\\x00\\x00\\x00\\x00\\x00\\x00\\x00\\x00\\x00\\x00\\x00\\x00\\x00\\x00\\x00\\x00\\x00\\x00\\x00\\x00\\x00\\x00\\x00\\x00\\x00\\x00\\x00\\x00\\x00\\x00\\x00\\x00\\x00\\x00\\x00\\x00\\x00\\x00\\x00\\x00\\x00\\x00\\x00\\x00\\x00\\x00\\x00\\x00\\x00\\x00\\x00\\x00\\x00\\x00\\x00\\x00\\x00\\x00\\x00\\x00\\x00\\x00\\x00\\x00\\x00\\x00\\x00\\x00\\x00\\x00\\x00\\x00\\x00\\x00\\x00\\x00\\x00\\x00\\x00\\x00\\x00\\x00\\x00\\x00\\x00\\x00\\x00\\x00\\x00\\x00\\x00\\x00\\x00\\x00\\x00\\x00\\x00\\x00\\x00\\x00\\x00\\x00\\x00\\x00\\x00\\x00\\x00\\x00\\x00\\x00\\x00\\x00\\x00\\x00\\x00\\x00\\x00\\x00\\x00\\x00\\x00\\x00\\x00\\x00\\x00\\x00\\x00\\x00\\x00\\x00\\x00\\x00\\x00\\x00\\x00\\x00\\x00\\x00\\x00\\x00\\x00\\x00\\x00\\x00\\x00\\x00\\x00\\x00\\x00\\x00\\x00\\x00\\x00\\x00\\x00\\x00\\x00\\x00\\x00\\x00\\x00\\x00\\x00\\x00\\x00\\x00\\x00\\x00\\x00\\x00\\x00\\x00\\x00\\x00\\x00\\x00\\x00\\x00\\x00\\x00\\x00\\x00\\x00\\x00\\x00\\x00\\x00\\x00\\x00\\x00\\x00\\x00\\x00\\x00\\x00\\x00\\x00\\x00\\x00\\x00\\x00\\x00\\x00\\x00\\x00\\x00\\x00\\x00\\x00\\x00\\x00\\x00\\x00\\x00\\x00\\x00\\x00\\x00\\x00\\x00\\x00\\x00\\x00\\x00\\x00\\x00\\x00\\x00\\x00\\x00\\x00\\x00\\x00\\x00\\x00\\x00\\x00\\x00\\x00\\x00\\x00\\x00\\x00\\x00\\x00\\x00\\x00\\x00\\x00\\x00\\x00\\x00\\x00\\x00\\x00\\x00\\x00\\x00\\x00\\x00\\x00\\x00\\x00\\x00\\x00\\x00\\x00\\x00\\x00\\x00\\x00\\x00\\x00\\x00\\x00\\x00\\x00\\x00\\x00\\x00\\x00\\x00\\x00\\x00\\x00\\x00\\x00\\x00\\x00\\x00\\x00\\x00\\x00\\x00\\x00\\x00\\x00\\x00\\x00\\x00\\x00\\x00\\x00\\x00\\x00\\x00\\x00\\x00\\x00\\x00\\x00\\x00\\x00\\x00\\x00\\x00\\x00\\x00\\x00\\x00\\x00\\x00\\x00\\x00\\x00\\x00\\x00\\x00\\x00\\x00\\x00\\x00\\x00\\x00\\x00\\x00\\x00\\x00\\x00\\x00\\x00\\x00\\x00\\x00\\x00\\x00\\x00\\x00\\x00\\x01\\x00\\x00\\x00\\x00\\x00\\x00\\x00\\x02\\x00\\x00\\x00\\x00\\x00\\x00\\x00\\x03\\x00\\x00\\x00\\x00\\x00\\x00\\x00\\x04\\x00\\x00\\x00\\x00\\x00\\x00\\x00\\x05\\x00\\x00\\x00\\x00\\x00\\x00\\x00\\x06\\x00\\x00\\x00\\x00\\x00\\x00\\x00\\x07\\x00\\x00\\x00\\x00\\x00\\x00\\x00\\x08\\x00\\x00\\x00\\x00\\x00\\x00\\x00\\t\\x00\\x00\\x00\\x00\\x00\\x00\\x00\\n\\x00\\x00\\x00\\x00\\x00\\x00\\x00\\x0b\\x00\\x00\\x00\\x00\\x00\\x00\\x00\\x0c\\x00\\x00\\x00\\x00\\x00\\x00\\x00\\r\\x00\\x00\\x00\\x00\\x00\\x00\\x00\\x0e\\x00\\x00\\x00\\x00\\x00\\x00\\x00\\x0f\\x00\\x00\\x00\\x00\\x00\\x00\\x00\\x10\\x00\\x00\\x00\\x00\\x00\\x00\\x00\\x11\\x00\\x00\\x00\\x00\\x00\\x00\\x00\\x12\\x00\\x00\\x00\\x00\\x00\\x00\\x00\\x13\\x00\\x00\\x00\\x00\\x00\\x00\\x00\\x14\\x00\\x00\\x00\\x00\\x00\\x00\\x00\\x15\\x00\\x00\\x00\\x00\\x00\\x00\\x00\\x16\\x00\\x00\\x00\\x00\\x00\\x00\\x00\\x17\\x00\\x00\\x00\\x00\\x00\\x00\\x00\\x18\\x00\\x00\\x00\\x00\\x00\\x00\\x00\\x19\\x00\\x00\\x00\\x00\\x00\\x00\\x00\\x1a\\x00\\x00\\x00\\x00\\x00\\x00\\x00\\x1b\\x00\\x00\\x00\\x00\\x00\\x00\\x00\\x1c\\x00\\x00\\x00\\x00\\x00\\x00\\x00\\x1d\\x00\\x00\\x00\\x00\\x00\\x00\\x00\\x1e\\x00\\x00\\x00\\x00\\x00\\x00\\x00\\x1f\\x00\\x00\\x00\\x00\\x00\\x00\\x00 \\x00\\x00\\x00\\x00\\x00\\x00\\x00!\\x00\\x00\\x00\\x00\\x00\\x00\\x00\"\\x00\\x00\\x00\\x00\\x00\\x00\\x00#\\x00\\x00\\x00\\x00\\x00\\x00\\x00$\\x00\\x00\\x00\\x00\\x00\\x00\\x00%\\x00\\x00\\x00\\x00\\x00\\x00\\x00&\\x00\\x00\\x00\\x00\\x00\\x00\\x00\\'\\x00\\x00\\x00\\x00\\x00\\x00\\x00(\\x00\\x00\\x00\\x00\\x00\\x00\\x00)\\x00\\x00\\x00\\x00\\x00\\x00\\x00*\\x00\\x00\\x00\\x00\\x00\\x00\\x00+\\x00\\x00\\x00\\x00\\x00\\x00\\x00,\\x00\\x00\\x00\\x00\\x00\\x00\\x00-\\x00\\x00\\x00\\x00\\x00\\x00\\x00.\\x00\\x00\\x00\\x00\\x00\\x00\\x00/\\x00\\x00\\x00\\x00\\x00\\x00\\x000\\x00\\x00\\x00\\x00\\x00\\x00\\x001\\x00\\x00\\x00\\x00\\x00\\x00\\x002\\x00\\x00\\x00\\x00\\x00\\x00\\x003\\x00\\x00\\x00\\x00\\x00\\x00\\x004\\x00\\x00\\x00\\x00\\x00\\x00\\x005\\x00\\x00\\x00\\x00\\x00\\x00\\x006\\x00\\x00\\x00\\x00\\x00\\x00\\x007\\x00\\x00\\x00\\x00\\x00\\x00\\x008\\x00\\x00\\x00\\x00\\x00\\x00\\x009\\x00\\x00\\x00\\x00\\x00\\x00\\x00:\\x00\\x00\\x00\\x00\\x00\\x00\\x00;\\x00\\x00\\x00\\x00\\x00\\x00\\x00<\\x00\\x00\\x00\\x00\\x00\\x00\\x00=\\x00\\x00\\x00\\x00\\x00\\x00\\x00>\\x00\\x00\\x00\\x00\\x00\\x00\\x00?\\x00\\x00\\x00\\x00\\x00\\x00\\x00@\\x00\\x00\\x00\\x00\\x00\\x00\\x00A\\x00\\x00\\x00\\x00\\x00\\x00\\x00B\\x00\\x00\\x00\\x00\\x00\\x00\\x00C\\x00\\x00\\x00\\x00\\x00\\x00\\x00D\\x00\\x00\\x00\\x00\\x00\\x00\\x00E\\x00\\x00\\x00\\x00\\x00\\x00\\x00F\\x00\\x00\\x00\\x00\\x00\\x00\\x00G\\x00\\x00\\x00\\x00\\x00\\x00\\x00H\\x00\\x00\\x00\\x00\\x00\\x00\\x00I\\x00\\x00\\x00\\x00\\x00\\x00\\x00J\\x00\\x00\\x00\\x00\\x00\\x00\\x00K\\x00\\x00\\x00\\x00\\x00\\x00\\x00L\\x00\\x00\\x00\\x00\\x00\\x00\\x00M\\x00\\x00\\x00\\x00\\x00\\x00\\x00N\\x00\\x00\\x00\\x00\\x00\\x00\\x00O\\x00\\x00\\x00\\x00\\x00\\x00\\x00P\\x00\\x00\\x00\\x00\\x00\\x00\\x00Q\\x00\\x00\\x00\\x00\\x00\\x00\\x00R\\x00\\x00\\x00\\x00\\x00\\x00\\x00S\\x00\\x00\\x00\\x00\\x00\\x00\\x00T\\x00\\x00\\x00\\x00\\x00\\x00\\x00U\\x00\\x00\\x00\\x00\\x00\\x00\\x00V\\x00\\x00\\x00\\x00\\x00\\x00\\x00W\\x00\\x00\\x00\\x00\\x00\\x00\\x00X\\x00\\x00\\x00\\x00\\x00\\x00\\x00Y\\x00\\x00\\x00\\x00\\x00\\x00\\x00Z\\x00\\x00\\x00\\x00\\x00\\x00\\x00[\\x00\\x00\\x00\\x00\\x00\\x00\\x00\\\\\\x00\\x00\\x00\\x00\\x00\\x00\\x00]\\x00\\x00\\x00\\x00\\x00\\x00\\x00^\\x00\\x00\\x00\\x00\\x00\\x00\\x00_\\x00\\x00\\x00\\x00\\x00\\x00\\x00`\\x00\\x00\\x00\\x00\\x00\\x00\\x00a\\x00\\x00\\x00\\x00\\x00\\x00\\x00b\\x00\\x00\\x00\\x00\\x00\\x00\\x00c\\x00\\x00\\x00\\x00\\x00\\x00\\x00'\n"
          ],
          "name": "stdout"
        }
      ]
    },
    {
      "cell_type": "code",
      "metadata": {
        "colab": {
          "base_uri": "https://localhost:8080/"
        },
        "id": "FQIdIE-D_xcc",
        "outputId": "6612b135-d78b-4b6e-cf5e-82c1d89a33bf"
      },
      "source": [
        "print(\"Arquivo aberto retorno:\", hdf5_with_hdf5_ret)\n",
        "with h5py.File(hdf5_with_hdf5_ret, 'r') as hdf: \n",
        "  print(hdf.keys())\n",
        "  print(f'Dataset RANGE_10\\n {np.array(hdf.get(\"RANGE_10\"))}')"
      ],
      "execution_count": 38,
      "outputs": [
        {
          "output_type": "stream",
          "text": [
            "Arquivo aberto retorno: hdf5_with_hdf5_ret.h5\n",
            "<KeysViewHDF5 ['RANGE_10']>\n",
            "Dataset RANGE_10\n",
            " [ 0  1  2  3  4  5  6  7  8  9 10 11 12 13 14 15 16 17 18 19 20 21 22 23\n",
            " 24 25 26 27 28 29 30 31 32 33 34 35 36 37 38 39 40 41 42 43 44 45 46 47\n",
            " 48 49 50 51 52 53 54 55 56 57 58 59 60 61 62 63 64 65 66 67 68 69 70 71\n",
            " 72 73 74 75 76 77 78 79 80 81 82 83 84 85 86 87 88 89 90 91 92 93 94 95\n",
            " 96 97 98 99]\n"
          ],
          "name": "stdout"
        }
      ]
    }
  ]
}