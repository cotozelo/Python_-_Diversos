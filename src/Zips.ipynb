{
  "nbformat": 4,
  "nbformat_minor": 0,
  "metadata": {
    "colab": {
      "name": "Zips.ipynb",
      "provenance": [],
      "authorship_tag": "ABX9TyPTD043M1mBGhtycClIEmUF",
      "include_colab_link": true
    },
    "kernelspec": {
      "name": "python3",
      "display_name": "Python 3"
    },
    "language_info": {
      "name": "python"
    }
  },
  "cells": [
    {
      "cell_type": "markdown",
      "metadata": {
        "id": "view-in-github",
        "colab_type": "text"
      },
      "source": [
        "<a href=\"https://colab.research.google.com/github/cotozelo/Python_diversos/blob/main/src/Zips.ipynb\" target=\"_parent\"><img src=\"https://colab.research.google.com/assets/colab-badge.svg\" alt=\"Open In Colab\"/></a>"
      ]
    },
    {
      "cell_type": "markdown",
      "metadata": {
        "id": "3FM1JQke8p-e"
      },
      "source": [
        "Referências: \n",
        "\n",
        "[[1]](https://docs.python.org/3/library/functions.html#zip)\n",
        "\n",
        "[[2]](https://docs.python.org/3/library/itertools.html#itertools.zip_longest)"
      ]
    },
    {
      "cell_type": "markdown",
      "metadata": {
        "id": "B3l-k4KH98yK"
      },
      "source": [
        "### Instanciando dois vetores"
      ]
    },
    {
      "cell_type": "code",
      "metadata": {
        "id": "eHLhCy0Y97X9"
      },
      "source": [
        "x = [1, 2, 3]\n",
        "y = ['a', 'b', 'c']"
      ],
      "execution_count": 29,
      "outputs": []
    },
    {
      "cell_type": "markdown",
      "metadata": {
        "id": "a0w20ckA-ANK"
      },
      "source": [
        "### Tipo zip"
      ]
    },
    {
      "cell_type": "code",
      "metadata": {
        "colab": {
          "base_uri": "https://localhost:8080/"
        },
        "id": "xmmupzcG9_cS",
        "outputId": "63c193b1-f32d-40ec-ffdc-b959f59cfb37"
      },
      "source": [
        "z = zip(x, y)\n",
        "print(type(z), repr(z))"
      ],
      "execution_count": 30,
      "outputs": [
        {
          "output_type": "stream",
          "text": [
            "<class 'zip'> <zip object at 0x7f1486fb08c0>\n"
          ],
          "name": "stdout"
        }
      ]
    },
    {
      "cell_type": "code",
      "metadata": {
        "colab": {
          "base_uri": "https://localhost:8080/"
        },
        "id": "8TLqaB60Aj2W",
        "outputId": "4436bfbe-879a-4e6a-a942-1e93eaa19c2b"
      },
      "source": [
        "zipped = zip(x, y)\n",
        "print(list(zipped))\n",
        "\n",
        "print(*zip(x, y))\n",
        "print(zip(*zip(x, y)))\n",
        "\n",
        "x2, y2 = zip(*zip(x, y))\n",
        "x == list(x2) and y == list(y2)"
      ],
      "execution_count": 31,
      "outputs": [
        {
          "output_type": "stream",
          "text": [
            "[(1, 'a'), (2, 'b'), (3, 'c')]\n",
            "(1, 'a') (2, 'b') (3, 'c')\n",
            "<zip object at 0x7f1486fa2820>\n"
          ],
          "name": "stdout"
        },
        {
          "output_type": "execute_result",
          "data": {
            "text/plain": [
              "True"
            ]
          },
          "metadata": {
            "tags": []
          },
          "execution_count": 31
        }
      ]
    },
    {
      "cell_type": "markdown",
      "metadata": {
        "id": "5wk5N5Od-TLd"
      },
      "source": [
        "### Iterando no zip"
      ]
    },
    {
      "cell_type": "markdown",
      "metadata": {
        "id": "oeUZgx9j-XVb"
      },
      "source": [
        "impriminto tupal"
      ]
    },
    {
      "cell_type": "code",
      "metadata": {
        "colab": {
          "base_uri": "https://localhost:8080/"
        },
        "id": "Sg5SN-o9-RW-",
        "outputId": "81dfeba5-b6e5-4ee1-9b35-81d0059cde09"
      },
      "source": [
        "for pair in zip(x, y):\n",
        "  print(pair)"
      ],
      "execution_count": 32,
      "outputs": [
        {
          "output_type": "stream",
          "text": [
            "(1, 'a')\n",
            "(2, 'b')\n",
            "(3, 'c')\n"
          ],
          "name": "stdout"
        }
      ]
    },
    {
      "cell_type": "markdown",
      "metadata": {
        "id": "0S1LV23A-bjx"
      },
      "source": [
        "imprimento elementos separados"
      ]
    },
    {
      "cell_type": "code",
      "metadata": {
        "colab": {
          "base_uri": "https://localhost:8080/"
        },
        "id": "NTwQVfJI-ddM",
        "outputId": "508a3b08-2ae7-4bd3-deb2-47988d8b83a1"
      },
      "source": [
        "for l, r in zip(x, y):\n",
        "  print(f'{l}, {r}')"
      ],
      "execution_count": 33,
      "outputs": [
        {
          "output_type": "stream",
          "text": [
            "1, a\n",
            "2, b\n",
            "3, c\n"
          ],
          "name": "stdout"
        }
      ]
    },
    {
      "cell_type": "markdown",
      "metadata": {
        "id": "sf5XnJ5f-gZf"
      },
      "source": [
        "um elemento várias vezes"
      ]
    },
    {
      "cell_type": "code",
      "metadata": {
        "colab": {
          "base_uri": "https://localhost:8080/"
        },
        "id": "kZnp3vn8-e_b",
        "outputId": "efe23f75-300c-433b-af15-eb6db1c1d43c"
      },
      "source": [
        "for t in zip(x, x, x, x, x):\n",
        "  print(t)"
      ],
      "execution_count": 34,
      "outputs": [
        {
          "output_type": "stream",
          "text": [
            "(1, 1, 1, 1, 1)\n",
            "(2, 2, 2, 2, 2)\n",
            "(3, 3, 3, 3, 3)\n"
          ],
          "name": "stdout"
        }
      ]
    },
    {
      "cell_type": "markdown",
      "metadata": {
        "id": "at6md3Re-zL3"
      },
      "source": [
        "### Zip com array de diferentes tamanhos"
      ]
    },
    {
      "cell_type": "code",
      "metadata": {
        "id": "b_SHXtn7_baW"
      },
      "source": [
        "v = [1, 2, 3, 4, 5, 6]\n",
        "u = ['a', 'b', 'c', 'd']"
      ],
      "execution_count": 35,
      "outputs": []
    },
    {
      "cell_type": "markdown",
      "metadata": {
        "id": "9OdL_TXX--8N"
      },
      "source": [
        "O zip finda pelo arrya menor"
      ]
    },
    {
      "cell_type": "code",
      "metadata": {
        "colab": {
          "base_uri": "https://localhost:8080/"
        },
        "id": "x5FHiiYn-wy3",
        "outputId": "ae72ac27-f30f-4ac7-a3bd-d42acde9f275"
      },
      "source": [
        "print(list(zip(v, u)))\n",
        "\n",
        "for t in zip(v, u):\n",
        "  print(t)"
      ],
      "execution_count": 36,
      "outputs": [
        {
          "output_type": "stream",
          "text": [
            "[(1, 'a'), (2, 'b'), (3, 'c'), (4, 'd')]\n",
            "(1, 'a')\n",
            "(2, 'b')\n",
            "(3, 'c')\n",
            "(4, 'd')\n"
          ],
          "name": "stdout"
        }
      ]
    },
    {
      "cell_type": "markdown",
      "metadata": {
        "id": "DPX-TZDKAUCI"
      },
      "source": [
        "### zip_longest"
      ]
    },
    {
      "cell_type": "markdown",
      "metadata": {
        "id": "zyLvRIVG_S1Z"
      },
      "source": [
        "Para percorrer o array de maior quantidade usamos zip_longest\n",
        "\n",
        "Se não definir um valor padrão (em fillvalue) é usado None"
      ]
    },
    {
      "cell_type": "code",
      "metadata": {
        "colab": {
          "base_uri": "https://localhost:8080/"
        },
        "id": "FbN1IXFM-5TW",
        "outputId": "629e2fd9-8e05-4b9a-c285-f8436bc04f87"
      },
      "source": [
        "from itertools import zip_longest\n",
        "\n",
        "print(list(zip_longest(v, u)))\n",
        "print(list(zip_longest(v, u, fillvalue=\"\")))\n",
        "print(list(zip_longest(v, u, fillvalue=\"21\")))\n",
        "print(list(zip_longest(v, u, fillvalue=2)))"
      ],
      "execution_count": 37,
      "outputs": [
        {
          "output_type": "stream",
          "text": [
            "[(1, 'a'), (2, 'b'), (3, 'c'), (4, 'd'), (5, None), (6, None)]\n",
            "[(1, 'a'), (2, 'b'), (3, 'c'), (4, 'd'), (5, ''), (6, '')]\n",
            "[(1, 'a'), (2, 'b'), (3, 'c'), (4, 'd'), (5, '21'), (6, '21')]\n",
            "[(1, 'a'), (2, 'b'), (3, 'c'), (4, 'd'), (5, 2), (6, 2)]\n"
          ],
          "name": "stdout"
        }
      ]
    }
  ]
}