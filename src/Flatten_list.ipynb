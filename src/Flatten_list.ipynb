{
  "nbformat": 4,
  "nbformat_minor": 0,
  "metadata": {
    "colab": {
      "name": "Flatten_list.ipynb",
      "provenance": [],
      "authorship_tag": "ABX9TyO+/9b466bf4xl890ad/Nb/",
      "include_colab_link": true
    },
    "kernelspec": {
      "name": "python3",
      "display_name": "Python 3"
    },
    "language_info": {
      "name": "python"
    }
  },
  "cells": [
    {
      "cell_type": "markdown",
      "metadata": {
        "id": "view-in-github",
        "colab_type": "text"
      },
      "source": [
        "<a href=\"https://colab.research.google.com/github/cotozelo/Python_diversos/blob/main/src/Flatten_list.ipynb\" target=\"_parent\"><img src=\"https://colab.research.google.com/assets/colab-badge.svg\" alt=\"Open In Colab\"/></a>"
      ]
    },
    {
      "cell_type": "markdown",
      "metadata": {
        "id": "MdAr-utTKcim"
      },
      "source": [
        "# Flatten list <a href=\"https://www.youtube.com/watch?v=sj749JOcM2k&list=PLJ_usHaf3fgPQQMfewUzPJb0hQ7mSzXb1\">ref</a>"
      ]
    },
    {
      "cell_type": "code",
      "metadata": {
        "id": "zzpBIgUmKZy4"
      },
      "source": [
        "import functools\n",
        "import itertools\n",
        "import operator\n",
        "import random\n",
        "import time\n",
        "lista = [[1,2],[3,4],[5,6],[7,8]]"
      ],
      "execution_count": 92,
      "outputs": []
    },
    {
      "cell_type": "code",
      "metadata": {
        "id": "g9vwDtJuKoPR"
      },
      "source": [
        "def flatten0(lst) -> list:\n",
        "  flat = []\n",
        "  for l in lst:\n",
        "    for x in l:\n",
        "      flat.append(x)\n",
        "  return flat"
      ],
      "execution_count": 38,
      "outputs": []
    },
    {
      "cell_type": "code",
      "metadata": {
        "colab": {
          "base_uri": "https://localhost:8080/"
        },
        "id": "gmHvF49uK1im",
        "outputId": "bf6d5cfa-6cb7-4047-d2db-00cd27bec6a0"
      },
      "source": [
        "%%time\n",
        "flatten0(lista)"
      ],
      "execution_count": 54,
      "outputs": [
        {
          "output_type": "stream",
          "text": [
            "CPU times: user 7 µs, sys: 0 ns, total: 7 µs\n",
            "Wall time: 10.5 µs\n"
          ],
          "name": "stdout"
        },
        {
          "output_type": "execute_result",
          "data": {
            "text/plain": [
              "[1, 2, 3, 4, 5, 6, 7, 8]"
            ]
          },
          "metadata": {
            "tags": []
          },
          "execution_count": 54
        }
      ]
    },
    {
      "cell_type": "code",
      "metadata": {
        "id": "pAjGgJbeLiMO"
      },
      "source": [
        "def flatten1(lst) -> list:\n",
        "  flat = []\n",
        "  for l in lst:\n",
        "    flat.extend(l)  \n",
        "  return flat"
      ],
      "execution_count": 40,
      "outputs": []
    },
    {
      "cell_type": "code",
      "metadata": {
        "colab": {
          "base_uri": "https://localhost:8080/"
        },
        "id": "ccyjjq_XL2KY",
        "outputId": "32986efc-1119-483e-d841-d60df735aaf2"
      },
      "source": [
        "%%time\n",
        "flatten1(lista)"
      ],
      "execution_count": 55,
      "outputs": [
        {
          "output_type": "stream",
          "text": [
            "CPU times: user 5 µs, sys: 0 ns, total: 5 µs\n",
            "Wall time: 7.15 µs\n"
          ],
          "name": "stdout"
        },
        {
          "output_type": "execute_result",
          "data": {
            "text/plain": [
              "[1, 2, 3, 4, 5, 6, 7, 8]"
            ]
          },
          "metadata": {
            "tags": []
          },
          "execution_count": 55
        }
      ]
    },
    {
      "cell_type": "code",
      "metadata": {
        "id": "3jMDBDiNL6Fw"
      },
      "source": [
        "def flatten2(lst) -> list:\n",
        "  flat = []\n",
        "  for l in lst:\n",
        "    flat += l\n",
        "  return flat"
      ],
      "execution_count": 42,
      "outputs": []
    },
    {
      "cell_type": "code",
      "metadata": {
        "colab": {
          "base_uri": "https://localhost:8080/"
        },
        "id": "K2B2M7xWMIF-",
        "outputId": "ba4cd1d2-b98e-41ea-e362-d447577450e1"
      },
      "source": [
        "%%time\n",
        "flatten2(lista)"
      ],
      "execution_count": 56,
      "outputs": [
        {
          "output_type": "stream",
          "text": [
            "CPU times: user 6 µs, sys: 0 ns, total: 6 µs\n",
            "Wall time: 19.6 µs\n"
          ],
          "name": "stdout"
        },
        {
          "output_type": "execute_result",
          "data": {
            "text/plain": [
              "[1, 2, 3, 4, 5, 6, 7, 8]"
            ]
          },
          "metadata": {
            "tags": []
          },
          "execution_count": 56
        }
      ]
    },
    {
      "cell_type": "code",
      "metadata": {
        "id": "hrKTu8SbMKzJ"
      },
      "source": [
        "def flatten3(lst) -> list:\n",
        "  return [x for l in lst for x in l]"
      ],
      "execution_count": 44,
      "outputs": []
    },
    {
      "cell_type": "code",
      "metadata": {
        "colab": {
          "base_uri": "https://localhost:8080/"
        },
        "id": "0GfUNKuDMSpB",
        "outputId": "1e09a72c-c9e3-4b16-bcac-215cc061ffcd"
      },
      "source": [
        "%%time\n",
        "flatten3(lista)"
      ],
      "execution_count": 57,
      "outputs": [
        {
          "output_type": "stream",
          "text": [
            "CPU times: user 8 µs, sys: 1 µs, total: 9 µs\n",
            "Wall time: 13.1 µs\n"
          ],
          "name": "stdout"
        },
        {
          "output_type": "execute_result",
          "data": {
            "text/plain": [
              "[1, 2, 3, 4, 5, 6, 7, 8]"
            ]
          },
          "metadata": {
            "tags": []
          },
          "execution_count": 57
        }
      ]
    },
    {
      "cell_type": "code",
      "metadata": {
        "id": "AuFF2RYaMU-9"
      },
      "source": [
        "def flatten4(lst) -> list:\n",
        "  return list(itertools.chain.from_iterable(lst))"
      ],
      "execution_count": 46,
      "outputs": []
    },
    {
      "cell_type": "code",
      "metadata": {
        "colab": {
          "base_uri": "https://localhost:8080/"
        },
        "id": "t1Hgl4NJMePx",
        "outputId": "5c2033f8-26ff-4206-90d3-d1f95a90af3b"
      },
      "source": [
        "%%time\n",
        "flatten4(lista)"
      ],
      "execution_count": 58,
      "outputs": [
        {
          "output_type": "stream",
          "text": [
            "CPU times: user 8 µs, sys: 1 µs, total: 9 µs\n",
            "Wall time: 11.9 µs\n"
          ],
          "name": "stdout"
        },
        {
          "output_type": "execute_result",
          "data": {
            "text/plain": [
              "[1, 2, 3, 4, 5, 6, 7, 8]"
            ]
          },
          "metadata": {
            "tags": []
          },
          "execution_count": 58
        }
      ]
    },
    {
      "cell_type": "code",
      "metadata": {
        "id": "0f4vX_EiMhBj"
      },
      "source": [
        "def flatten5(lst) -> list:\n",
        "  return functools.reduce(operator.iconcat, lst, [])"
      ],
      "execution_count": 48,
      "outputs": []
    },
    {
      "cell_type": "code",
      "metadata": {
        "colab": {
          "base_uri": "https://localhost:8080/"
        },
        "id": "FjChsSu9NJuK",
        "outputId": "89f0aa8a-8d46-4b70-9a50-67a6ea79181e"
      },
      "source": [
        "%%time\n",
        "flatten5(lista)"
      ],
      "execution_count": 60,
      "outputs": [
        {
          "output_type": "stream",
          "text": [
            "CPU times: user 10 µs, sys: 1 µs, total: 11 µs\n",
            "Wall time: 14.3 µs\n"
          ],
          "name": "stdout"
        },
        {
          "output_type": "execute_result",
          "data": {
            "text/plain": [
              "[1, 2, 3, 4, 5, 6, 7, 8]"
            ]
          },
          "metadata": {
            "tags": []
          },
          "execution_count": 60
        }
      ]
    },
    {
      "cell_type": "code",
      "metadata": {
        "id": "5Czo2RWVPFdU"
      },
      "source": [
        "def time_f(f):\n",
        "    elapsed = 0.0\n",
        "    n = 100\n",
        "    M = 1000\n",
        "    N = 100\n",
        "    for _ in range(n):\n",
        "        lst = [[random.randint(0, 1000000) for j in range(N)] for i in range(M)]\n",
        "        start = time.perf_counter()\n",
        "        f(lst)\n",
        "        elapsed += time.perf_counter() - start\n",
        "    return f'{elapsed/n * 1000} ms'"
      ],
      "execution_count": 89,
      "outputs": []
    },
    {
      "cell_type": "code",
      "metadata": {
        "colab": {
          "base_uri": "https://localhost:8080/"
        },
        "id": "kLhod2-TTU2t",
        "outputId": "dd23a3ce-5f88-4abf-e1a1-9b52495b3a1f"
      },
      "source": [
        "print('flatten0 ->', time_f(flatten0))\n",
        "print('flatten1 ->', time_f(flatten1))\n",
        "print('flatten2 ->', time_f(flatten2))\n",
        "print('flatten3 ->', time_f(flatten3))\n",
        "print('flatten4 ->', time_f(flatten4))\n",
        "print('flatten5 ->', time_f(flatten5))"
      ],
      "execution_count": 93,
      "outputs": [
        {
          "output_type": "stream",
          "text": [
            "flatten0 -> 8.449387070022567 ms\n",
            "flatten1 -> 1.9290892299886764 ms\n",
            "flatten2 -> 1.9172431300103199 ms\n",
            "flatten3 -> 4.595873359999132 ms\n",
            "flatten4 -> 2.6657470000054673 ms\n",
            "flatten5 -> 2.0055823099801273 ms\n"
          ],
          "name": "stdout"
        }
      ]
    },
    {
      "cell_type": "markdown",
      "metadata": {
        "id": "wSJJcWFqT7RP"
      },
      "source": [
        "Como vemos nos resultado, a implementação flatten2, é uma das mais rápidas, mas mantem sua legibilidade muito bom. Por isso seria a mais indicada nesse caso."
      ]
    }
  ]
}