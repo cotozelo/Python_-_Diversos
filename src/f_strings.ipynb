{
 "cells": [
  {
   "cell_type": "markdown",
   "metadata": {
    "jupyter": {
     "outputs_hidden": false
    },
    "pycharm": {
     "name": "#%%\n"
    }
   },
   "source": [
    "# f-Strings\n",
    "Vamos mostrar aqui alguns exemplos de como usar f-string\n",
    "\n",
    "Esse notebook é baseado no vídeo https://www.youtube.com/watch?v=BxUxX1Ku1EQ&t=330s"
   ]
  },
  {
   "cell_type": "markdown",
   "metadata": {},
   "source": [
    "#### Definindo algumas variáveis que serão impressas"
   ]
  },
  {
   "cell_type": "code",
   "execution_count": 2,
   "metadata": {
    "jupyter": {
     "outputs_hidden": false
    },
    "pycharm": {
     "name": "#%%\n"
    }
   },
   "outputs": [],
   "source": [
    "str_value = \"other 🐶\"\n",
    "num_value = 123"
   ]
  },
  {
   "cell_type": "markdown",
   "metadata": {},
   "source": [
    "#### Imprimindo somente o valor"
   ]
  },
  {
   "cell_type": "code",
   "execution_count": 64,
   "metadata": {},
   "outputs": [
    {
     "name": "stdout",
     "output_type": "stream",
     "text": [
      "1- O valor da variável string é other 🐶\n",
      "2- O valor da variável numérica é 123.456\n"
     ]
    }
   ],
   "source": [
    "print(f'1- O valor da variável string é {str_value}')\n",
    "print(f'2- O valor da variável numérica é {num_value}')"
   ]
  },
  {
   "cell_type": "markdown",
   "metadata": {},
   "source": [
    "#### Como usar o '=' no f-string"
   ]
  },
  {
   "cell_type": "code",
   "execution_count": 63,
   "metadata": {},
   "outputs": [
    {
     "name": "stdout",
     "output_type": "stream",
     "text": [
      "1- Numérica\n",
      "num_value=123.456\n",
      "\n",
      "2- String\n",
      "str_value='other 🐶'\n",
      "\n",
      "3- Numérica, note que se colocamos espaços dentro das chaves isso reflete na impressão\n",
      "num_value = 123.456\n",
      "\n",
      "4- Numérica, outro exemplo com espaços\n",
      "num_value =123.456\n",
      "\n",
      "5- Numérica, outro exemplo com espaços\n",
      "num_value= 123.456\n",
      "\n",
      "6- Numérica, note que se fizermos uma conta dentro das chaves ela é impressa\n",
      "num_value % 2 = 1.456000000000003\n"
     ]
    }
   ],
   "source": [
    "print(f'1- Numérica\\n{num_value=}\\n')\n",
    "print(f'2- String\\n{str_value=}\\n')\n",
    "print(f'3- Numérica, note que se colocamos espaços dentro das chaves isso reflete na impressão\\n{num_value = }\\n') \n",
    "print(f'4- Numérica, outro exemplo com espaços\\n{num_value =}\\n') \n",
    "print(f'5- Numérica, outro exemplo com espaços\\n{num_value= }\\n') \n",
    "print(f'6- Numérica, note que se fizermos uma conta dentro das chaves ela é impressa\\n{num_value % 2 = }')"
   ]
  },
  {
   "cell_type": "markdown",
   "metadata": {},
   "source": [
    "* Tanto para string quanto número usar espaços antes e/ou depois do = se reflete na impressão\n",
    "* Também podemos imprimir a conta efetuada "
   ]
  },
  {
   "cell_type": "markdown",
   "metadata": {},
   "source": [
    "#### Um pouco sobre datatime"
   ]
  },
  {
   "cell_type": "code",
   "execution_count": 62,
   "metadata": {},
   "outputs": [
    {
     "name": "stdout",
     "output_type": "stream",
     "text": [
      "1- Imprimindo somente a data formatada\n",
      "2021-06-20\n",
      "\n",
      "2- Aqui também podemos usar o =\n",
      "now=2021-06-20\n",
      "\n",
      "3- Podemos ver o Mês como texto\n",
      "June 20, 2021\n",
      "\n"
     ]
    }
   ],
   "source": [
    "import datetime\n",
    "now = datetime.datetime.utcnow()\n",
    "print(f'1- Imprimindo somente a data formatada\\n{now:%Y-%m-%d}\\n')\n",
    "print(f'2- Aqui também podemos usar o =\\n{now=:%Y-%m-%d}\\n')\n",
    "print(f'3- Podemos ver o Mês como texto\\n{now:%B %d, %Y}\\n')"
   ]
  },
  {
   "cell_type": "markdown",
   "metadata": {},
   "source": [
    "Note que podemos apresentar a data como desejamos, ou seja, com - ou espaços ou barra. "
   ]
  },
  {
   "cell_type": "markdown",
   "metadata": {},
   "source": [
    "#### Conversões"
   ]
  },
  {
   "cell_type": "code",
   "execution_count": 61,
   "metadata": {},
   "outputs": [
    {
     "name": "stdout",
     "output_type": "stream",
     "text": [
      "1- Usando o !s imprimimos exatamente o __str__ do objeto\n",
      "other 🐶\n",
      "\n",
      "2- Usando o !r imprimimos exatamente o __repr__ do objeto\n",
      "'other 🐶'\n",
      "'other 🐶'\n",
      "\n",
      "3- Usando o !a imprimimos exatamente o __ascii__ do objeto\n",
      "'other \\U0001f436'\n",
      "\n",
      "4- Usando o !s imprimimos exatamente o __str__ do objeto\n",
      "123.456\n",
      "\n",
      "5- Usando o !r imprimimos exatamente o __repr__ do objeto\n",
      "123.456\n",
      "123.456\n",
      "\n",
      "6- Usando o !a imprimimos exatamente o __ascii__ do objeto\n",
      "123.456\n",
      "\n"
     ]
    }
   ],
   "source": [
    "print(f'1- Usando o !s imprimimos exatamente o __str__ do objeto\\n{str_value!s}\\n')\n",
    "print(f'2- Usando o !r imprimimos exatamente o __repr__ do objeto\\n{str_value!r}\\n{repr(str_value)}\\n')\n",
    "print(f'3- Usando o !a imprimimos exatamente o __ascii__ do objeto\\n{str_value!a}\\n')\n",
    "\n",
    "print(f'4- Usando o !s imprimimos exatamente o __str__ do objeto\\n{num_value!s}\\n')\n",
    "print(f'5- Usando o !r imprimimos exatamente o __repr__ do objeto\\n{num_value!r}\\n{repr(num_value)}\\n')\n",
    "print(f'6- Usando o !a imprimimos exatamente o __ascii__ do objeto\\n{num_value!a}\\n')"
   ]
  },
  {
   "cell_type": "markdown",
   "metadata": {},
   "source": [
    "#### Formatações diversas"
   ]
  },
  {
   "cell_type": "code",
   "execution_count": 65,
   "metadata": {},
   "outputs": [
    {
     "name": "stdout",
     "output_type": "stream",
     "text": [
      "1- Podemos separar os valores interio e decimal, e definir o tamanho da impressão\n",
      "     12.35\n",
      "\n",
      "2- Podemos separar os valores interio e decimal, e definir o tamanho da impressão\n",
      "   12.3457\n",
      "\n",
      "3- Podemos separar os valores interio e decimal, e definir o tamanho da impressão\n",
      "12.3457\n",
      "\n",
      "4- Também podemos definir o tamanho da linha\n",
      "|O Rato roeu a roupa|\n",
      "\n",
      "5- Também podemos definir o tamanho da linha\n",
      "|linha = 'O Rato roeu a roupa'    |\n",
      "\n",
      "6- Também podemos definir o tamanho da linha\n",
      "|'O Rato roeu a roupa'    |\n",
      "\n",
      "7- Também podemos definir o tamanho da linha\n",
      "|O Rato roeu a roupa      |\n",
      "\n",
      "8- Também podemos definir o tamanho da linha\n",
      "|O Rato roeu a roupa      |\n",
      "\n"
     ]
    }
   ],
   "source": [
    "import decimal\n",
    "tamanho = 10\n",
    "digitos = 4\n",
    "valor = decimal.Decimal(12.34567)\n",
    "print(f'1- Podemos separar os valores interio e decimal, e definir o tamanho da impressão\\n{valor:{tamanho}.{digitos}}\\n')\n",
    "\n",
    "tamanho = 10\n",
    "digitos = 6\n",
    "valor = decimal.Decimal('12.34567')\n",
    "print(f'2- Podemos separar os valores interio e decimal, e definir o tamanho da impressão\\n{valor:{tamanho}.{digitos}}\\n')\n",
    "\n",
    "tamanho = 4\n",
    "digitos = 6\n",
    "valor = decimal.Decimal('12.34567')\n",
    "print(f'3- Podemos separar os valores interio e decimal, e definir o tamanho da impressão\\n{valor:{tamanho}.{digitos}}\\n')\n",
    "\n",
    "linha = 'O Rato roeu a roupa'\n",
    "print(f'4- Também podemos definir o tamanho da linha\\n|{linha}|\\n')\n",
    "print(f'5- Também podemos definir o tamanho da linha\\n|{linha = !r:25}|\\n')\n",
    "print(f'6- Também podemos definir o tamanho da linha\\n|{linha !r:25}|\\n')\n",
    "print(f'7- Também podemos definir o tamanho da linha\\n|{linha !s:25}|\\n')\n",
    "print(f'8- Também podemos definir o tamanho da linha\\n|{linha:25}|\\n')\n",
    "\n"
   ]
  }
 ],
 "metadata": {
  "kernelspec": {
   "display_name": "Python 3",
   "language": "python",
   "name": "python3"
  },
  "language_info": {
   "codemirror_mode": {
    "name": "ipython",
    "version": 3
   },
   "file_extension": ".py",
   "mimetype": "text/x-python",
   "name": "python",
   "nbconvert_exporter": "python",
   "pygments_lexer": "ipython3",
   "version": "3.8.10"
  }
 },
 "nbformat": 4,
 "nbformat_minor": 4
}
