{
 "cells": [
  {
   "cell_type": "markdown",
   "id": "390b0028",
   "metadata": {},
   "source": [
    "# Bot AimBooster"
   ]
  },
  {
   "cell_type": "markdown",
   "id": "364e9859",
   "metadata": {},
   "source": [
    "Vamos criar um Bot para jogar http://www.aimbooster.com/"
   ]
  },
  {
   "cell_type": "markdown",
   "id": "d21262af",
   "metadata": {},
   "source": [
    "## Pacotes necessários"
   ]
  },
  {
   "cell_type": "code",
   "execution_count": 2,
   "id": "65c68d4e",
   "metadata": {},
   "outputs": [
    {
     "name": "stdout",
     "output_type": "stream",
     "text": [
      "Requirement already satisfied: pywin32 in c:\\programdata\\anaconda3\\lib\\site-packages (227)\n",
      "Requirement already satisfied: keyboard in c:\\programdata\\anaconda3\\lib\\site-packages (0.13.5)\n",
      "Requirement already satisfied: pyautogui in c:\\programdata\\anaconda3\\lib\\site-packages (0.9.53)\n",
      "Requirement already satisfied: PyTweening>=1.0.1 in c:\\programdata\\anaconda3\\lib\\site-packages (from pyautogui) (1.0.4)\n",
      "Requirement already satisfied: pyscreeze>=0.1.21 in c:\\programdata\\anaconda3\\lib\\site-packages (from pyautogui) (0.1.28)\n",
      "Requirement already satisfied: pymsgbox in c:\\programdata\\anaconda3\\lib\\site-packages (from pyautogui) (1.0.9)\n",
      "Requirement already satisfied: mouseinfo in c:\\programdata\\anaconda3\\lib\\site-packages (from pyautogui) (0.1.3)\n",
      "Requirement already satisfied: pygetwindow>=0.0.5 in c:\\programdata\\anaconda3\\lib\\site-packages (from pyautogui) (0.0.9)\n",
      "Requirement already satisfied: pyrect in c:\\programdata\\anaconda3\\lib\\site-packages (from pygetwindow>=0.0.5->pyautogui) (0.1.4)\n",
      "Requirement already satisfied: Pillow>=6.2.1 in c:\\programdata\\anaconda3\\lib\\site-packages (from pyscreeze>=0.1.21->pyautogui) (8.2.0)\n",
      "Requirement already satisfied: pyperclip in c:\\programdata\\anaconda3\\lib\\site-packages (from mouseinfo->pyautogui) (1.8.2)\n",
      "Requirement already satisfied: opencv-python in c:\\programdata\\anaconda3\\lib\\site-packages (4.5.3.56)\n",
      "Requirement already satisfied: numpy>=1.17.3 in c:\\programdata\\anaconda3\\lib\\site-packages (from opencv-python) (1.20.1)\n"
     ]
    }
   ],
   "source": [
    "!pip install pywin32\n",
    "!pip install keyboard\n",
    "!pip install pyautogui\n",
    "!pip install opencv-python"
   ]
  },
  {
   "cell_type": "markdown",
   "id": "b7d1f838",
   "metadata": {},
   "source": [
    "## Imports"
   ]
  },
  {
   "cell_type": "code",
   "execution_count": 21,
   "id": "65fb96ff",
   "metadata": {},
   "outputs": [],
   "source": [
    "from pyautogui import *\n",
    "import pyautogui\n",
    "import time\n",
    "import keyboard\n",
    "import random\n",
    "import win32api, win32con\n",
    "import math"
   ]
  },
  {
   "cell_type": "markdown",
   "id": "a354e917",
   "metadata": {},
   "source": [
    "## Cor do centro"
   ]
  },
  {
   "cell_type": "markdown",
   "id": "bd22c9b0",
   "metadata": {},
   "source": [
    "Para saber a cor do centro vamos executar o comando abaixo, e encontrar a cor do centro, e os limites da janela do jogo."
   ]
  },
  {
   "cell_type": "code",
   "execution_count": 48,
   "id": "3718c176",
   "metadata": {},
   "outputs": [
    {
     "name": "stdout",
     "output_type": "stream",
     "text": [
      "Press Ctrl-C to quit.\n"
     ]
    },
    {
     "name": "stdout",
     "output_type": "stream",
     "text": [
      "X: 1365 Y:  580 RGB: (255, 219, 19X: 1365 Y:  580 RGB: (255, 219, 19X: 1365 Y:  580 RGB: (255, 219, 19X: 1365 Y:  580 RGB: (255, 219, 19X: 1365 Y:  580 RGB: (255, 219, 19X: 1365 Y:  580 RGB: (255, 219, 19X: 1365 Y:  580 RGB: (255, 219, 19X: 1365 Y:  580 RGB: (255, 219, 19X: 1365 Y:  580 RGB: (255, 219, 19X: 1365 Y:  580 RGB: (255, 219, 19X: 1365 Y:  580 RGB: (255, 219, 19X: 1365 Y:  580 RGB: (255, 219, 19X: 1365 Y:  580 RGB: (255, 219, 19X: 1365 Y:  580 RGB: (255, 219, 19X: 1365 Y:  580 RGB: (255, 219, 19X: 1365 Y:  580 RGB: (255, 219, 19X: 1365 Y:  580 RGB: (255, 219, 19X: 1365 Y:  580 RGB: (255, 219, 19X: 1365 Y:  580 RGB: (255, 219, 19X: 1365 Y:  580 RGB: (255, 219, 19X: 1365 Y:  580 RGB: (255, 219, 19X: 1365 Y:  580 RGB: (255, 219, 19X: 1365 Y:  580 RGB: (255, 219, 19X: 1365 Y:  580 RGB: (255, 219, 19X: 1365 Y:  580 RGB: (255, 219, 19X: 1365 Y:  580 RGB: (255, 219, 19X: 1365 Y:  580 RGB: (255, 219, 19X: 1365 Y:  580 RGB: (255, 219, 19X: 1365 Y:  580 RGB: (255, 219, 19X: 1365 Y:  580 RGB: (255, 219, 19X: 1365 Y:  580 RGB: (255, 219, 19X: 1365 Y:  580 RGB: (255, 219, 19X: 1365 Y:  580 RGB: (255, 219, 19X: 1365 Y:  580 RGB: (255, 219, 19X: 1365 Y:  580 RGB: (255, 219, 19X: 1365 Y:  580 RGB: (255, 219, 19X: 1365 Y:  580 RGB: (255, 219, 19X: 1365 Y:  580 RGB: (255, 219, 19X: 1365 Y:  580 RGB: (255, 219, 19X: 1365 Y:  580 RGB: (255, 219, 19X: 1365 Y:  580 RGB: (255, 219, 19X: 1365 Y:  580 RGB: (255, 219, 19X: 1365 Y:  580 RGB: (255, 219, 19X: 1365 Y:  580 RGB: (255, 219, 19X: 1365 Y:  580 RGB: (255, 219, 19X: 1365 Y:  580 RGB: (255, 219, 19X: 1365 Y:  580 RGB: (255, 219, 19X: 1365 Y:  580 RGB: (255, 219, 19X: 1365 Y:  580 RGB: (255, 219, 19X: 1365 Y:  580 RGB: (255, 219, 19X: 1365 Y:  580 RGB: (255, 219, 19X: 1365 Y:  580 RGB: (255, 219, 19X: 1365 Y:  580 RGB: (255, 219, 19X: 1365 Y:  580 RGB: (255, 219, 19X: 1365 Y:  580 RGB: (255, 219, 19X: 1365 Y:  580 RGB: (255, 219, 19X: 1365 Y:  580 RGB: (255, 219, 19X: 1365 Y:  580 RGB: (255, 219, 19X: 1365 Y:  580 RGB: (255, 219, 19X: 1365 Y:  580 RGB: (255, 219, 19X: 1365 Y:  580 RGB: (255, 219, 19X: 1365 Y:  580 RGB: (255, 219, 19X: 1365 Y:  580 RGB: (255, 219, 19X: 1365 Y:  580 RGB: (255, 219, 19X: 1365 Y:  580 RGB: (255, 219, 19X: 1365 Y:  580 RGB: (255, 219, 19X: 1365 Y:  580 RGB: (255, 219, 19X: 1365 Y:  580 RGB: (255, 219, 19X: 1365 Y:  580 RGB: (255, 219, 19X: 1365 Y:  580 RGB: (255, 219, 19X: 1365 Y:  580 RGB: (255, 219, 19X: 1365 Y:  580 RGB: (255, 219, 19X: 1365 Y:  580 RGB: (255, 219, 19X: 1365 Y:  580 RGB: (255, 219, 19X: 1365 Y:  580 RGB: (255, 219, 19X: 1365 Y:  580 RGB: (255, 219, 19X: 1365 Y:  580 RGB: (255, 219, 19X: 1365 Y:  580 RGB: (255, 219, 19X: 1365 Y:  580 RGB: (255, 219, 19X: 1365 Y:  580 RGB: (255, 219, 19X: 1365 Y:  580 RGB: (255, 219, 19X: 1365 Y:  580 RGB: (255, 219, 19X: 1365 Y:  580 RGB: (255, 219, 19X: 1365 Y:  580 RGB: (255, 219, 19X: 1365 Y:  580 RGB: (255, 219, 19X: 1365 Y:  580 RGB: (255, 219, 19X: 1365 Y:  580 RGB: (255, 219, 19X: 1365 Y:  580 RGB: (255, 219, 19X: 1365 Y:  580 RGB: (255, 219, 19X: 1365 Y:  580 RGB: (255, 219, 19X: 1365 Y:  580 RGB: (255, 219, 19X: 1365 Y:  580 RGB: (255, 219, 19X: 1365 Y:  580 RGB: (255, 219, 19X: 1365 Y:  580 RGB: (255, 219, 19X: 1365 Y:  580 RGB: (255, 219, 19X: 1365 Y:  580 RGB: (255, 219, 19X: 1365 Y:  580 RGB: (255, 219, 19X: 1365 Y:  580 RGB: (255, 219, 19X: 1365 Y:  580 RGB: (255, 219, 19X: 1365 Y:  580 RGB: (255, 219, 19X: 1365 Y:  580 RGB: (255, 219, 19X: 1365 Y:  580 RGB: (255, 219, 19X: 1365 Y:  580 RGB: (255, 219, 19X: 1365 Y:  580 RGB: (255, 219, 19X: 1365 Y:  580 RGB: (255, 219, 19X: 1365 Y:  580 RGB: (255, 219, 19X: 1365 Y:  580 RGB: (255, 219, 19X: 1365 Y:  580 RGB: (255, 219, 19X: 1365 Y:  580 RGB: (255, 219, 19X: 1365 Y:  580 RGB: (255, 219, 19X: 1365 Y:  580 RGB: (255, 219, 19X: 1365 Y:  580 RGB: (255, 219, 19X: 1365 Y:  580 RGB: (255, 219, 19X: 1365 Y:  580 RGB: (255, 219, 19X: 1365 Y:  580 RGB: (255, 219, 19X: 1365 Y:  580 RGB: (255, 219, 19X: 1365 Y:  580 RGB: (255, 219, 19X: 1365 Y:  580 RGB: (255, 219, 19X: 1365 Y:  580 RGB: (255, 219, 19X: 1365 Y:  580 RGB: (255, 219, 19X: 1365 Y:  580 RGB: (255, 219, 19X: 1365 Y:  580 RGB: (255, 219, 19X: 1365 Y:  580 RGB: (255, 219, 19X: 1365 Y:  580 RGB: (255, 219, 19X: 1365 Y:  580 RGB: (255, 219, 19X: 1365 Y:  580 RGB: (255, 219, 19X: 1365 Y:  580 RGB: (255, 219, 19X: 1365 Y:  580 RGB: (255, 219, 19X: 1365 Y:  580 RGB: (255, 219, 19X: 1365 Y:  580 RGB: (255, 219, 19X: 1365 Y:  580 RGB: (255, 219, 19X: 1365 Y:  580 RGB: (255, 219, 19X: 1365 Y:  580 RGB: (255, 219, 19X: 1365 Y:  580 RGB: (255, 219, 19X: 1365 Y:  580 RGB: (255, 219, 19X: 1365 Y:  580 RGB: (255, 219, 19X: 1365 Y:  580 RGB: (255, 219, 19X: 1365 Y:  580 RGB: (255, 219, 19X: 1365 Y:  580 RGB: (255, 219, 19X: 1365 Y:  580 RGB: (255, 219, 19X: 1365 Y:  580 RGB: (255, 219, 19X: 1365 Y:  580 RGB: (255, 219, 19X: 1365 Y:  580 RGB: (255, 219, 19X: 1365 Y:  580 RGB: (255, 219, 19X: 1365 Y:  580 RGB: (255, 219, 19X: 1365 Y:  580 RGB: (255, 219, 19X: 1365 Y:  580 RGB: (255, 219, 19X: 1365 Y:  580 RGB: (255, 219, 19X: 1365 Y:  580 RGB: (255, 219, 19X: 1365 Y:  580 RGB: (255, 219, 19X: 1365 Y:  580 RGB: (255, 219, 19X: 1365 Y:  580 RGB: (255, 219, 19X: 1365 Y:  580 RGB: (255, 219, 19X: 1365 Y:  580 RGB: (255, 219, 19X: 1365 Y:  580 RGB: (255, 219, 19X: 1365 Y:  580 RGB: (255, 219, 19X: 1365 Y:  580 RGB: (255, 219, 19X: 1365 Y:  580 RGB: (255, 219, 19X: 1365 Y:  580 RGB: (255, 219, 19X: 1365 Y:  580 RGB: (255, 219, 19X: 1365 Y:  580 RGB: (255, 219, 19X: 1365 Y:  580 RGB: (255, 219, 19X: 1365 Y:  580 RGB: (255, 219, 19X: 1365 Y:  580 RGB: (255, 219, 19X: 1365 Y:  580 RGB: (255, 219, 19X: 1365 Y:  580 RGB: (255, 219, 19X: 1365 Y:  580 RGB: (255, 219, 19X: 1365 Y:  580 RGB: (255, 219, 19X: 1365 Y:  580 RGB: (255, 219, 19X: 1365 Y:  580 RGB: (255, 219, 19X: 1365 Y:  580 RGB: (255, 219, 19X: 1365 Y:  580 RGB: (255, 219, 19X: 1365 Y:  580 RGB: (255, 219, 19X: 1365 Y:  580 RGB: (255, 219, 19X: 1365 Y:  580 RGB: (255, 219, 19X: 1365 Y:  580 RGB: (255, 219, 19X: 1365 Y:  580 RGB: (255, 219, 19X: 1365 Y:  580 RGB: (255, 219, 19X: 1365 Y:  580 RGB: (255, 219, 19X: 1365 Y:  580 RGB: (255, 219, 19X: 1365 Y:  580 RGB: (255, 219, 19X: 1365 Y:  580 RGB: (255, 219, 19X: 1365 Y:  580 RGB: (255, 219, 19X: 1365 Y:  580 RGB: (255, 219, 19X: 1365 Y:  580 RGB: (255, 219, 19X: 1365 Y:  580 RGB: (255, 219, 19X: 1365 Y:  580 RGB: (255, 219, 19X: 1365 Y:  580 RGB: (255, 219, 19X: 1365 Y:  580 RGB: (255, 219, 19X: 1365 Y:  580 RGB: (255, 219, 19X: 1365 Y:  580 RGB: (255, 219, 19X: 1365 Y:  580 RGB: (255, 219, 19X: 1365 Y:  580 RGB: (255, 219, 19X: 1365 Y:  580 RGB: (255, 219, 19X: 1365 Y:  580 RGB: (255, 219, 19X: 1365 Y:  580 RGB: (255, 219, 19X: 1365 Y:  580 RGB: (255, 219, 19X: 1365 Y:  580 RGB: (255, 219, 19X: 1365 Y:  580 RGB: (255, 219, 19X: 1365 Y:  580 RGB: (255, 219, 19X: 1365 Y:  580 RGB: (255, 219, 19X: 1365 Y:  580 RGB: (255, 219, 19X: 1365 Y:  580 RGB: (255, 219, 19X: 1365 Y:  580 RGB: (255, 219, 19X: 1365 Y:  580 RGB: (255, 219, 19X: 1365 Y:  580 RGB: (255, 219, 19X: 1365 Y:  580 RGB: (255, 219, 19X: 1365 Y:  580 RGB: (255, 219, 19X: 1365 Y:  580 RGB: (255, 219, 19X: 1365 Y:  580 RGB: (255, 219, 19X: 1365 Y:  580 RGB: (255, 219, 19X: 1365 Y:  580 RGB: (255, 219, 19X: 1365 Y:  580 RGB: (255, 219, 19X: 1365 Y:  580 RGB: (255, 219, 19X: 1365 Y:  580 RGB: (255, 219, 19X: 1365 Y:  580 RGB: (255, 219, 19X: 1365 Y:  580 RGB: (255, 219, 19X: 1365 Y:  580 RGB: (255, 219, 19X: 1365 Y:  580 RGB: (255, 219, 19X: 1365 Y:  580 RGB: (255, 219, 19X: 1365 Y:  580 RGB: (255, 219, 19X: 1365 Y:  580 RGB: (255, 219, 19X: 1365 Y:  580 RGB: (255, 219, 19X: 1365 Y:  580 RGB: (255, 219, 19X: 1365 Y:  580 RGB: (255, 219, 19X: 1365 Y:  580 RGB: (255, 219, 19X: 1365 Y:  580 RGB: (255, 219, 19X: 1365 Y:  580 RGB: (255, 219, 19X: 1365 Y:  580 RGB: (255, 219, 19X: 1365 Y:  580 RGB: (255, 219, 19X: 1365 Y:  580 RGB: (255, 219, 19X: 1365 Y:  580 RGB: (255, 219, 19X: 1365 Y:  580 RGB: (255, 219, 19X: 1365 Y:  580 RGB: (255, 219, 19X: 1365 Y:  580 RGB: (255, 219, 19X: 1365 Y:  580 RGB: (255, 219, 19X: 1365 Y:  580 RGB: (255, 219, 19X: 1365 Y:  580 RGB: (255, 219, 19X: 1365 Y:  580 RGB: (255, 219, 19X: 1365 Y:  580 RGB: (255, 219, 19X: 1365 Y:  580 RGB: (255, 219, 19X: 1365 Y:  580 RGB: (255, 219, 195)\b\b\b\b\b\b\b\b\b\b\b\b\b\b\b\b\b\b\b\b\b\b\b\b\b\b\b\b\b\b\b\b\b\b\b\b"
     ]
    },
    {
     "name": "stdout",
     "output_type": "stream",
     "text": [
      "X: 1365 Y:  580 RGB: (255, 219, 19X: 1365 Y:  580 RGB: (255, 219, 19X: 1365 Y:  580 RGB: (255, 219, 19X: 1365 Y:  580 RGB: (255, 219, 19X: 1365 Y:  580 RGB: (255, 219, 19X: 1365 Y:  580 RGB: (255, 219, 19X: 1365 Y:  580 RGB: (255, 219, 19X: 1365 Y:  580 RGB: (255, 219, 19X: 1365 Y:  580 RGB: (255, 219, 19X: 1365 Y:  580 RGB: (255, 219, 19X: 1365 Y:  580 RGB: (255, 219, 19X: 1365 Y:  580 RGB: (255, 219, 19X: 1365 Y:  580 RGB: (255, 219, 19X: 1365 Y:  580 RGB: (255, 219, 19X: 1365 Y:  580 RGB: (255, 219, 19X: 1365 Y:  580 RGB: (255, 219, 19X: 1365 Y:  580 RGB: (255, 219, 19X: 1365 Y:  580 RGB: (255, 219, 19X: 1365 Y:  580 RGB: (255, 219, 19X: 1365 Y:  580 RGB: (255, 219, 19X: 1365 Y:  580 RGB: (255, 219, 19X: 1365 Y:  580 RGB: (255, 219, 19X: 1365 Y:  580 RGB: (255, 219, 19X: 1365 Y:  580 RGB: (255, 219, 19X: 1365 Y:  580 RGB: (255, 219, 19X: 1365 Y:  580 RGB: (255, 219, 19X: 1365 Y:  580 RGB: (255, 219, 19X: 1365 Y:  580 RGB: (255, 219, 19X: 1365 Y:  580 RGB: (255, 219, 19X: 1365 Y:  580 RGB: (255, 219, 19X: 1365 Y:  580 RGB: (255, 219, 19X: 1365 Y:  580 RGB: (255, 219, 19X: 1365 Y:  580 RGB: (255, 219, 19X: 1365 Y:  580 RGB: (255, 219, 19X: 1365 Y:  580 RGB: (255, 219, 19X: 1365 Y:  580 RGB: (255, 219, 19X: 1365 Y:  580 RGB: (255, 219, 19X: 1365 Y:  580 RGB: (255, 219, 19X: 1365 Y:  580 RGB: (255, 219, 19X: 1365 Y:  580 RGB: (255, 219, 19X: 1365 Y:  580 RGB: (255, 219, 19X: 1365 Y:  580 RGB: (255, 219, 19X: 1365 Y:  580 RGB: (255, 219, 19X: 1365 Y:  580 RGB: (255, 219, 19X: 1365 Y:  580 RGB: (255, 219, 19X: 1365 Y:  580 RGB: (255, 219, 19X: 1365 Y:  580 RGB: (255, 219, 19X: 1365 Y:  580 RGB: (255, 219, 19X: 1365 Y:  580 RGB: (255, 219, 19X: 1365 Y:  580 RGB: (255, 219, 19X: 1365 Y:  580 RGB: (255, 219, 19X: 1365 Y:  580 RGB: (255, 219, 19X: 1365 Y:  580 RGB: (255, 219, 19X: 1365 Y:  580 RGB: (255, 219, 19X: 1365 Y:  580 RGB: (255, 219, 19X: 1365 Y:  580 RGB: (255, 219, 19X: 1365 Y:  580 RGB: (255, 219, 19X: 1365 Y:  580 RGB: (255, 219, 19X: 1365 Y:  580 RGB: (255, 219, 19X: 1365 Y:  580 RGB: (255, 219, 19X: 1365 Y:  580 RGB: (255, 219, 19X: 1365 Y:  580 RGB: (255, 219, 19X: 1365 Y:  580 RGB: (255, 219, 19X: 1365 Y:  580 RGB: (255, 219, 19X: 1365 Y:  580 RGB: (255, 219, 19X: 1365 Y:  580 RGB: (255, 219, 19X: 1365 Y:  580 RGB: (255, 219, 19X: 1365 Y:  580 RGB: (255, 219, 19X: 1365 Y:  580 RGB: (255, 219, 19X: 1365 Y:  580 RGB: (255, 219, 19X: 1365 Y:  580 RGB: (255, 219, 19X: 1365 Y:  580 RGB: (255, 219, 19X: 1365 Y:  580 RGB: (255, 219, 19X: 1365 Y:  580 RGB: (255, 219, 19X: 1365 Y:  580 RGB: (255, 219, 19X: 1365 Y:  580 RGB: (255, 219, 19X: 1365 Y:  580 RGB: (255, 219, 19X: 1365 Y:  580 RGB: (255, 219, 19X: 1365 Y:  580 RGB: (255, 219, 19X: 1365 Y:  580 RGB: (255, 219, 19X: 1365 Y:  580 RGB: (255, 219, 19X: 1365 Y:  580 RGB: (255, 219, 19X: 1365 Y:  580 RGB: (255, 219, 19X: 1365 Y:  580 RGB: (255, 219, 19X: 1365 Y:  580 RGB: (255, 219, 19X: 1365 Y:  580 RGB: (255, 219, 19X: 1365 Y:  580 RGB: (255, 219, 19X: 1365 Y:  580 RGB: (255, 219, 19X: 1365 Y:  580 RGB: (255, 219, 19X: 1365 Y:  580 RGB: (255, 219, 19X: 1365 Y:  580 RGB: (255, 219, 19X: 1365 Y:  580 RGB: (255, 219, 19X: 1365 Y:  580 RGB: (255, 219, 19X: 1365 Y:  580 RGB: (255, 219, 19X: 1365 Y:  580 RGB: (255, 219, 19X: 1365 Y:  580 RGB: (255, 219, 19X: 1365 Y:  580 RGB: (255, 219, 19X: 1365 Y:  580 RGB: (255, 219, 19X: 1365 Y:  580 RGB: (255, 219, 19X: 1365 Y:  580 RGB: (255, 219, 19X: 1365 Y:  580 RGB: (255, 219, 19X: 1365 Y:  580 RGB: (255, 219, 19X: 1365 Y:  580 RGB: (255, 219, 19X: 1365 Y:  580 RGB: (255, 219, 19X: 1365 Y:  580 RGB: (255, 219, 19X: 1365 Y:  580 RGB: (255, 219, 19X: 1365 Y:  580 RGB: (255, 219, 19X: 1365 Y:  580 RGB: (255, 219, 19X: 1365 Y:  580 RGB: (255, 219, 19X: 1365 Y:  580 RGB: (255, 219, 19X: 1365 Y:  580 RGB: (255, 219, 19X: 1365 Y:  580 RGB: (255, 219, 19X: 1365 Y:  580 RGB: (255, 219, 19X: 1365 Y:  580 RGB: (255, 219, 19X: 1365 Y:  580 RGB: (255, 219, 19X: 1365 Y:  580 RGB: (255, 219, 19X: 1365 Y:  580 RGB: (255, 219, 19X: 1365 Y:  580 RGB: (255, 219, 19X: 1365 Y:  580 RGB: (255, 219, 19X: 1365 Y:  580 RGB: (255, 219, 19X: 1365 Y:  580 RGB: (255, 219, 19X: 1365 Y:  580 RGB: (255, 219, 19X: 1365 Y:  580 RGB: (255, 219, 19X: 1365 Y:  580 RGB: (255, 219, 19X: 1365 Y:  580 RGB: (255, 219, 19X: 1365 Y:  580 RGB: (255, 219, 19X: 1365 Y:  580 RGB: (255, 219, 19X: 1365 Y:  580 RGB: (255, 219, 19X: 1365 Y:  580 RGB: (255, 219, 19X: 1365 Y:  580 RGB: (255, 219, 19X: 1365 Y:  580 RGB: (255, 219, 19X: 1365 Y:  580 RGB: (255, 219, 19X: 1365 Y:  580 RGB: (255, 219, 19X: 1365 Y:  580 RGB: (255, 219, 19X: 1365 Y:  580 RGB: (255, 219, 19X: 1365 Y:  580 RGB: (255, 219, 19X: 1365 Y:  580 RGB: (255, 219, 19X: 1365 Y:  580 RGB: (255, 219, 19X: 1365 Y:  580 RGB: (255, 219, 19X: 1365 Y:  580 RGB: (255, 219, 19X: 1365 Y:  580 RGB: (255, 219, 19X: 1365 Y:  580 RGB: (255, 219, 19X: 1365 Y:  580 RGB: (255, 219, 19X: 1365 Y:  580 RGB: (255, 219, 19X: 1365 Y:  580 RGB: (255, 219, 19X: 1365 Y:  580 RGB: (255, 219, 19X: 1365 Y:  580 RGB: (255, 219, 19X: 1365 Y:  580 RGB: (255, 219, 19X: 1333 Y:  575 RGB: (255, 144,  7X: 1211 Y:  546 RGB: ( 90,  90,  9X: 1072 Y:  498 RGB: ( 71, 124, 15X:  945 Y:  451 RGB: (241, 241, 24X:  826 Y:  404 RGB: (255, 255, 25X:  696 Y:  346 RGB: (247, 247, 24X:  614 Y:  315 RGB: (247, 247, 24X:  556 Y:  293 RGB: (247, 247, 24X:  514 Y:  270 RGB: (247, 247, 24X:  478 Y:  246 RGB: (247, 247, 24X:  460 Y:  234 RGB: (254, 254, 25X:  438 Y:  222 RGB: (237, 237, 23X:  423 Y:  217 RGB: (255, 255, 25X:  404 Y:  214 RGB: (230, 230, 23X:  393 Y:  211 RGB: (230, 230, 23X:  388 Y:  209 RGB: (230, 230, 23X:  388 Y:  208 RGB: (230, 230, 23X:  387 Y:  208 RGB: (230, 230, 23X:  387 Y:  208 RGB: (230, 230, 23X:  388 Y:  207 RGB: (230, 230, 23X:  389 Y:  205 RGB: (213, 162, 10X:  390 Y:  205 RGB: ( 51,  51,  5X:  390 Y:  205 RGB: ( 51,  51,  5X:  390 Y:  205 RGB: ( 51,  51,  5X:  390 Y:  205 RGB: ( 51,  51,  5X:  390 Y:  205 RGB: ( 51,  51,  5X:  390 Y:  205 RGB: ( 51,  51,  5X:  390 Y:  205 RGB: ( 51,  51,  5\n"
     ]
    }
   ],
   "source": [
    "time.sleep(5)\n",
    "pyautogui.displayMousePosition()"
   ]
  },
  {
   "cell_type": "markdown",
   "id": "b6069c88",
   "metadata": {},
   "source": [
    "A cor do centro é (255, 219, 195)"
   ]
  },
  {
   "cell_type": "code",
   "execution_count": 11,
   "id": "2614e3ad",
   "metadata": {},
   "outputs": [],
   "source": [
    "red = 255\n",
    "green = 219\n",
    "blue = 195"
   ]
  },
  {
   "cell_type": "markdown",
   "id": "f35d9099",
   "metadata": {},
   "source": [
    "## Função Click"
   ]
  },
  {
   "cell_type": "markdown",
   "id": "85f0d382",
   "metadata": {},
   "source": [
    "Construindo a função que recebendo x, y clica nessa posição da tela."
   ]
  },
  {
   "cell_type": "code",
   "execution_count": 29,
   "id": "1cb407c7",
   "metadata": {},
   "outputs": [],
   "source": [
    "def click(x,y):\n",
    "    win32api.SetCursorPos((x,y))\n",
    "    win32api.mouse_event(win32con.MOUSEEVENTF_LEFTDOWN,0,0)\n",
    "    time.sleep(0.05) #This pauses the script for 0.1 seconds\n",
    "    win32api.mouse_event(win32con.MOUSEEVENTF_LEFTUP,0,0)"
   ]
  },
  {
   "cell_type": "markdown",
   "id": "7a3fd750",
   "metadata": {},
   "source": [
    "## O Bot"
   ]
  },
  {
   "cell_type": "markdown",
   "id": "440ad8cf",
   "metadata": {},
   "source": [
    "Esse Bot simplesmente percorre todas as posições informadas pela janela \"pyautogui.screenshot(region=(xi, yi, l, a))\", e verifica se a cor red = 255, green = 219, blue = 195 é encontrar, ele também não permite que o próximo clique do mouse esteja a uma distância de 20 pixel.\n",
    "Detalhe que pra parar o Bot basta precionar a tecla \"q\"."
   ]
  },
  {
   "cell_type": "code",
   "execution_count": 30,
   "id": "9318727d",
   "metadata": {},
   "outputs": [
    {
     "ename": "KeyboardInterrupt",
     "evalue": "",
     "output_type": "error",
     "traceback": [
      "\u001b[1;31m---------------------------------------------------------------------------\u001b[0m",
      "\u001b[1;31mKeyboardInterrupt\u001b[0m                         Traceback (most recent call last)",
      "\u001b[1;32m<ipython-input-30-1f5edb021dca>\u001b[0m in \u001b[0;36m<module>\u001b[1;34m\u001b[0m\n\u001b[0;32m      6\u001b[0m \u001b[1;33m\u001b[0m\u001b[0m\n\u001b[0;32m      7\u001b[0m \u001b[1;32mwhile\u001b[0m \u001b[0mkeyboard\u001b[0m\u001b[1;33m.\u001b[0m\u001b[0mis_pressed\u001b[0m\u001b[1;33m(\u001b[0m\u001b[1;34m'q'\u001b[0m\u001b[1;33m)\u001b[0m \u001b[1;33m==\u001b[0m \u001b[1;32mFalse\u001b[0m\u001b[1;33m:\u001b[0m\u001b[1;33m\u001b[0m\u001b[1;33m\u001b[0m\u001b[0m\n\u001b[1;32m----> 8\u001b[1;33m     \u001b[0mpic\u001b[0m \u001b[1;33m=\u001b[0m \u001b[0mpyautogui\u001b[0m\u001b[1;33m.\u001b[0m\u001b[0mscreenshot\u001b[0m\u001b[1;33m(\u001b[0m\u001b[0mregion\u001b[0m\u001b[1;33m=\u001b[0m\u001b[1;33m(\u001b[0m\u001b[0mxi\u001b[0m\u001b[1;33m,\u001b[0m \u001b[0myi\u001b[0m\u001b[1;33m,\u001b[0m \u001b[0ml\u001b[0m\u001b[1;33m,\u001b[0m \u001b[0ma\u001b[0m\u001b[1;33m)\u001b[0m\u001b[1;33m)\u001b[0m\u001b[1;33m\u001b[0m\u001b[1;33m\u001b[0m\u001b[0m\n\u001b[0m\u001b[0;32m      9\u001b[0m     \u001b[0mwidth\u001b[0m\u001b[1;33m,\u001b[0m \u001b[0mheight\u001b[0m \u001b[1;33m=\u001b[0m \u001b[0mpic\u001b[0m\u001b[1;33m.\u001b[0m\u001b[0msize\u001b[0m\u001b[1;33m\u001b[0m\u001b[1;33m\u001b[0m\u001b[0m\n\u001b[0;32m     10\u001b[0m     \u001b[0mx_click\u001b[0m \u001b[1;33m=\u001b[0m \u001b[1;36m0\u001b[0m\u001b[1;33m\u001b[0m\u001b[1;33m\u001b[0m\u001b[0m\n",
      "\u001b[1;32mC:\\ProgramData\\Anaconda3\\lib\\site-packages\\pyscreeze\\__init__.py\u001b[0m in \u001b[0;36mwrapper\u001b[1;34m(*args, **kwargs)\u001b[0m\n\u001b[0;32m    143\u001b[0m         \u001b[1;32mif\u001b[0m \u001b[0m_PILLOW_UNAVAILABLE\u001b[0m\u001b[1;33m:\u001b[0m\u001b[1;33m\u001b[0m\u001b[1;33m\u001b[0m\u001b[0m\n\u001b[0;32m    144\u001b[0m             \u001b[1;32mraise\u001b[0m \u001b[0mPyScreezeException\u001b[0m\u001b[1;33m(\u001b[0m\u001b[1;34m'The Pillow package is required to use this function.'\u001b[0m\u001b[1;33m)\u001b[0m\u001b[1;33m\u001b[0m\u001b[1;33m\u001b[0m\u001b[0m\n\u001b[1;32m--> 145\u001b[1;33m         \u001b[1;32mreturn\u001b[0m \u001b[0mwrappedFunction\u001b[0m\u001b[1;33m(\u001b[0m\u001b[1;33m*\u001b[0m\u001b[0margs\u001b[0m\u001b[1;33m,\u001b[0m \u001b[1;33m**\u001b[0m\u001b[0mkwargs\u001b[0m\u001b[1;33m)\u001b[0m\u001b[1;33m\u001b[0m\u001b[1;33m\u001b[0m\u001b[0m\n\u001b[0m\u001b[0;32m    146\u001b[0m     \u001b[1;32mreturn\u001b[0m \u001b[0mwrapper\u001b[0m\u001b[1;33m\u001b[0m\u001b[1;33m\u001b[0m\u001b[0m\n\u001b[0;32m    147\u001b[0m \u001b[1;33m\u001b[0m\u001b[0m\n",
      "\u001b[1;32mC:\\ProgramData\\Anaconda3\\lib\\site-packages\\pyscreeze\\__init__.py\u001b[0m in \u001b[0;36m_screenshot_win32\u001b[1;34m(imageFilename, region)\u001b[0m\n\u001b[0;32m    455\u001b[0m     \u001b[1;31m# TODO - Use the winapi to get a screenshot, and compare performance with ImageGrab.grab()\u001b[0m\u001b[1;33m\u001b[0m\u001b[1;33m\u001b[0m\u001b[1;33m\u001b[0m\u001b[0m\n\u001b[0;32m    456\u001b[0m     \u001b[1;31m# https://stackoverflow.com/a/3586280/1893164\u001b[0m\u001b[1;33m\u001b[0m\u001b[1;33m\u001b[0m\u001b[1;33m\u001b[0m\u001b[0m\n\u001b[1;32m--> 457\u001b[1;33m     \u001b[0mim\u001b[0m \u001b[1;33m=\u001b[0m \u001b[0mImageGrab\u001b[0m\u001b[1;33m.\u001b[0m\u001b[0mgrab\u001b[0m\u001b[1;33m(\u001b[0m\u001b[1;33m)\u001b[0m\u001b[1;33m\u001b[0m\u001b[1;33m\u001b[0m\u001b[0m\n\u001b[0m\u001b[0;32m    458\u001b[0m     \u001b[1;32mif\u001b[0m \u001b[0mregion\u001b[0m \u001b[1;32mis\u001b[0m \u001b[1;32mnot\u001b[0m \u001b[1;32mNone\u001b[0m\u001b[1;33m:\u001b[0m\u001b[1;33m\u001b[0m\u001b[1;33m\u001b[0m\u001b[0m\n\u001b[0;32m    459\u001b[0m         \u001b[1;32massert\u001b[0m \u001b[0mlen\u001b[0m\u001b[1;33m(\u001b[0m\u001b[0mregion\u001b[0m\u001b[1;33m)\u001b[0m \u001b[1;33m==\u001b[0m \u001b[1;36m4\u001b[0m\u001b[1;33m,\u001b[0m \u001b[1;34m'region argument must be a tuple of four ints'\u001b[0m\u001b[1;33m\u001b[0m\u001b[1;33m\u001b[0m\u001b[0m\n",
      "\u001b[1;32mC:\\ProgramData\\Anaconda3\\lib\\site-packages\\PIL\\ImageGrab.py\u001b[0m in \u001b[0;36mgrab\u001b[1;34m(bbox, include_layered_windows, all_screens, xdisplay)\u001b[0m\n\u001b[0;32m     41\u001b[0m             \u001b[1;32mreturn\u001b[0m \u001b[0mim\u001b[0m\u001b[1;33m\u001b[0m\u001b[1;33m\u001b[0m\u001b[0m\n\u001b[0;32m     42\u001b[0m         \u001b[1;32melif\u001b[0m \u001b[0msys\u001b[0m\u001b[1;33m.\u001b[0m\u001b[0mplatform\u001b[0m \u001b[1;33m==\u001b[0m \u001b[1;34m\"win32\"\u001b[0m\u001b[1;33m:\u001b[0m\u001b[1;33m\u001b[0m\u001b[1;33m\u001b[0m\u001b[0m\n\u001b[1;32m---> 43\u001b[1;33m             offset, size, data = Image.core.grabscreen_win32(\n\u001b[0m\u001b[0;32m     44\u001b[0m                 \u001b[0minclude_layered_windows\u001b[0m\u001b[1;33m,\u001b[0m \u001b[0mall_screens\u001b[0m\u001b[1;33m\u001b[0m\u001b[1;33m\u001b[0m\u001b[0m\n\u001b[0;32m     45\u001b[0m             )\n",
      "\u001b[1;31mKeyboardInterrupt\u001b[0m: "
     ]
    }
   ],
   "source": [
    "xi, yi = 1141, 379 \n",
    "l, a = 1742-xi,  800-yi\n",
    "xf, yf = 1742,  800\n",
    "\n",
    "time.sleep(5)\n",
    "\n",
    "while keyboard.is_pressed('q') == False:\n",
    "    pic = pyautogui.screenshot(region=(xi, yi, l, a))\n",
    "    width, height = pic.size\n",
    "    x_click = 0\n",
    "    y_click = 0\n",
    "    \n",
    "    for x in range(0, width, 5):\n",
    "        for y in range(0, height, 5):\n",
    "            r, g, b = pic.getpixel((x, y))\n",
    "            if r == red and g == green and b == blue and math.sqrt((x-x_click)**2+(y-y_click)**2)>30:\n",
    "                click(xi+x, yi+y)\n",
    "                x_click = x\n",
    "                y_click = y\n",
    "            "
   ]
  }
 ],
 "metadata": {
  "kernelspec": {
   "display_name": "Python 3",
   "language": "python",
   "name": "python3"
  },
  "language_info": {
   "codemirror_mode": {
    "name": "ipython",
    "version": 3
   },
   "file_extension": ".py",
   "mimetype": "text/x-python",
   "name": "python",
   "nbconvert_exporter": "python",
   "pygments_lexer": "ipython3",
   "version": "3.8.8"
  }
 },
 "nbformat": 4,
 "nbformat_minor": 5
}
